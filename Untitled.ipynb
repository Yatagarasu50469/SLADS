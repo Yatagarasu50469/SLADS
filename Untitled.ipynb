{
 "cells": [
  {
   "cell_type": "code",
   "execution_count": null,
   "metadata": {},
   "outputs": [],
   "source": [
    "def FindNeighbors(TrainingInfo,MeasuredIdxs,UnMeasuredIdxs,MeasuredValues,Resolution):\n",
    "\n",
    "    # Find neighbors of  locations\n",
    "    Neigh = NearestNeighbors(n_neighbors=TrainingInfo.NumNbrs)\n",
    "    \n",
    "    \n",
    "    Neigh.fit(MeasuredIdxs)\n",
    "    NeighborDistances, NeighborIndices = Neigh.kneighbors(UnMeasuredIdxs)\n",
    "    NeighborDistances=NeighborDistances*Resolution\n",
    "    NeighborValues=MeasuredValues[NeighborIndices]\n",
    "    NeighborWeights=computeNeighborWeights(NeighborDistances,TrainingInfo)\n",
    "    \n",
    "    return(NeighborValues,NeighborWeights,NeighborDistances)\n",
    "\n"
   ]
  }
 ],
 "metadata": {
  "kernelspec": {
   "display_name": "Python 3",
   "language": "python",
   "name": "python3"
  },
  "language_info": {
   "codemirror_mode": {
    "name": "ipython",
    "version": 3
   },
   "file_extension": ".py",
   "mimetype": "text/x-python",
   "name": "python",
   "nbconvert_exporter": "python",
   "pygments_lexer": "ipython3",
   "version": "3.6.6"
  }
 },
 "nbformat": 4,
 "nbformat_minor": 2
}
