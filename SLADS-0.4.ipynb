{
 "cells": [
  {
   "cell_type": "code",
   "execution_count": 1,
   "metadata": {},
   "outputs": [],
   "source": [
    "#==================================================================\n",
    "#Program: SLADS_multichannel\n",
    "#Author(s): David Helminiak\n",
    "#Date Created: 4 October 2019\n",
    "#Date Last Modified: December 2019\n",
    "#Changelog: 0.1  - Migration, Integration for multichannel values - Oct. 2019\n",
    "#\n",
    "#==================================================================\n",
    "\n",
    "#==================================================================\n",
    "#ADDITIONAL NOTES:\n",
    "#==================================================================\n",
    "#Add Breakpoint anywhere in the program: \n",
    "#Tracer()()\n",
    "#\n",
    "#==================================================================\n",
    "\n",
    "#==================================================================\n",
    "#LIBRARY IMPORTS\n",
    "#==================================================================\n",
    "from __future__ import absolute_import, division, print_function\n",
    "#import tensorflow as tf\n",
    "#tf.enable_eager_execution() #Evaluate all operations without building graphs\n",
    "import cv2\n",
    "import copy\n",
    "import pandas as pd\n",
    "import numpy as np\n",
    "import numpy.matlib as matlib\n",
    "import matplotlib.pyplot as plt\n",
    "import multiprocessing\n",
    "import os\n",
    "import pickle\n",
    "import PIL\n",
    "import PIL.ImageOps\n",
    "import math\n",
    "import natsort\n",
    "import glob\n",
    "import re\n",
    "import random\n",
    "import sys\n",
    "import scipy\n",
    "import shutil\n",
    "import time\n",
    "import warnings\n",
    "warnings.filterwarnings(\"ignore\")\n",
    "from datetime import datetime\n",
    "from IPython import display\n",
    "from IPython.core.debugger import Tracer\n",
    "from joblib import Parallel, delayed\n",
    "from matplotlib.pyplot import figure\n",
    "from PIL import Image\n",
    "from scipy import misc\n",
    "from scipy import signal\n",
    "from scipy.io import loadmat\n",
    "from scipy.io import savemat\n",
    "from sklearn import linear_model\n",
    "from sklearn.utils import shuffle\n",
    "from skimage.util import view_as_windows as viewW\n",
    "from sklearn.neighbors import NearestNeighbors\n",
    "from skimage.measure import compare_ssim\n",
    "from skimage import filters\n",
    "from sobol import *\n",
    "from tqdm.auto import tqdm\n",
    "#==================================================================\n"
   ]
  },
  {
   "cell_type": "code",
   "execution_count": 2,
   "metadata": {},
   "outputs": [],
   "source": [
    "\n",
    "#General information regarding samples, used for testing and best C value determination\n",
    "class Sample:\n",
    "    def __init__(self, name, images, massRanges, maskObject, mzWeights, resultsPath):\n",
    "        self.name = name\n",
    "        self.images = images\n",
    "        self.massRanges = massRanges\n",
    "        self.maskObject = maskObject\n",
    "        self.mzWeights = mzWeights\n",
    "        self.measuredImages = []\n",
    "        for rangeNum in range(0,len(massRanges)):\n",
    "            self.measuredImages.append(np.zeros([maskObject.width, maskObject.height]))\n",
    "        self.resultsPath = resultsPath\n",
    "\n",
    "#Sample information for training the regression model\n",
    "class TrainingSample:\n",
    "    def __init__(self, name, images, maskObject, massRanges, measurementPerc, polyFeatures, reconImage, orderForRD, RD):\n",
    "        self.name = name\n",
    "        self.images = images\n",
    "        self.maskObject = maskObject\n",
    "        self.massRanges = massRanges\n",
    "        self.measurementPerc = measurementPerc\n",
    "        self.polyFeatures = polyFeatures\n",
    "        self.reconImage = reconImage\n",
    "        self.orderForRD = orderForRD\n",
    "        self.RD = RD\n",
    "\n",
    "class SLADSModel:\n",
    "    def __init__(self, massRange, theta, cValue):\n",
    "        self.massRange = massRange\n",
    "        self.theta = theta\n",
    "        self.cValue = cValue\n",
    "\n",
    "class Result():\n",
    "    def __init__(self, info, sample, avgImage, simulationFlag, animationFlag):\n",
    "        self.info = info\n",
    "        self.sample = sample\n",
    "        self.avgImage = avgImage\n",
    "        self.simulationFlag = simulationFlag\n",
    "        self.animationFlag = animationFlag\n",
    "        self.reconImages = []\n",
    "        #self.reconImageLists = []\n",
    "        self.masks = []\n",
    "        self.ERDValueNPs = []\n",
    "        self.TDList = []\n",
    "        self.MSEList = []\n",
    "        self.SSIMList = []\n",
    "        self.percMeasuredList = []\n",
    "        \n",
    "    def update(self, percMeasured, reconImage, reconImageList, maskObject, ERDValuesNP, iterNum, completedRunFlag):\n",
    "\n",
    "        #Save the model development\n",
    "        self.reconImages.append(reconImage)\n",
    "        #self.reconImageLists.append(reconImageList)\n",
    "        self.masks.append(maskObject.mask.copy())\n",
    "        self.ERDValueNPs.append(ERDValuesNP.copy())\n",
    "\n",
    "        if self.simulationFlag:\n",
    "            \n",
    "            #Find statistics of interest\n",
    "            difference = np.sum(computeDifference(self.avgImage, reconImage, self.info.imageType))\n",
    "            TD = difference/maskObject.area\n",
    "            MSE = (np.sum((reconImage.astype(\"float\") - self.avgImage.astype(\"float\")) ** 2))/(float(maskObject.area))\n",
    "            SSIM = compare_ssim(reconImage.astype(\"float\"), self.avgImage.astype(\"float\"))\n",
    "\n",
    "            #Save them for each timestep\n",
    "            self.TDList.append(TD)\n",
    "            self.MSEList.append(MSE)\n",
    "            self.SSIMList.append(SSIM)\n",
    "            self.percMeasuredList.append(percMeasured)\n",
    "        \n",
    "        #If an animation will be produced and the run has completed\n",
    "        if self.animationFlag and completedRunFlag:\n",
    "            \n",
    "            #Setup directory addresses\n",
    "            dir_mzResults = self.sample.resultsPath + 'mzResults/'\n",
    "            dir_mzSampleResults = dir_mzResults + self.sample.name + '/'\n",
    "        \n",
    "            dir_Animations = self.sample.resultsPath+ 'Animations/'\n",
    "            dir_AnimationVideos = dir_Animations + 'Videos/'\n",
    "            dir_AnimationFrames = dir_Animations + self.sample.name + '/'\n",
    "\n",
    "            #Clean directories\n",
    "            if os.path.exists(dir_AnimationFrames): shutil.rmtree(dir_AnimationFrames)    \n",
    "            os.makedirs(dir_AnimationFrames)\n",
    "        \n",
    "            if os.path.exists(dir_mzSampleResults): shutil.rmtree(dir_mzSampleResults)    \n",
    "            os.makedirs(dir_mzSampleResults)\n",
    "            \n",
    "        #If an animation should be produced and the run has completed for a simulation\n",
    "        if self.simulationFlag and self.animationFlag and completedRunFlag:\n",
    "            \n",
    "            #Normalize values\n",
    "            self.ERDValueNPs = (self.ERDValueNPs-np.min(self.ERDValueNPs))*((255.0-0.0)/(np.max(self.ERDValueNPs)-np.min(self.ERDValueNPs)))+0.0\n",
    "    \n",
    "            \n",
    "            #Save each of the individual mass range reconstructions\n",
    "            percSampled = \"{:.2f}\".format(self.percMeasuredList[len(self.percMeasuredList)-1])\n",
    "            for massNum in range(0, len(self.sample.massRanges)):\n",
    "                subReconImage = reconImageList[massNum].astype(\"float\")\n",
    "                mzImage = self.sample.images[massNum].astype(\"float\")\n",
    "                SSIM = \"{:.2f}\".format(compare_ssim(subReconImage, mzImage))\n",
    "                massRange = str(self.sample.massRanges[massNum][0]) + '-' + str(self.sample.massRanges[massNum][1])\n",
    "\n",
    "                font = {'size' : 18}\n",
    "                plt.rc('font', **font)\n",
    "                f = plt.figure(figsize=(15,5))\n",
    "                f.subplots_adjust(top = 0.80)\n",
    "                f.subplots_adjust(wspace=0.15, hspace=0.2)\n",
    "                plt.suptitle('Percent Sampled: ' + percSampled + '  Measurement mz: ' + massRange + '  SSIM: ' + SSIM, fontsize=20, fontweight='bold', y = 0.95)\n",
    "\n",
    "                sub = f.add_subplot(1,3,1)\n",
    "                sub.imshow(self.masks[len(self.masks)-1 ], cmap='gray', aspect='auto')\n",
    "                sub.set_title('Sampled Mask')\n",
    "\n",
    "                sub = f.add_subplot(1,3,2)\n",
    "                sub.imshow(mzImage * 255.0/mzImage.max(), cmap='hot', aspect='auto')\n",
    "                sub.set_title('Ground-Truth')\n",
    "\n",
    "                sub = f.add_subplot(1,3,3)\n",
    "                sub.imshow(subReconImage * 255.0/subReconImage.max(), cmap='hot', aspect='auto')\n",
    "                sub.set_title('Reconstruction')\n",
    "\n",
    "                saveLocation = dir_mzSampleResults + massRange +'.png'\n",
    "\n",
    "                plt.savefig(saveLocation, bbox_inches='tight')\n",
    "                plt.close()\n",
    "\n",
    "            \n",
    "            #Generate each of the frames\n",
    "            for i in range(0, len(self.masks)):\n",
    "\n",
    "                saveLocation = dir_AnimationFrames + 'stretched_' + self.sample.name + '_iter_' + str(i+1) + '_perc_' + str(self.percMeasuredList[i]) + '.png'\n",
    "                \n",
    "                font = {'size' : 18}\n",
    "                plt.rc('font', **font)\n",
    "                f = plt.figure(figsize=(15,15))\n",
    "\n",
    "                f.subplots_adjust(top = 0.85)\n",
    "                f.subplots_adjust(wspace=0.15, hspace=0.2)\n",
    "                plt.suptitle(\"Percent Sampled: %.2f, Measurement Iteration: %.0f\\nSSIM: %.2f\" % (self.percMeasuredList[i], i+1, self.SSIMList[i]), fontsize=20, fontweight='bold', y = 0.95)\n",
    "                sub = f.add_subplot(2,2,1)\n",
    "                sub.imshow(self.avgImage * 255.0/self.avgImage.max(), cmap='hot', aspect='auto')\n",
    "                sub.set_title('Ground-Truth')\n",
    "\n",
    "                sub = f.add_subplot(2,2,2)\n",
    "                sub.imshow(self.reconImages[i] * 255.0/self.reconImages[i].max(), cmap='hot', aspect='auto')\n",
    "                sub.set_title('Reconstructed Image')\n",
    "\n",
    "                sub = f.add_subplot(2,2,3)\n",
    "                sub.imshow(self.masks[i], cmap='gray', aspect='auto')\n",
    "                sub.set_title('Sampled Mask')\n",
    "\n",
    "                sub = f.add_subplot(2,2,4)\n",
    "                im = sub.imshow(self.ERDValueNPs[i]>0, cmap='gray', aspect='auto')\n",
    "                #im = sub.imshow(self.ERDValueNPs[i], cmap='viridis', vmin=0, vmax=255, aspect='auto')\n",
    "                sub.set_title('ERD Values > 0')\n",
    "                #cbar = f.colorbar(im, ax=sub, orientation='vertical', pad=0.01)\n",
    "                \n",
    "                plt.savefig(saveLocation, bbox_inches='tight')\n",
    "                plt.close()\n",
    "                \n",
    "            dataFileNames = natsort.natsorted(glob.glob(dir_AnimationFrames + 'stretched_*.png'))\n",
    "            height, width, layers = cv2.imread(dataFileNames[0]).shape\n",
    "            animation = cv2.VideoWriter(dir_AnimationVideos + 'stretched_' + self.sample.name + '.avi', cv2.VideoWriter_fourcc(*'MJPG'), 2, (width, height))\n",
    "            for specFileName in dataFileNames: animation.write(cv2.imread(specFileName))\n",
    "            animation.release()\n",
    "            animation = None\n",
    "\n",
    "class Info:\n",
    "    def __init__(self, reconMethod, featReconMethod, neighborWeightsPower, numNeighbors, filterType, featDistCutoff, resolution, imageType, shouldUpdate, minRadius, maxRadius, incRadius, numNbrs):\n",
    "        self.reconMethod = reconMethod\n",
    "        self.featReconMethod = featReconMethod\n",
    "        self.neighborWeightsPower = neighborWeightsPower\n",
    "        self.numNeighbors = numNeighbors\n",
    "        self.filterType = filterType\n",
    "        self.featDistCutoff = featDistCutoff\n",
    "        self.resolution = resolution\n",
    "        self.imageType = imageType\n",
    "        self.shouldUpdate = shouldUpdate\n",
    "        self.minRadius = minRadius\n",
    "        self.maxRadius = maxRadius\n",
    "        self.incRadius = incRadius\n",
    "        self.numNbrs = numNbrs\n",
    "\n",
    "#Storage location for the stopping parameters\n",
    "class StopCondParams:\n",
    "    def __init__(self, area, threshold, JforGradient, minPercentage, maxPercentage):\n",
    "        if area<512**2+1:\n",
    "            self.beta = 0.001*(((18-math.log(area,2))/2)+1)\n",
    "        else:\n",
    "            self.beta = 0.001/(((math.log(area,2)-18)/2)+1)\n",
    "        self.threshold = threshold\n",
    "        self.JforGradient = JforGradient\n",
    "        self.minPercentage = minPercentage\n",
    "        self.maxPercentage = maxPercentage\n",
    "\n",
    "#Each sample needs a mask object\n",
    "class MaskObject():\n",
    "    def __init__(self, width, height, measurementPercs):\n",
    "        self.width = width\n",
    "        self.height = height\n",
    "        self.area = width*height\n",
    "        self.initialMaskPts = []\n",
    "        self.percMasks = []\n",
    "        self.measuredIdxs = []\n",
    "        self.unMeasuredIdxs = []\n",
    "        self.initialMeasuredIdxs = []\n",
    "        self.initialUnMeasuredIdxs = []\n",
    "        self.unMeasuredIdxsList = []\n",
    "        self.measuredIdxsList = []\n",
    "        \n",
    "        #Generate a list of arrays contianing the x,y points that need to be scanned\n",
    "        self.linesToScan = []\n",
    "        for rowNum in np.arange(0,height,1):\n",
    "            line = []\n",
    "            for columnNum in np.arange(0, width, 1):\n",
    "                line.append(tuple([rowNum, columnNum]))\n",
    "            self.linesToScan.append(line)\n",
    "\n",
    "        #Generate the initial set of linesToScan\n",
    "        self.originalLinesToScan = copy.copy(self.linesToScan)\n",
    "        self.initialMask = np.zeros([height, width])\n",
    "\n",
    "        #Set which lines should be acquired in initial scan\n",
    "        lineIndexes = [\n",
    "            int((height-1)*0.1),\n",
    "            int((height-1)*0.50),\n",
    "            int((height-1)*0.9)\n",
    "        ]\n",
    "        \n",
    "        #Set which lines should be acquired in initial scan\n",
    "        for lineIndexNum in range(0, len(lineIndexes)):\n",
    "            #Subtract the number of lines deleted so far\n",
    "            lineIndex = lineIndexes[lineIndexNum]\n",
    "            for pt in self.linesToScan[lineIndex]: \n",
    "                self.initialMask[tuple(pt)] = 1\n",
    "                self.initialMaskPts.append(pt)\n",
    "\n",
    "        #Now delete the lines specified\n",
    "        for lineIndexNum in range(0, len(lineIndexes)): self.delLine(lineIndexes[lineIndexNum]-lineIndexNum)\n",
    "        \n",
    "        self.initialLinesToScan = copy.copy(self.linesToScan)\n",
    "        self.initialMeasuredIdxs = np.transpose(np.where(self.initialMask == 1))\n",
    "        self.initialUnMeasuredIdxs = np.transpose(np.where(self.initialMask == 0))\n",
    "        \n",
    "        #Create random initial percentage masks using point measurements instead of full lines\n",
    "        for measurementPerc in measurementPercs:\n",
    "            self.mask = np.zeros([height, width])\n",
    "            self.mask = np.random.rand(height, width) < (measurementPerc/100)\n",
    "            self.percMasks.append(self.mask)\n",
    "            self.measuredIdxsList.append(np.transpose(np.where(self.mask == 1)))\n",
    "            self.unMeasuredIdxsList.append(np.transpose(np.where(self.mask == 0)))\n",
    "        \n",
    "        #Create random line masks, using full lines\n",
    "#        for measurementPerc in measurementPercs:\n",
    "#            self.mask = copy.copy(self.initialMask)\n",
    "#            self.linesToScan = copy.copy(self.initialLinesToScan)\n",
    "#            self.measuredIdxs = copy.copy(self.initialMeasuredIdxs)\n",
    "#            self.unMeasuredIdxs = copy.copy(self.initialUnMeasuredIdxs)\n",
    "#            while (np.sum(self.mask)/self.area)*100 < measurementPerc:\n",
    "#                lineIndex = int((np.random.rand(1)[0]*len(self.linesToScan)))\n",
    "#                for pt in self.linesToScan[lineIndex]: self.mask[tuple(pt)] = 1\n",
    "#                self.delLine(lineIndex)\n",
    "#            self.percMasks.append(self.mask)\n",
    "#            self.measuredIdxsList.append(np.transpose(np.where(self.mask == 1)))\n",
    "#            self.unMeasuredIdxsList.append(np.transpose(np.where(self.mask == 0)))\n",
    "    \n",
    "    #Update the mask given a set of new measurement locations\n",
    "    def update(self, newIdxs):\n",
    "        for pt in newIdxs: self.mask[tuple(pt)] = 1\n",
    "        self.measuredIdxs = np.transpose(np.where(self.mask == 1))\n",
    "        self.unMeasuredIdxs = np.transpose(np.where(self.mask == 0))\n",
    "    \n",
    "    #Reset the training sample's mask and linesToScan to nothing having been scanned\n",
    "    def reset(self):\n",
    "        self.mask = np.zeros([self.height, self.width])\n",
    "        self.linesToScan = copy.copy(self.originalLinesToScan)\n",
    "        self.measuredIdxs = np.transpose(np.where(self.mask == 1))\n",
    "        self.unMeasuredIdxs = np.transpose(np.where(self.mask == 0))\n",
    "            \n",
    "    def delLine(self, index):\n",
    "        self.linesToScan = np.delete(self.linesToScan, index, 0)\n",
    "        \n",
    "    def delPoints(self, pts):\n",
    "        for i in range(0,len(self.linesToScan)):\n",
    "            indexes = []\n",
    "            for pt in pts:\n",
    "                indexes.append([i for i, j in enumerate(self.linesToScan[i]) if j == pt])\n",
    "            indexes = [x for x in np.asarray(indexes).flatten().tolist() if x != []]\n",
    "            if len(indexes) > 0:\n",
    "                self.linesToScan[i] = np.delete(self.linesToScan[i], indexes,0).tolist()\n",
    "\n",
    "def runSLADS(info, sample, maskObject, theta, stopPerc, simulationFlag, trainPlotFlag, animationFlag):\n",
    "    \n",
    "    #Reinitialize the mask state as blank\n",
    "    maskObject.reset()\n",
    "    \n",
    "    #Has the stopping condition been met yet\n",
    "    completedRunFlag = False\n",
    "    \n",
    "    #Current iteration\n",
    "    iterNum = 1\n",
    "    \n",
    "    #Assume variable Classify=='N' (artifact from original implementation)\n",
    "    \n",
    "    #Perform weighted averaging for the ground-truth image\n",
    "    if simulationFlag:\n",
    "        npImages = []\n",
    "        for image in sample.images: npImages.append(np.asarray(image))\n",
    "        avgImage = np.average(np.asarray(npImages), axis=0, weights=sample.mzWeights)\n",
    "\n",
    "    \n",
    "    #Initialize stopping condition object\n",
    "    stopCondParams = StopCondParams(maskObject.area, 0, 50, 2, stopPerc)\n",
    "    \n",
    "    #Determine stoppingCondition function value\n",
    "    stopCondFuncVal = np.zeros((int((maskObject.area)*(stopCondParams.maxPercentage)/100)+10,2))\n",
    "    \n",
    "    #Perform the initial measurements\n",
    "    sample, maskObject = performMeasurements(sample, maskObject, maskObject.initialMeasuredIdxs, simulationFlag)\n",
    "    \n",
    "    #Perform initial reconstruction and ERD calculation\n",
    "    reconImage, reconValues, ERDValues, ERDValuesNP, reconImageList, reconValuesList, ERDValueList = avgReconAndERD(sample, info, iterNum, maskObject, theta, reconImage=None, reconValues=None, ERDValues=None, ERDValuesNP=None, newIdxs=None, maxIdxsVect=None, reconImageList=None, reconValuesList=None, ERDValueList=None)\n",
    "\n",
    "    #Determine percentage pixels measured initially\n",
    "    percMeasured = (np.sum(maskObject.mask)/maskObject.area)*100\n",
    "\n",
    "    #Retrieve the averaged image's measured values\n",
    "    measuredValues = np.asarray(avgImage)[maskObject.mask == 1]\n",
    "    \n",
    "    #Check for completion state here just in case, prior to loop!\n",
    "    completedRunFlag = checkStopCondFuncThreshold(stopCondParams, stopCondFuncVal, maskObject, measuredValues, iterNum)\n",
    "    \n",
    "    #Additional stopping condition for if there are no more linesToScan\n",
    "    if len(maskObject.linesToScan) == 0: completedRunFlag = True\n",
    "    \n",
    "    #Initialize a result object\n",
    "    result = Result(info, sample, avgImage, simulationFlag, animationFlag)\n",
    "    result.update(percMeasured, reconImage, reconImageList, maskObject, ERDValuesNP, iterNum, completedRunFlag)\n",
    "    \n",
    "    #Until the stopping criteria has been met\n",
    "    with tqdm(total = float(stopPerc), desc = '% Sampled', leave = True) as pbar:\n",
    "        \n",
    "        #Initialize progress bar state according to % measured\n",
    "        pbar.n = round(percMeasured,2)\n",
    "        pbar.refresh()\n",
    "        \n",
    "        #Until the program has completed\n",
    "        while not completedRunFlag:\n",
    "            \n",
    "            #Step the iteration counter\n",
    "            iterNum += 1\n",
    "            \n",
    "            #Make a duplicate of the ReconValues for stop condition gradient test\n",
    "            oldReconValues = reconValues.copy()\n",
    "            \n",
    "            #Find next measurement locations\n",
    "            maskObject, newIdxs, maxIdxsVect = findNewMeasurementIdxs(info, maskObject, measuredValues, theta, reconValues, reconImage, ERDValues, ERDValuesNP)\n",
    "            \n",
    "            #Perform measurements\n",
    "            sample, maskObject = performMeasurements(sample, maskObject, newIdxs, simulationFlag)\n",
    "            \n",
    "            #Perform reconstruction and ERD calculation\n",
    "            reconImage, reconValues, ERDValues, ERDValuesNP, reconImageList, reconValuesList, ERDValueList = avgReconAndERD(sample, info, iterNum, maskObject, theta, reconImage, reconValues, ERDValues, ERDValuesNP, newIdxs, maxIdxsVect, reconImageList, reconValuesList, ERDValueList)\n",
    "            \n",
    "            #Update the percentage of pixels that have beene measured\n",
    "            percMeasured = (np.sum(maskObject.mask)/maskObject.area)*100\n",
    "            \n",
    "            #Evaluate the stop condition value \n",
    "            stopCondFuncVal = computeStopCondFuncVal(oldReconValues, measuredValues, stopCondParams, info, stopCondFuncVal, maxIdxsVect, iterNum, maskObject)\n",
    "            \n",
    "            #Retrieve the averaged image's measured values\n",
    "            measuredValues = np.asarray(avgImage)[maskObject.mask == 1]\n",
    "            \n",
    "            #Check the stopping condition\n",
    "            completedRunFlag = checkStopCondFuncThreshold(stopCondParams, stopCondFuncVal, maskObject, measuredValues, iterNum)\n",
    "            \n",
    "            #Additional stopping condition for if there are no more linesToScan\n",
    "            if len(maskObject.linesToScan) == 0: completedRunFlag = True\n",
    "            \n",
    "            #Store information to the resultsObject \n",
    "            result.update(percMeasured, reconImage, reconImageList, maskObject, ERDValuesNP, iterNum, completedRunFlag)\n",
    "\n",
    "            #Update the progress bar\n",
    "            pbar.n = round(percMeasured,2)\n",
    "            pbar.refresh()\n",
    "    \n",
    "    return result\n",
    "\n",
    "def findNewMeasurementIdxs(info, maskObject, measuredValues, theta, reconValues, reconImage, ERDValues, ERDValuesNP):\n",
    "    newIdxs = []\n",
    "    maxIdxsVect = []\n",
    "    \n",
    "    #Assuming manual angle selection; sum ERD for all lines\n",
    "    lineERDSums = []\n",
    "    for line in maskObject.linesToScan:\n",
    "        lineERDSums.append(np.nansum(ERDValuesNP[tuple([x[0] for x in line]), tuple([y[1] for y in line])]))\n",
    "    \n",
    "    lineToScanIdx = np.nanargmax(lineERDSums)\n",
    "    \n",
    "    #Set threshold for what ERD Values are worth scanning the locations of\n",
    "    threshold = 0\n",
    "    #threshold = np.mean(ERDValuesNP[np.where((ERDValuesNP > 0))])\n",
    "\n",
    "    #If there is ERD > 0 in the determined line\n",
    "    if lineERDSums[lineToScanIdx] > 0:\n",
    "    \n",
    "        #Grab the ERD values in that line\n",
    "        idxsList = [tuple(idx) for idx in maskObject.linesToScan[lineToScanIdx]]\n",
    "        idxsX, idxsY = map(list, zip(*[tuple(idx) for idx in maskObject.linesToScan[lineToScanIdx]]))\n",
    "        lineERDValues = ERDValuesNP[np.asarray(idxsX), np.asarray(idxsY)]\n",
    "        \n",
    "        #Find all locations above the threshold\n",
    "        idxs = np.argwhere(lineERDValues > threshold)\n",
    "        if len(idxs) > 0:\n",
    "            newIdxs = maskObject.linesToScan[lineToScanIdx][idxs[0][0]:idxs[len(idxs)-1][0]+1]\n",
    "        else:\n",
    "            #No location was found over the threshold, just scan the full line\n",
    "            newIdxs = maskObject.linesToScan[lineToScanIdx]\n",
    "    else:\n",
    "        #Just choose a line to scan...\n",
    "        newIdxs = maskObject.linesToScan[lineToScanIdx]\n",
    "\n",
    "    #Remove the line selected from further consideration\n",
    "    maskObject.delLine(lineToScanIdx)\n",
    "\n",
    "    unMeasuredIdxsList = maskObject.unMeasuredIdxs.tolist()\n",
    "    ptArray = np.asarray(newIdxs).tolist()\n",
    "    for k in range(0, len(newIdxs)):\n",
    "        pt = ptArray[k]\n",
    "        if pt in unMeasuredIdxsList:\n",
    "            maxIdxsVect.append(unMeasuredIdxsList.index(pt))\n",
    "\n",
    "    newIdxs = np.asarray(newIdxs) #Actual coordinates to measure next\n",
    "    maxIdxsVect = np.asarray(maxIdxsVect) #Positions of those coordinates within the unmeasured listing\n",
    "\n",
    "    return maskObject, newIdxs, maxIdxsVect\n",
    "\n",
    "def avgReconAndERD(sample, info, iterNum, maskObject, theta, reconImage, reconValues, ERDValues, ERDValuesNP, newIdxs, maxIdxsVect, reconImageList, reconValuesList, ERDValueList):\n",
    "    \n",
    "    #Find neighbor information\n",
    "    neighborIndices, neighborWeights, neighborDistances = findNeighbors(info, maskObject.measuredIdxs, maskObject.unMeasuredIdxs)\n",
    "    \n",
    "    if iterNum >= 1:\n",
    "        #For all of the images in the sample, find the recon Images, Values, and ERD Values\n",
    "        reconImageList = []\n",
    "        reconValuesList = []\n",
    "        ERDValueList = []\n",
    "        for image in sample.measuredImages:\n",
    "            \n",
    "            #Retrieve the measured values\n",
    "            measuredValues = np.asarray(image)[maskObject.mask == 1]\n",
    "            \n",
    "            #Find neighborhood values\n",
    "            neighborValues = findNeighborValues(measuredValues, neighborIndices)\n",
    "\n",
    "            #Compute reconstructions\n",
    "            reconValues, reconImage = computeRecons(info, maskObject, maskObject.unMeasuredIdxs, maskObject.measuredIdxs, neighborValues, neighborWeights, measuredValues)\n",
    "\n",
    "            #Compute full ERD Values\n",
    "            ERDValues = computeFullERD(info, maskObject, measuredValues, reconValues, reconImage, theta, neighborValues, neighborWeights, neighborDistances)\n",
    "            \n",
    "            #Store results\n",
    "            reconImageList.append(reconImage)\n",
    "            reconValuesList.append(reconValues)\n",
    "            ERDValueList.append(ERDValues)\n",
    "\n",
    "    else:\n",
    "        sys.exit('Error! - Turned off the computeUpdateERD function!')\n",
    "        #Perform updates to the individual reconValues reconImages and ERDValues\n",
    "        for imageNum in range(0,len(sample.measuredImages)):\n",
    "            #Retrieve the measured values\n",
    "            measuredValues = np.asarray(sample.measuredImages[imageNum])[maskObject.mask == 1]\n",
    "            \n",
    "            #Update the ERD Values\n",
    "            reconValuesList[imageNum], reconImageList[imageNum], ERDValueList[imageNum] = computeUpdateERD(maskObject, measuredValues, theta, info, newIdxs, reconValuesList[imageNum], reconImageList[imageNum], ERDValueList[imageNum], maxIdxsVect)\n",
    "\n",
    "    #Perform weighted averaging\n",
    "    reconImage = np.average(np.asarray(reconImageList), axis=0, weights=sample.mzWeights)\n",
    "    reconValues = np.average(np.asarray(reconValuesList), axis=0, weights=sample.mzWeights)\n",
    "    ERDValues = np.average(np.asarray(ERDValueList), axis=0, weights=sample.mzWeights)\n",
    "    \n",
    "    #Convert ERDValues from 1D to 2D\n",
    "    ERDValuesNP = makeERDArray(ERDValues, maskObject, reconImage)\n",
    "    \n",
    "    return reconImage, reconValues, ERDValues, ERDValuesNP, reconImageList, reconValuesList, ERDValueList\n",
    "\n",
    "def computeFullERD(info, maskObject, measuredValues, reconValues, reconImage, theta, neighborValues, neighborWeights, neighborDistances):\n",
    "\n",
    "    # Compute features\n",
    "    polyFeatures = computeFeatures(maskObject.unMeasuredIdxs, maskObject.area, neighborValues, neighborWeights, neighborDistances, info, reconValues, reconImage)\n",
    "    \n",
    "    # Compute ERD\n",
    "    ERDValues = polyFeatures.dot(theta)\n",
    "    \n",
    "    return ERDValues\n",
    "\n",
    "def computeUpdateERD(maskObject, measuredValues, theta, info, newIdxs, reconValues, reconImage, ERDValues, maxIdxsVect):  \n",
    "\n",
    "    ERDValues = np.delete(ERDValues,(maxIdxsVect))\n",
    "    \n",
    "    reconValues = np.delete(reconValues,(maxIdxsVect))\n",
    "    \n",
    "    suggestedRadius = int(np.sqrt((1/np.pi)*(maskObject.area*info.numNbrs/np.shape(measuredValues)[0])))\n",
    "    \n",
    "    updateRadiusTemp = np.max([suggestedRadius, info.minRadius]);\n",
    "    \n",
    "    updateRadius = int(np.min([info.maxRadius, updateRadiusTemp]));\n",
    "\n",
    "    updateRadiusMat = np.zeros((maskObject.height, maskObject.width))\n",
    "    \n",
    "    while(True):\n",
    "        for newIdxNum in range(0,len(newIdxs)):\n",
    "            #height and width might be reversed\n",
    "            updateRadiusMat[max(newIdxs[newIdxNum][0]-updateRadius,0):min(newIdxs[newIdxNum][0]+updateRadius,maskObject.height)][:,max(newIdxs[newIdxNum][1]-updateRadius,0):min(newIdxs[newIdxNum][1]+updateRadius,maskObject.width)]=1\n",
    "        updateIdxs = np.where(updateRadiusMat[maskObject.mask==0]==1)\n",
    "        smallUnMeasuredIdxs = np.transpose(np.where(np.logical_and(maskObject.mask==0, updateRadiusMat==1)))\n",
    "        if smallUnMeasuredIdxs.size == 0:\n",
    "            updateRadius = int(updateRadius*info.incRadius)\n",
    "        else:\n",
    "            break\n",
    "    \n",
    "    #Determine neighborhood information\n",
    "    smallNeighborIndicies, smallNeighborWeights, smallNeighborDistances = findNeighbors(info, maskObject.measuredIdxs, smallUnMeasuredIdxs)\n",
    "    \n",
    "    smallNeighborValues = findNeighborValues(measuredValues, smallNeighborIndicies)\n",
    "    \n",
    "    # Perform reconstruction\n",
    "    smallReconValues = computeWeightedMRecons(smallNeighborValues, smallNeighborWeights, info)\n",
    "    \n",
    "    reconImage[(np.logical_and(maskObject.mask==0, updateRadiusMat==1))] = smallReconValues\n",
    "    reconImage[maskObject.measuredIdxs[:,0], maskObject.measuredIdxs[:,1]] = measuredValues\n",
    "\n",
    "    # Compute features\n",
    "    smallPolyFeatures = computeFeatures(smallUnMeasuredIdxs, maskObject.area, smallNeighborValues, smallNeighborWeights, smallNeighborDistances, info, smallReconValues, reconImage)\n",
    "\n",
    "    # Compute ERD\n",
    "    smallERDValues = smallPolyFeatures.dot(theta)\n",
    "    reconValues[updateIdxs[0]] = smallReconValues\n",
    "    ERDValues[updateIdxs] = smallERDValues\n",
    "    \n",
    "    return reconValues, reconImage, ERDValues\n",
    "\n",
    "def makeERDArray(ERDValues, maskObject, reconImage):\n",
    "    #Rearrange ERD values into array; those that have already been measured have 0 ERD\n",
    "    ERDValuesNP = np.zeros([maskObject.height, maskObject.width])\n",
    "    \n",
    "    #Copy over ERD values for unmeasured points\n",
    "    for i in range(0, len(maskObject.unMeasuredIdxs)): ERDValuesNP[maskObject.unMeasuredIdxs[i][0], maskObject.unMeasuredIdxs[i][1]] = ERDValues[i]\n",
    "    \n",
    "    #Remove values that are less than those already scanned (0 ERD)\n",
    "    ERDValuesNP[np.where((ERDValuesNP < 0))] = 0\n",
    "    \n",
    "    #Normalize values\n",
    "    #ERDValuesNP = (ERDValuesNP-np.min(ERDValuesNP))*((255.0-0.0)/(np.max(ERDValuesNP)-np.min(ERDValuesNP)))+0.0\n",
    "    \n",
    "    #Change the values based on the reconImage directly\n",
    "    #ERDValuesNP[np.where((reconImage == 0)))] = 0\n",
    "\n",
    "    return ERDValuesNP\n",
    "\n",
    "def checkStopCondFuncThreshold(stopCondParams, StopCondFuncVal, maskObject, measuredValues, iterNum):\n",
    "    \n",
    "    if stopCondParams.threshold == 0:\n",
    "        if np.shape(measuredValues)[0] >= round(maskObject.area*stopCondParams.maxPercentage/100):\n",
    "            return True\n",
    "        else:\n",
    "            return False\n",
    "    else:\n",
    "        if np.shape(measuredValues)[0] >= round(maskObject.area*stopCondParams.maxPercentage/100):\n",
    "            return True\n",
    "        else:\n",
    "            if np.logical_and(((maskObject.area)*stopCondParams.minPercentage/100)<np.shape(measuredValues)[0], stopCondFuncVal[iterNum,0]<stopCondParams.threshold):\n",
    "                gradStopCondFunc = np.mean(stopCondFuncVal[iterNum,0]-stopCondFuncVal[iterNum-stopCondParams.JforGradient:iterNum-1,0])\n",
    "                if gradStopCondFunc < 0:\n",
    "                    return True\n",
    "            else:\n",
    "                return False\n",
    "\n",
    "def computeStopCondFuncVal(reconValues, measuredValues, stopCondParams, info, stopCondFuncVal, maxIdxsVect, iterNum, maskObject):\n",
    "    \n",
    "    #Calculate the difference in values between the previous reconstruction values against the measured values\n",
    "    diff = 0\n",
    "    for i in range(0, len(maxIdxsVect)):\n",
    "        a = reconValues[maxIdxsVect[i]]\n",
    "        b = measuredValues[len(measuredValues)-len(maxIdxsVect)+i]\n",
    "        diff = computeDifference(a, b, info.imageType) + diff\n",
    "    diff = diff/len(measuredValues)\n",
    "    \n",
    "    if iterNum == 1:\n",
    "        stopCondFuncVal[iterNum,0] = stopCondParams.beta*diff\n",
    "    else:\n",
    "        stopCondFuncVal[iterNum,0] = ((1-stopCondParams.beta)*stopCondFuncVal[iterNum-1,0] + stopCondParams.beta*diff)\n",
    "    \n",
    "    stopCondFuncVal[iterNum,1] = np.shape(measuredValues)[0]\n",
    "    \n",
    "    return stopCondFuncVal               \n",
    "\n",
    "def findNeighbors(info, measuredIdxs, unMeasuredIdxs):\n",
    "    \n",
    "    neigh = NearestNeighbors(n_neighbors=info.numNeighbors)\n",
    "    neigh.fit(measuredIdxs)\n",
    "    neighborDistances, neighborIndices = neigh.kneighbors(unMeasuredIdxs)\n",
    "    neighborDistances = neighborDistances*info.resolution\n",
    "    unNormNeighborWeights = 1/np.power(neighborDistances, info.neighborWeightsPower)\n",
    "    sumOverRow = (np.sum(unNormNeighborWeights, axis=1))\n",
    "    neighborWeights = unNormNeighborWeights/sumOverRow[:, np.newaxis]\n",
    "    \n",
    "    return neighborIndices, neighborWeights, neighborDistances\n",
    "\n",
    "def findNeighborValues(measuredValues, neighborIndices):\n",
    "    return measuredValues[neighborIndices]\n",
    "\n",
    "def computeRecons(info, maskObject, unMeasuredIdxs, measuredIdxs, neighborValues, neighborWeights, measuredValues):\n",
    "    reconValues = computeWeightedMRecons(neighborValues, neighborWeights, info)\n",
    "    reconImage = np.zeros((maskObject.height, maskObject.width))\n",
    "    reconImage[unMeasuredIdxs[:,0], unMeasuredIdxs[:,1]] = reconValues\n",
    "    reconImage[measuredIdxs[:,0], measuredIdxs[:,1]] = measuredValues\n",
    "    return(reconValues, reconImage)\n",
    "\n",
    "def computeWeightedMRecons(neighborValues, neighborWeights, info):\n",
    "    if info.featReconMethod=='DWM':\n",
    "        classLabels = np.unique(neighborValues)\n",
    "        classWeightSums = np.zeros((np.shape(neighborWeights)[0], np.shape(classLabels)[0]))\n",
    "        for i in range(0,np.shape(classLabels)[0]):\n",
    "            tempFeats = np.zeros((np.shape(neighborWeights)[0], np.shape(neighborWeights)[1]))\n",
    "            np.copyto(tempFeats, neighborWeights)\n",
    "            tempFeats[neighborValues != classLabels[i]]=0\n",
    "            classWeightSums[:,i] = np.sum(tempFeats, axis=1)\n",
    "        reconValues = classLabels[np.argmax(classWeightSums, axis=1)]\n",
    "    elif info.featReconMethod=='CWM':\n",
    "        reconValues = np.sum(neighborValues*neighborWeights, axis=1)\n",
    "    return reconValues\n",
    "\n",
    "def computeFeatures(unMeasuredIdxs, area, neighborValues, neighborWeights, neighborDistances, info, reconValues, reconImage):\n",
    "    feature = np.zeros((np.shape(unMeasuredIdxs)[0],6))\n",
    "\n",
    "    # Compute std div features\n",
    "    diffVect = computeDifference(neighborValues, np.transpose(np.matlib.repmat(reconValues, np.shape(neighborValues)[1],1)), info.imageType)\n",
    "    feature[:,0] = np.sum(neighborWeights*diffVect, axis=1)\n",
    "    feature[:,1] = np.sqrt((1/info.numNeighbors)*np.sum(np.power(diffVect,2),axis=1))\n",
    "    \n",
    "    # Compute distance/density features\n",
    "    cutoffDist = np.ceil(np.sqrt((info.featDistCutoff/100)*(area/np.pi)))\n",
    "    feature[:,2] = neighborDistances[:,0]\n",
    "    neighborsInCircle = np.sum(neighborDistances <= cutoffDist, axis=1)\n",
    "    feature[:,3] = (1+(np.pi*(np.power(cutoffDist, 2))))/(1+np.sum(neighborDistances <= cutoffDist, axis=1))\n",
    "\n",
    "    # Compute gradient features\n",
    "    gradientImageX, gradientImageY = np.gradient(reconImage)\n",
    "\n",
    "    #Assume continuous features\n",
    "    gradientImageX = abs(gradientImageX)\n",
    "    gradientImageY = abs(gradientImageY)\n",
    "    feature[:,4] = gradientImageY[unMeasuredIdxs[:,0], unMeasuredIdxs[:,1]]\n",
    "    feature[:,5] = gradientImageX[unMeasuredIdxs[:,0], unMeasuredIdxs[:,1]]\n",
    "    \n",
    "    #David Addition; add the actual reconstruction values for the unmeasured positions\n",
    "    #feature[:,6] = reconImage[unMeasuredIdxs[:,0], unMeasuredIdxs[:,1]]\n",
    "    \n",
    "    #Compute polyfeatures\n",
    "    polyFeatures = np.hstack([np.ones((np.shape(feature)[0],1)), feature])\n",
    "    for i in range(0, np.shape(feature)[1]):\n",
    "        for j in range(i, np.shape(feature)[1]):\n",
    "            temp = feature[:,i]*feature[:,j]\n",
    "            polyFeatures = np.column_stack([polyFeatures, feature[:,i]*feature[:,j]])\n",
    "    return polyFeatures\n",
    "\n",
    "def computeDifference(array1, array2, imageType):\n",
    "    if imageType == 'C':\n",
    "        return abs(array1-array2)\n",
    "    elif imageType == 'D':\n",
    "        difference = array1 != array2\n",
    "        return difference.astype(float)\n",
    "    else:\n",
    "        sys.exit('Error! - Unexpected imageType declared')\n",
    "        return 0\n",
    "    \n",
    "def cls(): #Clear console screen\n",
    "    os.system('cls' if os.name=='nt' else 'clear')   \n",
    "    \n",
    "def generateGaussianKernel(sigma, windowSize):\n",
    "    return np.outer(signal.gaussian(windowSize[0], std=sigma), signal.gaussian(windowSize[1], std=sigma)).flatten()\n",
    "\n",
    "def percResults(results, perc_testingResults, precision):\n",
    "    percents = np.arange(min(np.hstack(perc_testingResults)),max(np.hstack(perc_testingResults))+precision, precision)\n",
    "    averages = []\n",
    "    finalPercents = []\n",
    "    for percent in percents:\n",
    "        values = []\n",
    "        for i in range(0,len(results)):\n",
    "            percList = np.array(perc_testingResults[i])\n",
    "            idx = np.argmin(np.abs(np.asarray(percList)-percent))\n",
    "            values.append(results[i][idx])\n",
    "        averageValue = np.mean(values)\n",
    "        if len(averages) == 0 or averageValue != averages[len(averages)-1]:\n",
    "            averages.append(np.mean(values))\n",
    "            finalPercents.append(percent)\n",
    "    return finalPercents, averages\n",
    "\n",
    "def testing_parhelper(testingSampleFolder, info, bestTheta, stopPerc, animationGeneration):\n",
    "    dataSampleName = os.path.basename(testingSampleFolder)\n",
    "    \n",
    "    #Obtain testing images\n",
    "    images = []\n",
    "    massRanges = []\n",
    "    for imageFileName in natsort.natsorted(glob.glob(testingSampleFolder + '/*.' + 'csv'), reverse=False):\n",
    "        images.append(np.nan_to_num(np.loadtxt(imageFileName, delimiter=',')))\n",
    "        massRanges.append([os.path.basename(imageFileName)[2:10], os.path.basename(imageFileName)[11:19]])\n",
    "        #images.append(Image.fromarray((libtiff.TIFF.open(imageFileName).read_image()*255.0).astype('uint8')).convert('L') )\n",
    "    \n",
    "    #Read in the width and height; when RAW files are supported\n",
    "    #width, height = pd.read_csv(testingSampleFolder+'/dimensions.csv', sep=',', header=None).values[0].tolist()\n",
    "    height, width = images[0].shape\n",
    "    \n",
    "    #Create a new maskObject\n",
    "    maskObject = MaskObject(width, height, measurementPercs=[])\n",
    "    \n",
    "    #How should the mz ranges be weighted (all equal for now)\n",
    "    mzWeights = np.ones(len(images))/len(images)\n",
    "    \n",
    "    #Define information as a new Sample object\n",
    "    testingSample = Sample(dataSampleName, images, massRanges, maskObject, mzWeights, dir_TestingResults)\n",
    "    \n",
    "    #Run SLADS till its stopping condition has been met\n",
    "    return runSLADS(info, testingSample, maskObject, bestTheta, stopPerc, simulationFlag=True, trainPlotFlag=False, animationFlag=animationGeneration)\n",
    "    \n",
    "def performMeasurements(sample, maskObject, newIdxs, simulationFlag):\n",
    "    #Update the maskObject according to the newIdxs\n",
    "    maskObject.update(newIdxs)\n",
    "    \n",
    "    #If performing training\n",
    "    if simulationFlag:\n",
    "        #Obtain values from the stored image information\n",
    "        for imageNum in range(0,len(sample.measuredImages)):\n",
    "            temp = np.asarray(sample.images[imageNum]).copy()\n",
    "            temp[maskObject.mask == 0] = 0\n",
    "            sample.measuredImages[imageNum] = temp.copy()\n",
    "    else:\n",
    "        sys.exit('ERROR! - Runtime variation for perform measurements has not yet been implemented!')\n",
    "        #For pt in newIdxs\n",
    "        #Read in the designated locations tuple(pt) to a .RAW file\n",
    "        #Perform discretizations for sample.mzRanges\n",
    "        #For each of the discretizations to be stored\n",
    "        #for imageNum in range(0,len(sample.measuredImages)):\n",
    "            #sample.measuredImages[imageNum][tuple(pt)] = correspondingValue\n",
    "    return sample, maskObject\n",
    "\n",
    "#==================================================================\n"
   ]
  },
  {
   "cell_type": "code",
   "execution_count": null,
   "metadata": {},
   "outputs": [],
   "source": []
  },
  {
   "cell_type": "code",
   "execution_count": 3,
   "metadata": {},
   "outputs": [],
   "source": [
    "#ESSENTIALLY NON-ESSENTIAL PARAMETERS\n",
    "#==================================================================\n",
    "#Running in a console/True, notebook/False\n",
    "consoleRunning = False\n",
    "\n",
    "#ESSENTIALLY NON-ESSENTIAL SETUP\n",
    "#==================================================================\n",
    "#Clear the screen\n",
    "cls()\n",
    "\n",
    "#Determine console size if applicable\n",
    "if consoleRunning:\n",
    "    consoleRows, consoleColumns = os.popen('stty size', 'r').read().split()\n",
    "else:\n",
    "    consoleRows, consoleColumns = 40, 40"
   ]
  },
  {
   "cell_type": "code",
   "execution_count": 4,
   "metadata": {},
   "outputs": [],
   "source": [
    "#==================================================================\n",
    "#MAIN PROGRAM\n",
    "#==================================================================\n",
    "\n",
    "#GENERAL PARAMETERS: L-01\n",
    "#==================================================================\n",
    "#Is training of a model to be performed\n",
    "trainingModel = True\n",
    "\n",
    "#Is testing of a model to be performed\n",
    "testingModel = True\n",
    "\n",
    "#STATIC VARIABLE SETUP\n",
    "#==================================================================\n",
    "\n",
    "#Sampling percentages for training\n",
    "measurementPercs = [1,5,10,20,30,40]\n",
    "\n",
    "#Possible c values for RD approximation\n",
    "cValues = np.array([3, 4, 5])\n",
    "#cValues = np.array([1,2,4,8,16,32,64,128])\n",
    "\n",
    "#Type of Images: D - for discrete (binary) image; C - for continuous\n",
    "imageType = 'C'\n",
    "\n",
    "#Window size for approximate RD summation - 15 for 512x512\n",
    "windowSize = [3, 21]\n",
    "\n",
    "#Should a stopping threshold be found that corresponds to the best determined c value\n",
    "findStopThresh = False\n",
    "\n",
    "#ERD update parameters\n",
    "shouldUpdate = True\n",
    "minRadius = 3\n",
    "maxRadius = 10\n",
    "incRadius = 1.5\n",
    "numNbrs = 10\n",
    "\n",
    "#Initialize the information object for training and testing\n",
    "#reconMethod, featReconMethod, neighborWeightsPower, numNeighbors, filterType, featDistCutoff, resolution\n",
    "info = Info('CWM', 'CWM', 2, 10, 'Gaussian', 0.25, 1, imageType, shouldUpdate, minRadius, maxRadius, incRadius, numNbrs)\n",
    "\n",
    "#Should animations be generated during testing/implementation\n",
    "animationGeneration = True\n",
    "\n",
    "#Percent of reduction in distrotion limit for numRandomChoice determination\n",
    "percOfRD = 50\n",
    "\n",
    "#Stopping percentage of pixels\n",
    "stopPerc = 50\n",
    "\n",
    "#Set the number of available CPU threads\n",
    "num_threads = multiprocessing.cpu_count()-2 #Leave a couple to spare\n"
   ]
  },
  {
   "cell_type": "code",
   "execution_count": 5,
   "metadata": {},
   "outputs": [],
   "source": [
    "#PATH/DIRECTORY SETUP\n",
    "#==================================================================\n",
    "dir_ResultsAndData = '.' + os.path.sep + 'ResultsAndData' + os.path.sep\n",
    "dir_InputData = dir_ResultsAndData + 'InputData' + os.path.sep\n",
    "\n",
    "dir_TrainingData = dir_InputData + 'TrainingData' + os.path.sep\n",
    "dir_TestingData = dir_InputData + 'TestingData' + os.path.sep\n",
    "\n",
    "dir_Results = dir_ResultsAndData + 'Results' + os.path.sep\n",
    "\n",
    "dir_TrainingResults = dir_Results + 'TrainingResults' + os.path.sep\n",
    "dir_TrainingResultsImages = dir_TrainingResults + 'Images' + os.path.sep\n",
    "\n",
    "dir_TestingResults = dir_Results + 'TestingResults' + os.path.sep\n",
    "dir_TestingResultsImages = dir_TestingResults + 'Images' + os.path.sep\n",
    "\n",
    "#Check general directory structure\n",
    "if not os.path.exists(dir_ResultsAndData):\n",
    "    sys.exit('Error - dir_ResultsAndData does not exist')\n",
    "\n",
    "#Input data directories\n",
    "if not os.path.exists(dir_InputData):\n",
    "    sys.exit('Error - dir_InputData does not exist')\n",
    "if not os.path.exists(dir_TrainingData) and trainingModel:\n",
    "    sys.exit('Error - dir_TrainingData does not exist')\n",
    "if not os.path.exists(dir_TestingData) and testingModel:\n",
    "    sys.exit('Error - dir_InputData does not exist')\n",
    "\n",
    "#Results directories - reset results folders for new runs\n",
    "if not os.path.exists(dir_Results):\n",
    "    sys.exit('Error - dir_Results does not exist')\n",
    "if trainingModel:\n",
    "    if os.path.exists(dir_TrainingResults):\n",
    "        shutil.rmtree(dir_TrainingResults)\n",
    "    os.makedirs(dir_TrainingResults)\n",
    "    os.makedirs(dir_TrainingResultsImages)    \n",
    "    \n",
    "if testingModel:\n",
    "    if os.path.exists(dir_TestingResults):\n",
    "        shutil.rmtree(dir_TestingResults)    \n",
    "    os.makedirs(dir_TestingResults)\n",
    "\n",
    "if animationGeneration:\n",
    "    dir_Animations = dir_TestingResults + 'Animations/'\n",
    "    dir_AnimationVideos = dir_Animations + 'Videos/'\n",
    "    dir_mzResults = dir_TestingResults + 'mzResults/'\n",
    "    \n",
    "    if os.path.exists(dir_Animations): shutil.rmtree(dir_Animations)    \n",
    "    os.makedirs(dir_Animations)\n",
    "    if os.path.exists(dir_AnimationVideos): shutil.rmtree(dir_AnimationVideos)    \n",
    "    os.makedirs(dir_AnimationVideos)\n",
    "    if os.path.exists(dir_mzResults): shutil.rmtree(dir_mzResults)    \n",
    "    os.makedirs(dir_mzResults)"
   ]
  },
  {
   "cell_type": "code",
   "execution_count": 6,
   "metadata": {
    "scrolled": true
   },
   "outputs": [
    {
     "name": "stdout",
     "output_type": "stream",
     "text": [
      "\n",
      "\n",
      "########################################\n",
      "PERFORMING INTITIAL COMPUTATIONS\n",
      "########################################\n",
      "\n"
     ]
    },
    {
     "data": {
      "application/vnd.jupyter.widget-view+json": {
       "model_id": "571cf4edf3c9432ea4cc4c5210b67a04",
       "version_major": 2,
       "version_minor": 0
      },
      "text/plain": [
       "SEJveChjaGlsZHJlbj0oRmxvYXRQcm9ncmVzcyh2YWx1ZT0wLjAsIGRlc2NyaXB0aW9uPXUnVHJhaW5pbmcgU2FtcGxlcycsIG1heD0xMC4wLCBzdHlsZT1Qcm9ncmVzc1N0eWxlKGRlc2NyaXDigKY=\n"
      ]
     },
     "metadata": {},
     "output_type": "display_data"
    },
    {
     "data": {
      "application/vnd.jupyter.widget-view+json": {
       "model_id": "433ae452ef434eeb8e4aedd7257109ea",
       "version_major": 2,
       "version_minor": 0
      },
      "text/plain": [
       "SEJveChjaGlsZHJlbj0oRmxvYXRQcm9ncmVzcyh2YWx1ZT0wLjAsIGRlc2NyaXB0aW9uPXUnTWVhc3VyZW1lbnQgJScsIG1heD02LjAsIHN0eWxlPVByb2dyZXNzU3R5bGUoZGVzY3JpcHRpb27igKY=\n"
      ]
     },
     "metadata": {},
     "output_type": "display_data"
    },
    {
     "data": {
      "application/vnd.jupyter.widget-view+json": {
       "model_id": "1ccbdf450876494aa2e753e689354edd",
       "version_major": 2,
       "version_minor": 0
      },
      "text/plain": [
       "SEJveChjaGlsZHJlbj0oRmxvYXRQcm9ncmVzcyh2YWx1ZT0wLjAsIGRlc2NyaXB0aW9uPXUnSW1hZ2UgRmVhdHVyZXMnLCBtYXg9ODcuMCwgc3R5bGU9UHJvZ3Jlc3NTdHlsZShkZXNjcmlwdGnigKY=\n"
      ]
     },
     "metadata": {},
     "output_type": "display_data"
    },
    {
     "name": "stdout",
     "output_type": "stream",
     "text": [
      "\n"
     ]
    },
    {
     "data": {
      "application/vnd.jupyter.widget-view+json": {
       "model_id": "06b262673f1348c496d12c745717bc96",
       "version_major": 2,
       "version_minor": 0
      },
      "text/plain": [
       "SEJveChjaGlsZHJlbj0oRmxvYXRQcm9ncmVzcyh2YWx1ZT0wLjAsIGRlc2NyaXB0aW9uPXUnYyBWYWx1ZXMnLCBtYXg9My4wLCBzdHlsZT1Qcm9ncmVzc1N0eWxlKGRlc2NyaXB0aW9uX3dpZHTigKY=\n"
      ]
     },
     "metadata": {},
     "output_type": "display_data"
    },
    {
     "data": {
      "application/vnd.jupyter.widget-view+json": {
       "model_id": "ba370862241b420f99e38b6753327ab8",
       "version_major": 2,
       "version_minor": 0
      },
      "text/plain": [
       "SEJveChjaGlsZHJlbj0oRmxvYXRQcm9ncmVzcyh2YWx1ZT0wLjAsIGRlc2NyaXB0aW9uPXUnR2F1c3NpYW4nLCBtYXg9MjcyMi4wLCBzdHlsZT1Qcm9ncmVzc1N0eWxlKGRlc2NyaXB0aW9uX3figKY=\n"
      ]
     },
     "metadata": {},
     "output_type": "display_data"
    },
    {
     "name": "stdout",
     "output_type": "stream",
     "text": [
      "\n"
     ]
    },
    {
     "data": {
      "application/vnd.jupyter.widget-view+json": {
       "model_id": "edd639dcc34c4c7594d12fd07974aee6",
       "version_major": 2,
       "version_minor": 0
      },
      "text/plain": [
       "SEJveChjaGlsZHJlbj0oRmxvYXRQcm9ncmVzcyh2YWx1ZT0wLjAsIGRlc2NyaXB0aW9uPXUnR2F1c3NpYW4nLCBtYXg9MjcyMi4wLCBzdHlsZT1Qcm9ncmVzc1N0eWxlKGRlc2NyaXB0aW9uX3figKY=\n"
      ]
     },
     "metadata": {},
     "output_type": "display_data"
    },
    {
     "name": "stdout",
     "output_type": "stream",
     "text": [
      "\n"
     ]
    },
    {
     "data": {
      "application/vnd.jupyter.widget-view+json": {
       "model_id": "fe794a592c424e97a74b82115a6247f4",
       "version_major": 2,
       "version_minor": 0
      },
      "text/plain": [
       "SEJveChjaGlsZHJlbj0oRmxvYXRQcm9ncmVzcyh2YWx1ZT0wLjAsIGRlc2NyaXB0aW9uPXUnR2F1c3NpYW4nLCBtYXg9MjcyMi4wLCBzdHlsZT1Qcm9ncmVzc1N0eWxlKGRlc2NyaXB0aW9uX3figKY=\n"
      ]
     },
     "metadata": {},
     "output_type": "display_data"
    },
    {
     "name": "stdout",
     "output_type": "stream",
     "text": [
      "\n",
      "\n"
     ]
    },
    {
     "data": {
      "application/vnd.jupyter.widget-view+json": {
       "model_id": "b5ab9813091f440d9173e316c18aa4d2",
       "version_major": 2,
       "version_minor": 0
      },
      "text/plain": [
       "SEJveChjaGlsZHJlbj0oRmxvYXRQcm9ncmVzcyh2YWx1ZT0wLjAsIGRlc2NyaXB0aW9uPXUnSW1hZ2UgRmVhdHVyZXMnLCBtYXg9ODcuMCwgc3R5bGU9UHJvZ3Jlc3NTdHlsZShkZXNjcmlwdGnigKY=\n"
      ]
     },
     "metadata": {},
     "output_type": "display_data"
    },
    {
     "name": "stdout",
     "output_type": "stream",
     "text": [
      "\n"
     ]
    },
    {
     "data": {
      "application/vnd.jupyter.widget-view+json": {
       "model_id": "a2e7c9fc2d134b5badad33b362c869c5",
       "version_major": 2,
       "version_minor": 0
      },
      "text/plain": [
       "SEJveChjaGlsZHJlbj0oRmxvYXRQcm9ncmVzcyh2YWx1ZT0wLjAsIGRlc2NyaXB0aW9uPXUnYyBWYWx1ZXMnLCBtYXg9My4wLCBzdHlsZT1Qcm9ncmVzc1N0eWxlKGRlc2NyaXB0aW9uX3dpZHTigKY=\n"
      ]
     },
     "metadata": {},
     "output_type": "display_data"
    },
    {
     "data": {
      "application/vnd.jupyter.widget-view+json": {
       "model_id": "f83a1e177250482584d67902453a4439",
       "version_major": 2,
       "version_minor": 0
      },
      "text/plain": [
       "SEJveChjaGlsZHJlbj0oRmxvYXRQcm9ncmVzcyh2YWx1ZT0wLjAsIGRlc2NyaXB0aW9uPXUnR2F1c3NpYW4nLCBtYXg9MjYxMi4wLCBzdHlsZT1Qcm9ncmVzc1N0eWxlKGRlc2NyaXB0aW9uX3figKY=\n"
      ]
     },
     "metadata": {},
     "output_type": "display_data"
    },
    {
     "name": "stdout",
     "output_type": "stream",
     "text": [
      "\n"
     ]
    },
    {
     "data": {
      "application/vnd.jupyter.widget-view+json": {
       "model_id": "cffcf3329bf2495e9bf2d66b6c14c5cc",
       "version_major": 2,
       "version_minor": 0
      },
      "text/plain": [
       "SEJveChjaGlsZHJlbj0oRmxvYXRQcm9ncmVzcyh2YWx1ZT0wLjAsIGRlc2NyaXB0aW9uPXUnR2F1c3NpYW4nLCBtYXg9MjYxMi4wLCBzdHlsZT1Qcm9ncmVzc1N0eWxlKGRlc2NyaXB0aW9uX3figKY=\n"
      ]
     },
     "metadata": {},
     "output_type": "display_data"
    },
    {
     "name": "stdout",
     "output_type": "stream",
     "text": [
      "\n"
     ]
    },
    {
     "data": {
      "application/vnd.jupyter.widget-view+json": {
       "model_id": "012d58e0982b4ee1ab43ccca20fe17be",
       "version_major": 2,
       "version_minor": 0
      },
      "text/plain": [
       "SEJveChjaGlsZHJlbj0oRmxvYXRQcm9ncmVzcyh2YWx1ZT0wLjAsIGRlc2NyaXB0aW9uPXUnR2F1c3NpYW4nLCBtYXg9MjYxMi4wLCBzdHlsZT1Qcm9ncmVzc1N0eWxlKGRlc2NyaXB0aW9uX3figKY=\n"
      ]
     },
     "metadata": {},
     "output_type": "display_data"
    },
    {
     "name": "stdout",
     "output_type": "stream",
     "text": [
      "\n",
      "\n"
     ]
    },
    {
     "data": {
      "application/vnd.jupyter.widget-view+json": {
       "model_id": "c3576bc54c32477eaa9865d8ec83e953",
       "version_major": 2,
       "version_minor": 0
      },
      "text/plain": [
       "SEJveChjaGlsZHJlbj0oRmxvYXRQcm9ncmVzcyh2YWx1ZT0wLjAsIGRlc2NyaXB0aW9uPXUnSW1hZ2UgRmVhdHVyZXMnLCBtYXg9ODcuMCwgc3R5bGU9UHJvZ3Jlc3NTdHlsZShkZXNjcmlwdGnigKY=\n"
      ]
     },
     "metadata": {},
     "output_type": "display_data"
    },
    {
     "name": "stdout",
     "output_type": "stream",
     "text": [
      "\n"
     ]
    },
    {
     "data": {
      "application/vnd.jupyter.widget-view+json": {
       "model_id": "ad30dc6dd4f24ce19d2737f94ee5da81",
       "version_major": 2,
       "version_minor": 0
      },
      "text/plain": [
       "SEJveChjaGlsZHJlbj0oRmxvYXRQcm9ncmVzcyh2YWx1ZT0wLjAsIGRlc2NyaXB0aW9uPXUnYyBWYWx1ZXMnLCBtYXg9My4wLCBzdHlsZT1Qcm9ncmVzc1N0eWxlKGRlc2NyaXB0aW9uX3dpZHTigKY=\n"
      ]
     },
     "metadata": {},
     "output_type": "display_data"
    },
    {
     "data": {
      "application/vnd.jupyter.widget-view+json": {
       "model_id": "18b2c4610dd2480080c38022bd757414",
       "version_major": 2,
       "version_minor": 0
      },
      "text/plain": [
       "SEJveChjaGlsZHJlbj0oRmxvYXRQcm9ncmVzcyh2YWx1ZT0wLjAsIGRlc2NyaXB0aW9uPXUnR2F1c3NpYW4nLCBtYXg9MjQ3NS4wLCBzdHlsZT1Qcm9ncmVzc1N0eWxlKGRlc2NyaXB0aW9uX3figKY=\n"
      ]
     },
     "metadata": {},
     "output_type": "display_data"
    },
    {
     "name": "stdout",
     "output_type": "stream",
     "text": [
      "\n"
     ]
    },
    {
     "data": {
      "application/vnd.jupyter.widget-view+json": {
       "model_id": "a235907055594bebb94ccbf484e1bb88",
       "version_major": 2,
       "version_minor": 0
      },
      "text/plain": [
       "SEJveChjaGlsZHJlbj0oRmxvYXRQcm9ncmVzcyh2YWx1ZT0wLjAsIGRlc2NyaXB0aW9uPXUnR2F1c3NpYW4nLCBtYXg9MjQ3NS4wLCBzdHlsZT1Qcm9ncmVzc1N0eWxlKGRlc2NyaXB0aW9uX3figKY=\n"
      ]
     },
     "metadata": {},
     "output_type": "display_data"
    },
    {
     "name": "stdout",
     "output_type": "stream",
     "text": [
      "\n"
     ]
    },
    {
     "data": {
      "application/vnd.jupyter.widget-view+json": {
       "model_id": "dfc074ddd6e7474c8b6849241b4d7e83",
       "version_major": 2,
       "version_minor": 0
      },
      "text/plain": [
       "SEJveChjaGlsZHJlbj0oRmxvYXRQcm9ncmVzcyh2YWx1ZT0wLjAsIGRlc2NyaXB0aW9uPXUnR2F1c3NpYW4nLCBtYXg9MjQ3NS4wLCBzdHlsZT1Qcm9ncmVzc1N0eWxlKGRlc2NyaXB0aW9uX3figKY=\n"
      ]
     },
     "metadata": {},
     "output_type": "display_data"
    },
    {
     "name": "stdout",
     "output_type": "stream",
     "text": [
      "\n",
      "\n"
     ]
    },
    {
     "data": {
      "application/vnd.jupyter.widget-view+json": {
       "model_id": "3792c0e6946345adb703eb3437d937e7",
       "version_major": 2,
       "version_minor": 0
      },
      "text/plain": [
       "SEJveChjaGlsZHJlbj0oRmxvYXRQcm9ncmVzcyh2YWx1ZT0wLjAsIGRlc2NyaXB0aW9uPXUnSW1hZ2UgRmVhdHVyZXMnLCBtYXg9ODcuMCwgc3R5bGU9UHJvZ3Jlc3NTdHlsZShkZXNjcmlwdGnigKY=\n"
      ]
     },
     "metadata": {},
     "output_type": "display_data"
    },
    {
     "name": "stdout",
     "output_type": "stream",
     "text": [
      "\n"
     ]
    },
    {
     "data": {
      "application/vnd.jupyter.widget-view+json": {
       "model_id": "7651669cc0d5424bbade306735eb22bb",
       "version_major": 2,
       "version_minor": 0
      },
      "text/plain": [
       "SEJveChjaGlsZHJlbj0oRmxvYXRQcm9ncmVzcyh2YWx1ZT0wLjAsIGRlc2NyaXB0aW9uPXUnYyBWYWx1ZXMnLCBtYXg9My4wLCBzdHlsZT1Qcm9ncmVzc1N0eWxlKGRlc2NyaXB0aW9uX3dpZHTigKY=\n"
      ]
     },
     "metadata": {},
     "output_type": "display_data"
    },
    {
     "data": {
      "application/vnd.jupyter.widget-view+json": {
       "model_id": "f8a4750caa4d49c6b665ba2ff118af0d",
       "version_major": 2,
       "version_minor": 0
      },
      "text/plain": [
       "SEJveChjaGlsZHJlbj0oRmxvYXRQcm9ncmVzcyh2YWx1ZT0wLjAsIGRlc2NyaXB0aW9uPXUnR2F1c3NpYW4nLCBtYXg9MjIwMC4wLCBzdHlsZT1Qcm9ncmVzc1N0eWxlKGRlc2NyaXB0aW9uX3figKY=\n"
      ]
     },
     "metadata": {},
     "output_type": "display_data"
    },
    {
     "name": "stdout",
     "output_type": "stream",
     "text": [
      "\n"
     ]
    },
    {
     "data": {
      "application/vnd.jupyter.widget-view+json": {
       "model_id": "4916312db7be41929922fa36f427f3ab",
       "version_major": 2,
       "version_minor": 0
      },
      "text/plain": [
       "SEJveChjaGlsZHJlbj0oRmxvYXRQcm9ncmVzcyh2YWx1ZT0wLjAsIGRlc2NyaXB0aW9uPXUnR2F1c3NpYW4nLCBtYXg9MjIwMC4wLCBzdHlsZT1Qcm9ncmVzc1N0eWxlKGRlc2NyaXB0aW9uX3figKY=\n"
      ]
     },
     "metadata": {},
     "output_type": "display_data"
    },
    {
     "name": "stdout",
     "output_type": "stream",
     "text": [
      "\n"
     ]
    },
    {
     "data": {
      "application/vnd.jupyter.widget-view+json": {
       "model_id": "65e5d708b30949538e1cfd158cab117f",
       "version_major": 2,
       "version_minor": 0
      },
      "text/plain": [
       "SEJveChjaGlsZHJlbj0oRmxvYXRQcm9ncmVzcyh2YWx1ZT0wLjAsIGRlc2NyaXB0aW9uPXUnR2F1c3NpYW4nLCBtYXg9MjIwMC4wLCBzdHlsZT1Qcm9ncmVzc1N0eWxlKGRlc2NyaXB0aW9uX3figKY=\n"
      ]
     },
     "metadata": {},
     "output_type": "display_data"
    },
    {
     "name": "stdout",
     "output_type": "stream",
     "text": [
      "\n",
      "\n"
     ]
    },
    {
     "data": {
      "application/vnd.jupyter.widget-view+json": {
       "model_id": "c36d7b48f7d440e39f63eee2b1358253",
       "version_major": 2,
       "version_minor": 0
      },
      "text/plain": [
       "SEJveChjaGlsZHJlbj0oRmxvYXRQcm9ncmVzcyh2YWx1ZT0wLjAsIGRlc2NyaXB0aW9uPXUnSW1hZ2UgRmVhdHVyZXMnLCBtYXg9ODcuMCwgc3R5bGU9UHJvZ3Jlc3NTdHlsZShkZXNjcmlwdGnigKY=\n"
      ]
     },
     "metadata": {},
     "output_type": "display_data"
    },
    {
     "name": "stdout",
     "output_type": "stream",
     "text": [
      "\n"
     ]
    },
    {
     "data": {
      "application/vnd.jupyter.widget-view+json": {
       "model_id": "31eab16a1d67432f89eeecef4602be39",
       "version_major": 2,
       "version_minor": 0
      },
      "text/plain": [
       "SEJveChjaGlsZHJlbj0oRmxvYXRQcm9ncmVzcyh2YWx1ZT0wLjAsIGRlc2NyaXB0aW9uPXUnYyBWYWx1ZXMnLCBtYXg9My4wLCBzdHlsZT1Qcm9ncmVzc1N0eWxlKGRlc2NyaXB0aW9uX3dpZHTigKY=\n"
      ]
     },
     "metadata": {},
     "output_type": "display_data"
    },
    {
     "data": {
      "application/vnd.jupyter.widget-view+json": {
       "model_id": "f745c196ab9a45289d978cd1632d51fd",
       "version_major": 2,
       "version_minor": 0
      },
      "text/plain": [
       "SEJveChjaGlsZHJlbj0oRmxvYXRQcm9ncmVzcyh2YWx1ZT0wLjAsIGRlc2NyaXB0aW9uPXUnR2F1c3NpYW4nLCBtYXg9MTkyNS4wLCBzdHlsZT1Qcm9ncmVzc1N0eWxlKGRlc2NyaXB0aW9uX3figKY=\n"
      ]
     },
     "metadata": {},
     "output_type": "display_data"
    },
    {
     "name": "stdout",
     "output_type": "stream",
     "text": [
      "\n"
     ]
    },
    {
     "data": {
      "application/vnd.jupyter.widget-view+json": {
       "model_id": "13883cff433b4e629ff53f94189f87db",
       "version_major": 2,
       "version_minor": 0
      },
      "text/plain": [
       "SEJveChjaGlsZHJlbj0oRmxvYXRQcm9ncmVzcyh2YWx1ZT0wLjAsIGRlc2NyaXB0aW9uPXUnR2F1c3NpYW4nLCBtYXg9MTkyNS4wLCBzdHlsZT1Qcm9ncmVzc1N0eWxlKGRlc2NyaXB0aW9uX3figKY=\n"
      ]
     },
     "metadata": {},
     "output_type": "display_data"
    },
    {
     "name": "stdout",
     "output_type": "stream",
     "text": [
      "\n"
     ]
    },
    {
     "data": {
      "application/vnd.jupyter.widget-view+json": {
       "model_id": "befdd9f6fdc14c928df53c72c2b0c191",
       "version_major": 2,
       "version_minor": 0
      },
      "text/plain": [
       "SEJveChjaGlsZHJlbj0oRmxvYXRQcm9ncmVzcyh2YWx1ZT0wLjAsIGRlc2NyaXB0aW9uPXUnR2F1c3NpYW4nLCBtYXg9MTkyNS4wLCBzdHlsZT1Qcm9ncmVzc1N0eWxlKGRlc2NyaXB0aW9uX3figKY=\n"
      ]
     },
     "metadata": {},
     "output_type": "display_data"
    },
    {
     "name": "stdout",
     "output_type": "stream",
     "text": [
      "\n",
      "\n"
     ]
    },
    {
     "data": {
      "application/vnd.jupyter.widget-view+json": {
       "model_id": "a7b29179e18d4b0ebfef5d35f331e0ec",
       "version_major": 2,
       "version_minor": 0
      },
      "text/plain": [
       "SEJveChjaGlsZHJlbj0oRmxvYXRQcm9ncmVzcyh2YWx1ZT0wLjAsIGRlc2NyaXB0aW9uPXUnSW1hZ2UgRmVhdHVyZXMnLCBtYXg9ODcuMCwgc3R5bGU9UHJvZ3Jlc3NTdHlsZShkZXNjcmlwdGnigKY=\n"
      ]
     },
     "metadata": {},
     "output_type": "display_data"
    },
    {
     "name": "stdout",
     "output_type": "stream",
     "text": [
      "\n"
     ]
    },
    {
     "data": {
      "application/vnd.jupyter.widget-view+json": {
       "model_id": "d56ca08264ca452aa0b9cae90f7b2a4b",
       "version_major": 2,
       "version_minor": 0
      },
      "text/plain": [
       "SEJveChjaGlsZHJlbj0oRmxvYXRQcm9ncmVzcyh2YWx1ZT0wLjAsIGRlc2NyaXB0aW9uPXUnYyBWYWx1ZXMnLCBtYXg9My4wLCBzdHlsZT1Qcm9ncmVzc1N0eWxlKGRlc2NyaXB0aW9uX3dpZHTigKY=\n"
      ]
     },
     "metadata": {},
     "output_type": "display_data"
    },
    {
     "data": {
      "application/vnd.jupyter.widget-view+json": {
       "model_id": "1eac11a821b14257a760cfc6f3a7a939",
       "version_major": 2,
       "version_minor": 0
      },
      "text/plain": [
       "SEJveChjaGlsZHJlbj0oRmxvYXRQcm9ncmVzcyh2YWx1ZT0wLjAsIGRlc2NyaXB0aW9uPXUnR2F1c3NpYW4nLCBtYXg9MTY1MC4wLCBzdHlsZT1Qcm9ncmVzc1N0eWxlKGRlc2NyaXB0aW9uX3figKY=\n"
      ]
     },
     "metadata": {},
     "output_type": "display_data"
    },
    {
     "name": "stdout",
     "output_type": "stream",
     "text": [
      "\n"
     ]
    },
    {
     "data": {
      "application/vnd.jupyter.widget-view+json": {
       "model_id": "3a1ae43b88374cae91d6354be297ab10",
       "version_major": 2,
       "version_minor": 0
      },
      "text/plain": [
       "SEJveChjaGlsZHJlbj0oRmxvYXRQcm9ncmVzcyh2YWx1ZT0wLjAsIGRlc2NyaXB0aW9uPXUnR2F1c3NpYW4nLCBtYXg9MTY1MC4wLCBzdHlsZT1Qcm9ncmVzc1N0eWxlKGRlc2NyaXB0aW9uX3figKY=\n"
      ]
     },
     "metadata": {},
     "output_type": "display_data"
    },
    {
     "name": "stdout",
     "output_type": "stream",
     "text": [
      "\n"
     ]
    },
    {
     "data": {
      "application/vnd.jupyter.widget-view+json": {
       "model_id": "877f3cabe09849cf84328f81277b5159",
       "version_major": 2,
       "version_minor": 0
      },
      "text/plain": [
       "SEJveChjaGlsZHJlbj0oRmxvYXRQcm9ncmVzcyh2YWx1ZT0wLjAsIGRlc2NyaXB0aW9uPXUnR2F1c3NpYW4nLCBtYXg9MTY1MC4wLCBzdHlsZT1Qcm9ncmVzc1N0eWxlKGRlc2NyaXB0aW9uX3figKY=\n"
      ]
     },
     "metadata": {},
     "output_type": "display_data"
    },
    {
     "name": "stdout",
     "output_type": "stream",
     "text": [
      "\n",
      "\n",
      "\n"
     ]
    },
    {
     "data": {
      "application/vnd.jupyter.widget-view+json": {
       "model_id": "842df31a387f48b4861794a08e93ffdb",
       "version_major": 2,
       "version_minor": 0
      },
      "text/plain": [
       "SEJveChjaGlsZHJlbj0oRmxvYXRQcm9ncmVzcyh2YWx1ZT0wLjAsIGRlc2NyaXB0aW9uPXUnTWVhc3VyZW1lbnQgJScsIG1heD02LjAsIHN0eWxlPVByb2dyZXNzU3R5bGUoZGVzY3JpcHRpb27igKY=\n"
      ]
     },
     "metadata": {},
     "output_type": "display_data"
    },
    {
     "data": {
      "application/vnd.jupyter.widget-view+json": {
       "model_id": "c5628107767b4a68874588ad4c369d05",
       "version_major": 2,
       "version_minor": 0
      },
      "text/plain": [
       "SEJveChjaGlsZHJlbj0oRmxvYXRQcm9ncmVzcyh2YWx1ZT0wLjAsIGRlc2NyaXB0aW9uPXUnSW1hZ2UgRmVhdHVyZXMnLCBtYXg9ODcuMCwgc3R5bGU9UHJvZ3Jlc3NTdHlsZShkZXNjcmlwdGnigKY=\n"
      ]
     },
     "metadata": {},
     "output_type": "display_data"
    },
    {
     "name": "stdout",
     "output_type": "stream",
     "text": [
      "\n"
     ]
    },
    {
     "data": {
      "application/vnd.jupyter.widget-view+json": {
       "model_id": "249117b16a5a44f0a67f398e658776bd",
       "version_major": 2,
       "version_minor": 0
      },
      "text/plain": [
       "SEJveChjaGlsZHJlbj0oRmxvYXRQcm9ncmVzcyh2YWx1ZT0wLjAsIGRlc2NyaXB0aW9uPXUnYyBWYWx1ZXMnLCBtYXg9My4wLCBzdHlsZT1Qcm9ncmVzc1N0eWxlKGRlc2NyaXB0aW9uX3dpZHTigKY=\n"
      ]
     },
     "metadata": {},
     "output_type": "display_data"
    },
    {
     "data": {
      "application/vnd.jupyter.widget-view+json": {
       "model_id": "f11cce9e694646b0a6b728bfc1410840",
       "version_major": 2,
       "version_minor": 0
      },
      "text/plain": [
       "SEJveChjaGlsZHJlbj0oRmxvYXRQcm9ncmVzcyh2YWx1ZT0wLjAsIGRlc2NyaXB0aW9uPXUnR2F1c3NpYW4nLCBtYXg9MzE2OC4wLCBzdHlsZT1Qcm9ncmVzc1N0eWxlKGRlc2NyaXB0aW9uX3figKY=\n"
      ]
     },
     "metadata": {},
     "output_type": "display_data"
    },
    {
     "name": "stdout",
     "output_type": "stream",
     "text": [
      "\n"
     ]
    },
    {
     "data": {
      "application/vnd.jupyter.widget-view+json": {
       "model_id": "5eb20b1e88794efbb733b85df3af8d93",
       "version_major": 2,
       "version_minor": 0
      },
      "text/plain": [
       "SEJveChjaGlsZHJlbj0oRmxvYXRQcm9ncmVzcyh2YWx1ZT0wLjAsIGRlc2NyaXB0aW9uPXUnR2F1c3NpYW4nLCBtYXg9MzE2OC4wLCBzdHlsZT1Qcm9ncmVzc1N0eWxlKGRlc2NyaXB0aW9uX3figKY=\n"
      ]
     },
     "metadata": {},
     "output_type": "display_data"
    },
    {
     "name": "stdout",
     "output_type": "stream",
     "text": [
      "\n"
     ]
    },
    {
     "data": {
      "application/vnd.jupyter.widget-view+json": {
       "model_id": "efa9456114504e899e0f570e82427c3f",
       "version_major": 2,
       "version_minor": 0
      },
      "text/plain": [
       "SEJveChjaGlsZHJlbj0oRmxvYXRQcm9ncmVzcyh2YWx1ZT0wLjAsIGRlc2NyaXB0aW9uPXUnR2F1c3NpYW4nLCBtYXg9MzE2OC4wLCBzdHlsZT1Qcm9ncmVzc1N0eWxlKGRlc2NyaXB0aW9uX3figKY=\n"
      ]
     },
     "metadata": {},
     "output_type": "display_data"
    },
    {
     "name": "stdout",
     "output_type": "stream",
     "text": [
      "\n",
      "\n"
     ]
    },
    {
     "data": {
      "application/vnd.jupyter.widget-view+json": {
       "model_id": "0555a19debb642af9d704857c9f931e4",
       "version_major": 2,
       "version_minor": 0
      },
      "text/plain": [
       "SEJveChjaGlsZHJlbj0oRmxvYXRQcm9ncmVzcyh2YWx1ZT0wLjAsIGRlc2NyaXB0aW9uPXUnSW1hZ2UgRmVhdHVyZXMnLCBtYXg9ODcuMCwgc3R5bGU9UHJvZ3Jlc3NTdHlsZShkZXNjcmlwdGnigKY=\n"
      ]
     },
     "metadata": {},
     "output_type": "display_data"
    },
    {
     "name": "stdout",
     "output_type": "stream",
     "text": [
      "\n"
     ]
    },
    {
     "data": {
      "application/vnd.jupyter.widget-view+json": {
       "model_id": "84542f0990c84458b946d31af058229d",
       "version_major": 2,
       "version_minor": 0
      },
      "text/plain": [
       "SEJveChjaGlsZHJlbj0oRmxvYXRQcm9ncmVzcyh2YWx1ZT0wLjAsIGRlc2NyaXB0aW9uPXUnYyBWYWx1ZXMnLCBtYXg9My4wLCBzdHlsZT1Qcm9ncmVzc1N0eWxlKGRlc2NyaXB0aW9uX3dpZHTigKY=\n"
      ]
     },
     "metadata": {},
     "output_type": "display_data"
    },
    {
     "data": {
      "application/vnd.jupyter.widget-view+json": {
       "model_id": "782a8de77d3340f7af8863352a0b62ca",
       "version_major": 2,
       "version_minor": 0
      },
      "text/plain": [
       "SEJveChjaGlsZHJlbj0oRmxvYXRQcm9ncmVzcyh2YWx1ZT0wLjAsIGRlc2NyaXB0aW9uPXUnR2F1c3NpYW4nLCBtYXg9MzA0MC4wLCBzdHlsZT1Qcm9ncmVzc1N0eWxlKGRlc2NyaXB0aW9uX3figKY=\n"
      ]
     },
     "metadata": {},
     "output_type": "display_data"
    },
    {
     "name": "stdout",
     "output_type": "stream",
     "text": [
      "\n"
     ]
    },
    {
     "data": {
      "application/vnd.jupyter.widget-view+json": {
       "model_id": "7402a9fa03a74646995a90e2cb448ea4",
       "version_major": 2,
       "version_minor": 0
      },
      "text/plain": [
       "SEJveChjaGlsZHJlbj0oRmxvYXRQcm9ncmVzcyh2YWx1ZT0wLjAsIGRlc2NyaXB0aW9uPXUnR2F1c3NpYW4nLCBtYXg9MzA0MC4wLCBzdHlsZT1Qcm9ncmVzc1N0eWxlKGRlc2NyaXB0aW9uX3figKY=\n"
      ]
     },
     "metadata": {},
     "output_type": "display_data"
    },
    {
     "name": "stdout",
     "output_type": "stream",
     "text": [
      "\n"
     ]
    },
    {
     "data": {
      "application/vnd.jupyter.widget-view+json": {
       "model_id": "72d2cd3a5a2e4d00a789a3034668ca39",
       "version_major": 2,
       "version_minor": 0
      },
      "text/plain": [
       "SEJveChjaGlsZHJlbj0oRmxvYXRQcm9ncmVzcyh2YWx1ZT0wLjAsIGRlc2NyaXB0aW9uPXUnR2F1c3NpYW4nLCBtYXg9MzA0MC4wLCBzdHlsZT1Qcm9ncmVzc1N0eWxlKGRlc2NyaXB0aW9uX3figKY=\n"
      ]
     },
     "metadata": {},
     "output_type": "display_data"
    },
    {
     "name": "stdout",
     "output_type": "stream",
     "text": [
      "\n",
      "\n"
     ]
    },
    {
     "data": {
      "application/vnd.jupyter.widget-view+json": {
       "model_id": "d0a9c1e117f947548928d21e9ad62729",
       "version_major": 2,
       "version_minor": 0
      },
      "text/plain": [
       "SEJveChjaGlsZHJlbj0oRmxvYXRQcm9ncmVzcyh2YWx1ZT0wLjAsIGRlc2NyaXB0aW9uPXUnSW1hZ2UgRmVhdHVyZXMnLCBtYXg9ODcuMCwgc3R5bGU9UHJvZ3Jlc3NTdHlsZShkZXNjcmlwdGnigKY=\n"
      ]
     },
     "metadata": {},
     "output_type": "display_data"
    },
    {
     "name": "stdout",
     "output_type": "stream",
     "text": [
      "\n"
     ]
    },
    {
     "data": {
      "application/vnd.jupyter.widget-view+json": {
       "model_id": "70ba3fbc8fbc49c7931e9bfe7ce71b27",
       "version_major": 2,
       "version_minor": 0
      },
      "text/plain": [
       "SEJveChjaGlsZHJlbj0oRmxvYXRQcm9ncmVzcyh2YWx1ZT0wLjAsIGRlc2NyaXB0aW9uPXUnYyBWYWx1ZXMnLCBtYXg9My4wLCBzdHlsZT1Qcm9ncmVzc1N0eWxlKGRlc2NyaXB0aW9uX3dpZHTigKY=\n"
      ]
     },
     "metadata": {},
     "output_type": "display_data"
    },
    {
     "data": {
      "application/vnd.jupyter.widget-view+json": {
       "model_id": "9291f57dd17b47ddb2ade3ca0a96c0d7",
       "version_major": 2,
       "version_minor": 0
      },
      "text/plain": [
       "SEJveChjaGlsZHJlbj0oRmxvYXRQcm9ncmVzcyh2YWx1ZT0wLjAsIGRlc2NyaXB0aW9uPXUnR2F1c3NpYW4nLCBtYXg9Mjg4MC4wLCBzdHlsZT1Qcm9ncmVzc1N0eWxlKGRlc2NyaXB0aW9uX3figKY=\n"
      ]
     },
     "metadata": {},
     "output_type": "display_data"
    },
    {
     "name": "stdout",
     "output_type": "stream",
     "text": [
      "\n"
     ]
    },
    {
     "data": {
      "application/vnd.jupyter.widget-view+json": {
       "model_id": "c1eb7f1c799f4c3b9653a03d65e5cda4",
       "version_major": 2,
       "version_minor": 0
      },
      "text/plain": [
       "SEJveChjaGlsZHJlbj0oRmxvYXRQcm9ncmVzcyh2YWx1ZT0wLjAsIGRlc2NyaXB0aW9uPXUnR2F1c3NpYW4nLCBtYXg9Mjg4MC4wLCBzdHlsZT1Qcm9ncmVzc1N0eWxlKGRlc2NyaXB0aW9uX3figKY=\n"
      ]
     },
     "metadata": {},
     "output_type": "display_data"
    },
    {
     "name": "stdout",
     "output_type": "stream",
     "text": [
      "\n"
     ]
    },
    {
     "data": {
      "application/vnd.jupyter.widget-view+json": {
       "model_id": "25258bda87904351b2e8064cdb70c147",
       "version_major": 2,
       "version_minor": 0
      },
      "text/plain": [
       "SEJveChjaGlsZHJlbj0oRmxvYXRQcm9ncmVzcyh2YWx1ZT0wLjAsIGRlc2NyaXB0aW9uPXUnR2F1c3NpYW4nLCBtYXg9Mjg4MC4wLCBzdHlsZT1Qcm9ncmVzc1N0eWxlKGRlc2NyaXB0aW9uX3figKY=\n"
      ]
     },
     "metadata": {},
     "output_type": "display_data"
    },
    {
     "name": "stdout",
     "output_type": "stream",
     "text": [
      "\n",
      "\n"
     ]
    },
    {
     "data": {
      "application/vnd.jupyter.widget-view+json": {
       "model_id": "cba710cc2a9b4f2095f3ff8cfae502ee",
       "version_major": 2,
       "version_minor": 0
      },
      "text/plain": [
       "SEJveChjaGlsZHJlbj0oRmxvYXRQcm9ncmVzcyh2YWx1ZT0wLjAsIGRlc2NyaXB0aW9uPXUnSW1hZ2UgRmVhdHVyZXMnLCBtYXg9ODcuMCwgc3R5bGU9UHJvZ3Jlc3NTdHlsZShkZXNjcmlwdGnigKY=\n"
      ]
     },
     "metadata": {},
     "output_type": "display_data"
    },
    {
     "name": "stdout",
     "output_type": "stream",
     "text": [
      "\n"
     ]
    },
    {
     "data": {
      "application/vnd.jupyter.widget-view+json": {
       "model_id": "b5e73f999efa4dc1ba993b614da559cd",
       "version_major": 2,
       "version_minor": 0
      },
      "text/plain": [
       "SEJveChjaGlsZHJlbj0oRmxvYXRQcm9ncmVzcyh2YWx1ZT0wLjAsIGRlc2NyaXB0aW9uPXUnYyBWYWx1ZXMnLCBtYXg9My4wLCBzdHlsZT1Qcm9ncmVzc1N0eWxlKGRlc2NyaXB0aW9uX3dpZHTigKY=\n"
      ]
     },
     "metadata": {},
     "output_type": "display_data"
    },
    {
     "data": {
      "application/vnd.jupyter.widget-view+json": {
       "model_id": "00bc13bd13fd46fea3d827be8ad2e42d",
       "version_major": 2,
       "version_minor": 0
      },
      "text/plain": [
       "SEJveChjaGlsZHJlbj0oRmxvYXRQcm9ncmVzcyh2YWx1ZT0wLjAsIGRlc2NyaXB0aW9uPXUnR2F1c3NpYW4nLCBtYXg9MjU2MC4wLCBzdHlsZT1Qcm9ncmVzc1N0eWxlKGRlc2NyaXB0aW9uX3figKY=\n"
      ]
     },
     "metadata": {},
     "output_type": "display_data"
    },
    {
     "name": "stdout",
     "output_type": "stream",
     "text": [
      "\n"
     ]
    },
    {
     "data": {
      "application/vnd.jupyter.widget-view+json": {
       "model_id": "5d0d1cd16afa4a7a9648c36bf6428858",
       "version_major": 2,
       "version_minor": 0
      },
      "text/plain": [
       "SEJveChjaGlsZHJlbj0oRmxvYXRQcm9ncmVzcyh2YWx1ZT0wLjAsIGRlc2NyaXB0aW9uPXUnR2F1c3NpYW4nLCBtYXg9MjU2MC4wLCBzdHlsZT1Qcm9ncmVzc1N0eWxlKGRlc2NyaXB0aW9uX3figKY=\n"
      ]
     },
     "metadata": {},
     "output_type": "display_data"
    },
    {
     "name": "stdout",
     "output_type": "stream",
     "text": [
      "\n"
     ]
    },
    {
     "data": {
      "application/vnd.jupyter.widget-view+json": {
       "model_id": "5382a9b5fe7b4792ad83e11681945af9",
       "version_major": 2,
       "version_minor": 0
      },
      "text/plain": [
       "SEJveChjaGlsZHJlbj0oRmxvYXRQcm9ncmVzcyh2YWx1ZT0wLjAsIGRlc2NyaXB0aW9uPXUnR2F1c3NpYW4nLCBtYXg9MjU2MC4wLCBzdHlsZT1Qcm9ncmVzc1N0eWxlKGRlc2NyaXB0aW9uX3figKY=\n"
      ]
     },
     "metadata": {},
     "output_type": "display_data"
    },
    {
     "name": "stdout",
     "output_type": "stream",
     "text": [
      "\n",
      "\n"
     ]
    },
    {
     "data": {
      "application/vnd.jupyter.widget-view+json": {
       "model_id": "b1a06b98c022480580f93e8ba0dd34ee",
       "version_major": 2,
       "version_minor": 0
      },
      "text/plain": [
       "SEJveChjaGlsZHJlbj0oRmxvYXRQcm9ncmVzcyh2YWx1ZT0wLjAsIGRlc2NyaXB0aW9uPXUnSW1hZ2UgRmVhdHVyZXMnLCBtYXg9ODcuMCwgc3R5bGU9UHJvZ3Jlc3NTdHlsZShkZXNjcmlwdGnigKY=\n"
      ]
     },
     "metadata": {},
     "output_type": "display_data"
    },
    {
     "name": "stdout",
     "output_type": "stream",
     "text": [
      "\n"
     ]
    },
    {
     "data": {
      "application/vnd.jupyter.widget-view+json": {
       "model_id": "d82f49b607314ed6a116e9b424ce9dfb",
       "version_major": 2,
       "version_minor": 0
      },
      "text/plain": [
       "SEJveChjaGlsZHJlbj0oRmxvYXRQcm9ncmVzcyh2YWx1ZT0wLjAsIGRlc2NyaXB0aW9uPXUnYyBWYWx1ZXMnLCBtYXg9My4wLCBzdHlsZT1Qcm9ncmVzc1N0eWxlKGRlc2NyaXB0aW9uX3dpZHTigKY=\n"
      ]
     },
     "metadata": {},
     "output_type": "display_data"
    },
    {
     "data": {
      "application/vnd.jupyter.widget-view+json": {
       "model_id": "40dff70fe98048f1827c8918e7803b24",
       "version_major": 2,
       "version_minor": 0
      },
      "text/plain": [
       "SEJveChjaGlsZHJlbj0oRmxvYXRQcm9ncmVzcyh2YWx1ZT0wLjAsIGRlc2NyaXB0aW9uPXUnR2F1c3NpYW4nLCBtYXg9MjI0MC4wLCBzdHlsZT1Qcm9ncmVzc1N0eWxlKGRlc2NyaXB0aW9uX3figKY=\n"
      ]
     },
     "metadata": {},
     "output_type": "display_data"
    },
    {
     "name": "stdout",
     "output_type": "stream",
     "text": [
      "\n"
     ]
    },
    {
     "data": {
      "application/vnd.jupyter.widget-view+json": {
       "model_id": "4f81a4a662914079ababad17758f7947",
       "version_major": 2,
       "version_minor": 0
      },
      "text/plain": [
       "SEJveChjaGlsZHJlbj0oRmxvYXRQcm9ncmVzcyh2YWx1ZT0wLjAsIGRlc2NyaXB0aW9uPXUnR2F1c3NpYW4nLCBtYXg9MjI0MC4wLCBzdHlsZT1Qcm9ncmVzc1N0eWxlKGRlc2NyaXB0aW9uX3figKY=\n"
      ]
     },
     "metadata": {},
     "output_type": "display_data"
    },
    {
     "name": "stdout",
     "output_type": "stream",
     "text": [
      "\n"
     ]
    },
    {
     "data": {
      "application/vnd.jupyter.widget-view+json": {
       "model_id": "dec8f9d94ffe4e8e8da442d8cbe5636d",
       "version_major": 2,
       "version_minor": 0
      },
      "text/plain": [
       "SEJveChjaGlsZHJlbj0oRmxvYXRQcm9ncmVzcyh2YWx1ZT0wLjAsIGRlc2NyaXB0aW9uPXUnR2F1c3NpYW4nLCBtYXg9MjI0MC4wLCBzdHlsZT1Qcm9ncmVzc1N0eWxlKGRlc2NyaXB0aW9uX3figKY=\n"
      ]
     },
     "metadata": {},
     "output_type": "display_data"
    },
    {
     "name": "stdout",
     "output_type": "stream",
     "text": [
      "\n",
      "\n"
     ]
    },
    {
     "data": {
      "application/vnd.jupyter.widget-view+json": {
       "model_id": "906ea9cdf6d043359a05c80ca64706e6",
       "version_major": 2,
       "version_minor": 0
      },
      "text/plain": [
       "SEJveChjaGlsZHJlbj0oRmxvYXRQcm9ncmVzcyh2YWx1ZT0wLjAsIGRlc2NyaXB0aW9uPXUnSW1hZ2UgRmVhdHVyZXMnLCBtYXg9ODcuMCwgc3R5bGU9UHJvZ3Jlc3NTdHlsZShkZXNjcmlwdGnigKY=\n"
      ]
     },
     "metadata": {},
     "output_type": "display_data"
    },
    {
     "name": "stdout",
     "output_type": "stream",
     "text": [
      "\n"
     ]
    },
    {
     "data": {
      "application/vnd.jupyter.widget-view+json": {
       "model_id": "27db63077f6d4a35b3557b8a8d3efea3",
       "version_major": 2,
       "version_minor": 0
      },
      "text/plain": [
       "SEJveChjaGlsZHJlbj0oRmxvYXRQcm9ncmVzcyh2YWx1ZT0wLjAsIGRlc2NyaXB0aW9uPXUnYyBWYWx1ZXMnLCBtYXg9My4wLCBzdHlsZT1Qcm9ncmVzc1N0eWxlKGRlc2NyaXB0aW9uX3dpZHTigKY=\n"
      ]
     },
     "metadata": {},
     "output_type": "display_data"
    },
    {
     "data": {
      "application/vnd.jupyter.widget-view+json": {
       "model_id": "130ffa52f3f045a7a1322573af32065b",
       "version_major": 2,
       "version_minor": 0
      },
      "text/plain": [
       "SEJveChjaGlsZHJlbj0oRmxvYXRQcm9ncmVzcyh2YWx1ZT0wLjAsIGRlc2NyaXB0aW9uPXUnR2F1c3NpYW4nLCBtYXg9MTkyMC4wLCBzdHlsZT1Qcm9ncmVzc1N0eWxlKGRlc2NyaXB0aW9uX3figKY=\n"
      ]
     },
     "metadata": {},
     "output_type": "display_data"
    },
    {
     "name": "stdout",
     "output_type": "stream",
     "text": [
      "\n"
     ]
    },
    {
     "data": {
      "application/vnd.jupyter.widget-view+json": {
       "model_id": "94f241a3e4c54eaa9bef7ea7f225268d",
       "version_major": 2,
       "version_minor": 0
      },
      "text/plain": [
       "SEJveChjaGlsZHJlbj0oRmxvYXRQcm9ncmVzcyh2YWx1ZT0wLjAsIGRlc2NyaXB0aW9uPXUnR2F1c3NpYW4nLCBtYXg9MTkyMC4wLCBzdHlsZT1Qcm9ncmVzc1N0eWxlKGRlc2NyaXB0aW9uX3figKY=\n"
      ]
     },
     "metadata": {},
     "output_type": "display_data"
    },
    {
     "name": "stdout",
     "output_type": "stream",
     "text": [
      "\n"
     ]
    },
    {
     "data": {
      "application/vnd.jupyter.widget-view+json": {
       "model_id": "3a888f09a8c34db49af82f1ddbbdd4fc",
       "version_major": 2,
       "version_minor": 0
      },
      "text/plain": [
       "SEJveChjaGlsZHJlbj0oRmxvYXRQcm9ncmVzcyh2YWx1ZT0wLjAsIGRlc2NyaXB0aW9uPXUnR2F1c3NpYW4nLCBtYXg9MTkyMC4wLCBzdHlsZT1Qcm9ncmVzc1N0eWxlKGRlc2NyaXB0aW9uX3figKY=\n"
      ]
     },
     "metadata": {},
     "output_type": "display_data"
    },
    {
     "name": "stdout",
     "output_type": "stream",
     "text": [
      "\n",
      "\n",
      "\n"
     ]
    },
    {
     "data": {
      "application/vnd.jupyter.widget-view+json": {
       "model_id": "ac050c2bc16c4149a5b81cfdd82da0da",
       "version_major": 2,
       "version_minor": 0
      },
      "text/plain": [
       "SEJveChjaGlsZHJlbj0oRmxvYXRQcm9ncmVzcyh2YWx1ZT0wLjAsIGRlc2NyaXB0aW9uPXUnTWVhc3VyZW1lbnQgJScsIG1heD02LjAsIHN0eWxlPVByb2dyZXNzU3R5bGUoZGVzY3JpcHRpb27igKY=\n"
      ]
     },
     "metadata": {},
     "output_type": "display_data"
    },
    {
     "data": {
      "application/vnd.jupyter.widget-view+json": {
       "model_id": "7c222a3a953c410d975066ac79e75043",
       "version_major": 2,
       "version_minor": 0
      },
      "text/plain": [
       "SEJveChjaGlsZHJlbj0oRmxvYXRQcm9ncmVzcyh2YWx1ZT0wLjAsIGRlc2NyaXB0aW9uPXUnSW1hZ2UgRmVhdHVyZXMnLCBtYXg9ODcuMCwgc3R5bGU9UHJvZ3Jlc3NTdHlsZShkZXNjcmlwdGnigKY=\n"
      ]
     },
     "metadata": {},
     "output_type": "display_data"
    },
    {
     "name": "stdout",
     "output_type": "stream",
     "text": [
      "\n"
     ]
    },
    {
     "data": {
      "application/vnd.jupyter.widget-view+json": {
       "model_id": "e4d4e30cf9ea4a66a579d828f0d404eb",
       "version_major": 2,
       "version_minor": 0
      },
      "text/plain": [
       "SEJveChjaGlsZHJlbj0oRmxvYXRQcm9ncmVzcyh2YWx1ZT0wLjAsIGRlc2NyaXB0aW9uPXUnYyBWYWx1ZXMnLCBtYXg9My4wLCBzdHlsZT1Qcm9ncmVzc1N0eWxlKGRlc2NyaXB0aW9uX3dpZHTigKY=\n"
      ]
     },
     "metadata": {},
     "output_type": "display_data"
    },
    {
     "data": {
      "application/vnd.jupyter.widget-view+json": {
       "model_id": "d54f2710c9074597bee5242a6ae76cde",
       "version_major": 2,
       "version_minor": 0
      },
      "text/plain": [
       "SEJveChjaGlsZHJlbj0oRmxvYXRQcm9ncmVzcyh2YWx1ZT0wLjAsIGRlc2NyaXB0aW9uPXUnR2F1c3NpYW4nLCBtYXg9MTU4NC4wLCBzdHlsZT1Qcm9ncmVzc1N0eWxlKGRlc2NyaXB0aW9uX3figKY=\n"
      ]
     },
     "metadata": {},
     "output_type": "display_data"
    },
    {
     "name": "stdout",
     "output_type": "stream",
     "text": [
      "\n"
     ]
    },
    {
     "data": {
      "application/vnd.jupyter.widget-view+json": {
       "model_id": "089a786661e44577b3c73c34bccbf8b8",
       "version_major": 2,
       "version_minor": 0
      },
      "text/plain": [
       "SEJveChjaGlsZHJlbj0oRmxvYXRQcm9ncmVzcyh2YWx1ZT0wLjAsIGRlc2NyaXB0aW9uPXUnR2F1c3NpYW4nLCBtYXg9MTU4NC4wLCBzdHlsZT1Qcm9ncmVzc1N0eWxlKGRlc2NyaXB0aW9uX3figKY=\n"
      ]
     },
     "metadata": {},
     "output_type": "display_data"
    },
    {
     "name": "stdout",
     "output_type": "stream",
     "text": [
      "\n"
     ]
    },
    {
     "data": {
      "application/vnd.jupyter.widget-view+json": {
       "model_id": "9fe3ffec1f1c44f8bf53fc212c897a97",
       "version_major": 2,
       "version_minor": 0
      },
      "text/plain": [
       "SEJveChjaGlsZHJlbj0oRmxvYXRQcm9ncmVzcyh2YWx1ZT0wLjAsIGRlc2NyaXB0aW9uPXUnR2F1c3NpYW4nLCBtYXg9MTU4NC4wLCBzdHlsZT1Qcm9ncmVzc1N0eWxlKGRlc2NyaXB0aW9uX3figKY=\n"
      ]
     },
     "metadata": {},
     "output_type": "display_data"
    },
    {
     "name": "stdout",
     "output_type": "stream",
     "text": [
      "\n",
      "\n"
     ]
    },
    {
     "data": {
      "application/vnd.jupyter.widget-view+json": {
       "model_id": "b74d2cf5490240e68bbb16f46ee14996",
       "version_major": 2,
       "version_minor": 0
      },
      "text/plain": [
       "SEJveChjaGlsZHJlbj0oRmxvYXRQcm9ncmVzcyh2YWx1ZT0wLjAsIGRlc2NyaXB0aW9uPXUnSW1hZ2UgRmVhdHVyZXMnLCBtYXg9ODcuMCwgc3R5bGU9UHJvZ3Jlc3NTdHlsZShkZXNjcmlwdGnigKY=\n"
      ]
     },
     "metadata": {},
     "output_type": "display_data"
    },
    {
     "name": "stdout",
     "output_type": "stream",
     "text": [
      "\n"
     ]
    },
    {
     "data": {
      "application/vnd.jupyter.widget-view+json": {
       "model_id": "2131a090eda94121a41324cc97a1ce97",
       "version_major": 2,
       "version_minor": 0
      },
      "text/plain": [
       "SEJveChjaGlsZHJlbj0oRmxvYXRQcm9ncmVzcyh2YWx1ZT0wLjAsIGRlc2NyaXB0aW9uPXUnYyBWYWx1ZXMnLCBtYXg9My4wLCBzdHlsZT1Qcm9ncmVzc1N0eWxlKGRlc2NyaXB0aW9uX3dpZHTigKY=\n"
      ]
     },
     "metadata": {},
     "output_type": "display_data"
    },
    {
     "data": {
      "application/vnd.jupyter.widget-view+json": {
       "model_id": "ddb77e1592a946c7804f0b60eab0323a",
       "version_major": 2,
       "version_minor": 0
      },
      "text/plain": [
       "SEJveChjaGlsZHJlbj0oRmxvYXRQcm9ncmVzcyh2YWx1ZT0wLjAsIGRlc2NyaXB0aW9uPXUnR2F1c3NpYW4nLCBtYXg9MTUyMC4wLCBzdHlsZT1Qcm9ncmVzc1N0eWxlKGRlc2NyaXB0aW9uX3figKY=\n"
      ]
     },
     "metadata": {},
     "output_type": "display_data"
    },
    {
     "name": "stdout",
     "output_type": "stream",
     "text": [
      "\n"
     ]
    },
    {
     "data": {
      "application/vnd.jupyter.widget-view+json": {
       "model_id": "77879b6f872948f6b06d6656bf967e56",
       "version_major": 2,
       "version_minor": 0
      },
      "text/plain": [
       "SEJveChjaGlsZHJlbj0oRmxvYXRQcm9ncmVzcyh2YWx1ZT0wLjAsIGRlc2NyaXB0aW9uPXUnR2F1c3NpYW4nLCBtYXg9MTUyMC4wLCBzdHlsZT1Qcm9ncmVzc1N0eWxlKGRlc2NyaXB0aW9uX3figKY=\n"
      ]
     },
     "metadata": {},
     "output_type": "display_data"
    },
    {
     "name": "stdout",
     "output_type": "stream",
     "text": [
      "\n"
     ]
    },
    {
     "data": {
      "application/vnd.jupyter.widget-view+json": {
       "model_id": "eda40008c21f4eacb35fc0fab060402a",
       "version_major": 2,
       "version_minor": 0
      },
      "text/plain": [
       "SEJveChjaGlsZHJlbj0oRmxvYXRQcm9ncmVzcyh2YWx1ZT0wLjAsIGRlc2NyaXB0aW9uPXUnR2F1c3NpYW4nLCBtYXg9MTUyMC4wLCBzdHlsZT1Qcm9ncmVzc1N0eWxlKGRlc2NyaXB0aW9uX3figKY=\n"
      ]
     },
     "metadata": {},
     "output_type": "display_data"
    },
    {
     "name": "stdout",
     "output_type": "stream",
     "text": [
      "\n",
      "\n"
     ]
    },
    {
     "data": {
      "application/vnd.jupyter.widget-view+json": {
       "model_id": "11fec1e9e7754aa9b4e6a9b5341fc0b2",
       "version_major": 2,
       "version_minor": 0
      },
      "text/plain": [
       "SEJveChjaGlsZHJlbj0oRmxvYXRQcm9ncmVzcyh2YWx1ZT0wLjAsIGRlc2NyaXB0aW9uPXUnSW1hZ2UgRmVhdHVyZXMnLCBtYXg9ODcuMCwgc3R5bGU9UHJvZ3Jlc3NTdHlsZShkZXNjcmlwdGnigKY=\n"
      ]
     },
     "metadata": {},
     "output_type": "display_data"
    },
    {
     "name": "stdout",
     "output_type": "stream",
     "text": [
      "\n"
     ]
    },
    {
     "data": {
      "application/vnd.jupyter.widget-view+json": {
       "model_id": "119ffb8633ab4670911c4367df62cd4a",
       "version_major": 2,
       "version_minor": 0
      },
      "text/plain": [
       "SEJveChjaGlsZHJlbj0oRmxvYXRQcm9ncmVzcyh2YWx1ZT0wLjAsIGRlc2NyaXB0aW9uPXUnYyBWYWx1ZXMnLCBtYXg9My4wLCBzdHlsZT1Qcm9ncmVzc1N0eWxlKGRlc2NyaXB0aW9uX3dpZHTigKY=\n"
      ]
     },
     "metadata": {},
     "output_type": "display_data"
    },
    {
     "data": {
      "application/vnd.jupyter.widget-view+json": {
       "model_id": "31d7322728424822aa28305afc83a762",
       "version_major": 2,
       "version_minor": 0
      },
      "text/plain": [
       "SEJveChjaGlsZHJlbj0oRmxvYXRQcm9ncmVzcyh2YWx1ZT0wLjAsIGRlc2NyaXB0aW9uPXUnR2F1c3NpYW4nLCBtYXg9MTQ0MC4wLCBzdHlsZT1Qcm9ncmVzc1N0eWxlKGRlc2NyaXB0aW9uX3figKY=\n"
      ]
     },
     "metadata": {},
     "output_type": "display_data"
    },
    {
     "name": "stdout",
     "output_type": "stream",
     "text": [
      "\n"
     ]
    },
    {
     "data": {
      "application/vnd.jupyter.widget-view+json": {
       "model_id": "ae9c4b67dd3c48b290025f141a8ce37f",
       "version_major": 2,
       "version_minor": 0
      },
      "text/plain": [
       "SEJveChjaGlsZHJlbj0oRmxvYXRQcm9ncmVzcyh2YWx1ZT0wLjAsIGRlc2NyaXB0aW9uPXUnR2F1c3NpYW4nLCBtYXg9MTQ0MC4wLCBzdHlsZT1Qcm9ncmVzc1N0eWxlKGRlc2NyaXB0aW9uX3figKY=\n"
      ]
     },
     "metadata": {},
     "output_type": "display_data"
    },
    {
     "name": "stdout",
     "output_type": "stream",
     "text": [
      "\n"
     ]
    },
    {
     "data": {
      "application/vnd.jupyter.widget-view+json": {
       "model_id": "8953259e07ab46d19d4a6475e4f1816c",
       "version_major": 2,
       "version_minor": 0
      },
      "text/plain": [
       "SEJveChjaGlsZHJlbj0oRmxvYXRQcm9ncmVzcyh2YWx1ZT0wLjAsIGRlc2NyaXB0aW9uPXUnR2F1c3NpYW4nLCBtYXg9MTQ0MC4wLCBzdHlsZT1Qcm9ncmVzc1N0eWxlKGRlc2NyaXB0aW9uX3figKY=\n"
      ]
     },
     "metadata": {},
     "output_type": "display_data"
    },
    {
     "name": "stdout",
     "output_type": "stream",
     "text": [
      "\n",
      "\n"
     ]
    },
    {
     "data": {
      "application/vnd.jupyter.widget-view+json": {
       "model_id": "02c00159c92644bd82e7c5d0fd8b4d74",
       "version_major": 2,
       "version_minor": 0
      },
      "text/plain": [
       "SEJveChjaGlsZHJlbj0oRmxvYXRQcm9ncmVzcyh2YWx1ZT0wLjAsIGRlc2NyaXB0aW9uPXUnSW1hZ2UgRmVhdHVyZXMnLCBtYXg9ODcuMCwgc3R5bGU9UHJvZ3Jlc3NTdHlsZShkZXNjcmlwdGnigKY=\n"
      ]
     },
     "metadata": {},
     "output_type": "display_data"
    },
    {
     "name": "stdout",
     "output_type": "stream",
     "text": [
      "\n"
     ]
    },
    {
     "data": {
      "application/vnd.jupyter.widget-view+json": {
       "model_id": "6e33f8423ef042b496096fab8efc789a",
       "version_major": 2,
       "version_minor": 0
      },
      "text/plain": [
       "SEJveChjaGlsZHJlbj0oRmxvYXRQcm9ncmVzcyh2YWx1ZT0wLjAsIGRlc2NyaXB0aW9uPXUnYyBWYWx1ZXMnLCBtYXg9My4wLCBzdHlsZT1Qcm9ncmVzc1N0eWxlKGRlc2NyaXB0aW9uX3dpZHTigKY=\n"
      ]
     },
     "metadata": {},
     "output_type": "display_data"
    },
    {
     "data": {
      "application/vnd.jupyter.widget-view+json": {
       "model_id": "774470f3f8c741d88c83595e7d3d65f8",
       "version_major": 2,
       "version_minor": 0
      },
      "text/plain": [
       "SEJveChjaGlsZHJlbj0oRmxvYXRQcm9ncmVzcyh2YWx1ZT0wLjAsIGRlc2NyaXB0aW9uPXUnR2F1c3NpYW4nLCBtYXg9MTI4MC4wLCBzdHlsZT1Qcm9ncmVzc1N0eWxlKGRlc2NyaXB0aW9uX3figKY=\n"
      ]
     },
     "metadata": {},
     "output_type": "display_data"
    },
    {
     "name": "stdout",
     "output_type": "stream",
     "text": [
      "\n"
     ]
    },
    {
     "data": {
      "application/vnd.jupyter.widget-view+json": {
       "model_id": "051579e50d1c4de6b003dd5f2f4aaa01",
       "version_major": 2,
       "version_minor": 0
      },
      "text/plain": [
       "SEJveChjaGlsZHJlbj0oRmxvYXRQcm9ncmVzcyh2YWx1ZT0wLjAsIGRlc2NyaXB0aW9uPXUnR2F1c3NpYW4nLCBtYXg9MTI4MC4wLCBzdHlsZT1Qcm9ncmVzc1N0eWxlKGRlc2NyaXB0aW9uX3figKY=\n"
      ]
     },
     "metadata": {},
     "output_type": "display_data"
    },
    {
     "name": "stdout",
     "output_type": "stream",
     "text": [
      "\n"
     ]
    },
    {
     "data": {
      "application/vnd.jupyter.widget-view+json": {
       "model_id": "c41ad84c3c08430c8581085a726ba062",
       "version_major": 2,
       "version_minor": 0
      },
      "text/plain": [
       "SEJveChjaGlsZHJlbj0oRmxvYXRQcm9ncmVzcyh2YWx1ZT0wLjAsIGRlc2NyaXB0aW9uPXUnR2F1c3NpYW4nLCBtYXg9MTI4MC4wLCBzdHlsZT1Qcm9ncmVzc1N0eWxlKGRlc2NyaXB0aW9uX3figKY=\n"
      ]
     },
     "metadata": {},
     "output_type": "display_data"
    },
    {
     "name": "stdout",
     "output_type": "stream",
     "text": [
      "\n",
      "\n"
     ]
    },
    {
     "data": {
      "application/vnd.jupyter.widget-view+json": {
       "model_id": "89db4c1c545641f4948202ae672a7d16",
       "version_major": 2,
       "version_minor": 0
      },
      "text/plain": [
       "SEJveChjaGlsZHJlbj0oRmxvYXRQcm9ncmVzcyh2YWx1ZT0wLjAsIGRlc2NyaXB0aW9uPXUnSW1hZ2UgRmVhdHVyZXMnLCBtYXg9ODcuMCwgc3R5bGU9UHJvZ3Jlc3NTdHlsZShkZXNjcmlwdGnigKY=\n"
      ]
     },
     "metadata": {},
     "output_type": "display_data"
    },
    {
     "name": "stdout",
     "output_type": "stream",
     "text": [
      "\n"
     ]
    },
    {
     "data": {
      "application/vnd.jupyter.widget-view+json": {
       "model_id": "755775f5b8794cd1a01fce3d171ddbf1",
       "version_major": 2,
       "version_minor": 0
      },
      "text/plain": [
       "SEJveChjaGlsZHJlbj0oRmxvYXRQcm9ncmVzcyh2YWx1ZT0wLjAsIGRlc2NyaXB0aW9uPXUnYyBWYWx1ZXMnLCBtYXg9My4wLCBzdHlsZT1Qcm9ncmVzc1N0eWxlKGRlc2NyaXB0aW9uX3dpZHTigKY=\n"
      ]
     },
     "metadata": {},
     "output_type": "display_data"
    },
    {
     "data": {
      "application/vnd.jupyter.widget-view+json": {
       "model_id": "b0a6863e3b534fc3ba74e95f901b5288",
       "version_major": 2,
       "version_minor": 0
      },
      "text/plain": [
       "SEJveChjaGlsZHJlbj0oRmxvYXRQcm9ncmVzcyh2YWx1ZT0wLjAsIGRlc2NyaXB0aW9uPXUnR2F1c3NpYW4nLCBtYXg9MTEyMC4wLCBzdHlsZT1Qcm9ncmVzc1N0eWxlKGRlc2NyaXB0aW9uX3figKY=\n"
      ]
     },
     "metadata": {},
     "output_type": "display_data"
    },
    {
     "name": "stdout",
     "output_type": "stream",
     "text": [
      "\n"
     ]
    },
    {
     "data": {
      "application/vnd.jupyter.widget-view+json": {
       "model_id": "22882e4882664e09a02c1e9e6f149846",
       "version_major": 2,
       "version_minor": 0
      },
      "text/plain": [
       "SEJveChjaGlsZHJlbj0oRmxvYXRQcm9ncmVzcyh2YWx1ZT0wLjAsIGRlc2NyaXB0aW9uPXUnR2F1c3NpYW4nLCBtYXg9MTEyMC4wLCBzdHlsZT1Qcm9ncmVzc1N0eWxlKGRlc2NyaXB0aW9uX3figKY=\n"
      ]
     },
     "metadata": {},
     "output_type": "display_data"
    },
    {
     "name": "stdout",
     "output_type": "stream",
     "text": [
      "\n"
     ]
    },
    {
     "data": {
      "application/vnd.jupyter.widget-view+json": {
       "model_id": "7926892ef81a4b9ab92f803c3a2230ca",
       "version_major": 2,
       "version_minor": 0
      },
      "text/plain": [
       "SEJveChjaGlsZHJlbj0oRmxvYXRQcm9ncmVzcyh2YWx1ZT0wLjAsIGRlc2NyaXB0aW9uPXUnR2F1c3NpYW4nLCBtYXg9MTEyMC4wLCBzdHlsZT1Qcm9ncmVzc1N0eWxlKGRlc2NyaXB0aW9uX3figKY=\n"
      ]
     },
     "metadata": {},
     "output_type": "display_data"
    },
    {
     "name": "stdout",
     "output_type": "stream",
     "text": [
      "\n",
      "\n"
     ]
    },
    {
     "data": {
      "application/vnd.jupyter.widget-view+json": {
       "model_id": "7f72de0de5f14a808fa4d7d6c18041ae",
       "version_major": 2,
       "version_minor": 0
      },
      "text/plain": [
       "SEJveChjaGlsZHJlbj0oRmxvYXRQcm9ncmVzcyh2YWx1ZT0wLjAsIGRlc2NyaXB0aW9uPXUnSW1hZ2UgRmVhdHVyZXMnLCBtYXg9ODcuMCwgc3R5bGU9UHJvZ3Jlc3NTdHlsZShkZXNjcmlwdGnigKY=\n"
      ]
     },
     "metadata": {},
     "output_type": "display_data"
    },
    {
     "name": "stdout",
     "output_type": "stream",
     "text": [
      "\n"
     ]
    },
    {
     "data": {
      "application/vnd.jupyter.widget-view+json": {
       "model_id": "d4256494548744f68067c7dfa75bd16e",
       "version_major": 2,
       "version_minor": 0
      },
      "text/plain": [
       "SEJveChjaGlsZHJlbj0oRmxvYXRQcm9ncmVzcyh2YWx1ZT0wLjAsIGRlc2NyaXB0aW9uPXUnYyBWYWx1ZXMnLCBtYXg9My4wLCBzdHlsZT1Qcm9ncmVzc1N0eWxlKGRlc2NyaXB0aW9uX3dpZHTigKY=\n"
      ]
     },
     "metadata": {},
     "output_type": "display_data"
    },
    {
     "data": {
      "application/vnd.jupyter.widget-view+json": {
       "model_id": "1243be8d01b04c318d13a3ba274fcaa8",
       "version_major": 2,
       "version_minor": 0
      },
      "text/plain": [
       "SEJveChjaGlsZHJlbj0oRmxvYXRQcm9ncmVzcyh2YWx1ZT0wLjAsIGRlc2NyaXB0aW9uPXUnR2F1c3NpYW4nLCBtYXg9OTYwLjAsIHN0eWxlPVByb2dyZXNzU3R5bGUoZGVzY3JpcHRpb25fd2nigKY=\n"
      ]
     },
     "metadata": {},
     "output_type": "display_data"
    },
    {
     "name": "stdout",
     "output_type": "stream",
     "text": [
      "\n"
     ]
    },
    {
     "data": {
      "application/vnd.jupyter.widget-view+json": {
       "model_id": "f49fda2212e942929a4282c193616359",
       "version_major": 2,
       "version_minor": 0
      },
      "text/plain": [
       "SEJveChjaGlsZHJlbj0oRmxvYXRQcm9ncmVzcyh2YWx1ZT0wLjAsIGRlc2NyaXB0aW9uPXUnR2F1c3NpYW4nLCBtYXg9OTYwLjAsIHN0eWxlPVByb2dyZXNzU3R5bGUoZGVzY3JpcHRpb25fd2nigKY=\n"
      ]
     },
     "metadata": {},
     "output_type": "display_data"
    },
    {
     "name": "stdout",
     "output_type": "stream",
     "text": [
      "\n"
     ]
    },
    {
     "data": {
      "application/vnd.jupyter.widget-view+json": {
       "model_id": "a4432128e3f0456dbdc3592eaf7ecd38",
       "version_major": 2,
       "version_minor": 0
      },
      "text/plain": [
       "SEJveChjaGlsZHJlbj0oRmxvYXRQcm9ncmVzcyh2YWx1ZT0wLjAsIGRlc2NyaXB0aW9uPXUnR2F1c3NpYW4nLCBtYXg9OTYwLjAsIHN0eWxlPVByb2dyZXNzU3R5bGUoZGVzY3JpcHRpb25fd2nigKY=\n"
      ]
     },
     "metadata": {},
     "output_type": "display_data"
    },
    {
     "name": "stdout",
     "output_type": "stream",
     "text": [
      "\n",
      "\n",
      "\n"
     ]
    },
    {
     "data": {
      "application/vnd.jupyter.widget-view+json": {
       "model_id": "9c7fc8ec2a7c44e1be976d6fb09012cb",
       "version_major": 2,
       "version_minor": 0
      },
      "text/plain": [
       "SEJveChjaGlsZHJlbj0oRmxvYXRQcm9ncmVzcyh2YWx1ZT0wLjAsIGRlc2NyaXB0aW9uPXUnTWVhc3VyZW1lbnQgJScsIG1heD02LjAsIHN0eWxlPVByb2dyZXNzU3R5bGUoZGVzY3JpcHRpb27igKY=\n"
      ]
     },
     "metadata": {},
     "output_type": "display_data"
    },
    {
     "data": {
      "application/vnd.jupyter.widget-view+json": {
       "model_id": "8e2357e783c8486aa255c62444d51812",
       "version_major": 2,
       "version_minor": 0
      },
      "text/plain": [
       "SEJveChjaGlsZHJlbj0oRmxvYXRQcm9ncmVzcyh2YWx1ZT0wLjAsIGRlc2NyaXB0aW9uPXUnSW1hZ2UgRmVhdHVyZXMnLCBtYXg9ODcuMCwgc3R5bGU9UHJvZ3Jlc3NTdHlsZShkZXNjcmlwdGnigKY=\n"
      ]
     },
     "metadata": {},
     "output_type": "display_data"
    },
    {
     "name": "stdout",
     "output_type": "stream",
     "text": [
      "\n"
     ]
    },
    {
     "data": {
      "application/vnd.jupyter.widget-view+json": {
       "model_id": "c76d446032cf4b91a99da230115c7dd3",
       "version_major": 2,
       "version_minor": 0
      },
      "text/plain": [
       "SEJveChjaGlsZHJlbj0oRmxvYXRQcm9ncmVzcyh2YWx1ZT0wLjAsIGRlc2NyaXB0aW9uPXUnYyBWYWx1ZXMnLCBtYXg9My4wLCBzdHlsZT1Qcm9ncmVzc1N0eWxlKGRlc2NyaXB0aW9uX3dpZHTigKY=\n"
      ]
     },
     "metadata": {},
     "output_type": "display_data"
    },
    {
     "data": {
      "application/vnd.jupyter.widget-view+json": {
       "model_id": "71c880b7b56c418399a6872c0a75e7c1",
       "version_major": 2,
       "version_minor": 0
      },
      "text/plain": [
       "SEJveChjaGlsZHJlbj0oRmxvYXRQcm9ncmVzcyh2YWx1ZT0wLjAsIGRlc2NyaXB0aW9uPXUnR2F1c3NpYW4nLCBtYXg9MTk4MC4wLCBzdHlsZT1Qcm9ncmVzc1N0eWxlKGRlc2NyaXB0aW9uX3figKY=\n"
      ]
     },
     "metadata": {},
     "output_type": "display_data"
    },
    {
     "name": "stdout",
     "output_type": "stream",
     "text": [
      "\n"
     ]
    },
    {
     "data": {
      "application/vnd.jupyter.widget-view+json": {
       "model_id": "d782e8e2f96e4f5c914e6fb3cb45112a",
       "version_major": 2,
       "version_minor": 0
      },
      "text/plain": [
       "SEJveChjaGlsZHJlbj0oRmxvYXRQcm9ncmVzcyh2YWx1ZT0wLjAsIGRlc2NyaXB0aW9uPXUnR2F1c3NpYW4nLCBtYXg9MTk4MC4wLCBzdHlsZT1Qcm9ncmVzc1N0eWxlKGRlc2NyaXB0aW9uX3figKY=\n"
      ]
     },
     "metadata": {},
     "output_type": "display_data"
    },
    {
     "name": "stdout",
     "output_type": "stream",
     "text": [
      "\n"
     ]
    },
    {
     "data": {
      "application/vnd.jupyter.widget-view+json": {
       "model_id": "ff9054adef5d4dfe870126d17347b35e",
       "version_major": 2,
       "version_minor": 0
      },
      "text/plain": [
       "SEJveChjaGlsZHJlbj0oRmxvYXRQcm9ncmVzcyh2YWx1ZT0wLjAsIGRlc2NyaXB0aW9uPXUnR2F1c3NpYW4nLCBtYXg9MTk4MC4wLCBzdHlsZT1Qcm9ncmVzc1N0eWxlKGRlc2NyaXB0aW9uX3figKY=\n"
      ]
     },
     "metadata": {},
     "output_type": "display_data"
    },
    {
     "name": "stdout",
     "output_type": "stream",
     "text": [
      "\n",
      "\n"
     ]
    },
    {
     "data": {
      "application/vnd.jupyter.widget-view+json": {
       "model_id": "293a9230417240f881df30901898e789",
       "version_major": 2,
       "version_minor": 0
      },
      "text/plain": [
       "SEJveChjaGlsZHJlbj0oRmxvYXRQcm9ncmVzcyh2YWx1ZT0wLjAsIGRlc2NyaXB0aW9uPXUnSW1hZ2UgRmVhdHVyZXMnLCBtYXg9ODcuMCwgc3R5bGU9UHJvZ3Jlc3NTdHlsZShkZXNjcmlwdGnigKY=\n"
      ]
     },
     "metadata": {},
     "output_type": "display_data"
    },
    {
     "name": "stdout",
     "output_type": "stream",
     "text": [
      "\n"
     ]
    },
    {
     "data": {
      "application/vnd.jupyter.widget-view+json": {
       "model_id": "fe862dd3d3af4f14bd3385b21de5568b",
       "version_major": 2,
       "version_minor": 0
      },
      "text/plain": [
       "SEJveChjaGlsZHJlbj0oRmxvYXRQcm9ncmVzcyh2YWx1ZT0wLjAsIGRlc2NyaXB0aW9uPXUnYyBWYWx1ZXMnLCBtYXg9My4wLCBzdHlsZT1Qcm9ncmVzc1N0eWxlKGRlc2NyaXB0aW9uX3dpZHTigKY=\n"
      ]
     },
     "metadata": {},
     "output_type": "display_data"
    },
    {
     "data": {
      "application/vnd.jupyter.widget-view+json": {
       "model_id": "d558402937dc4a37bb2625e830471d5f",
       "version_major": 2,
       "version_minor": 0
      },
      "text/plain": [
       "SEJveChjaGlsZHJlbj0oRmxvYXRQcm9ncmVzcyh2YWx1ZT0wLjAsIGRlc2NyaXB0aW9uPXUnR2F1c3NpYW4nLCBtYXg9MTkwMC4wLCBzdHlsZT1Qcm9ncmVzc1N0eWxlKGRlc2NyaXB0aW9uX3figKY=\n"
      ]
     },
     "metadata": {},
     "output_type": "display_data"
    },
    {
     "name": "stdout",
     "output_type": "stream",
     "text": [
      "\n"
     ]
    },
    {
     "data": {
      "application/vnd.jupyter.widget-view+json": {
       "model_id": "0e34a09d00a94253b634eb7d44f77869",
       "version_major": 2,
       "version_minor": 0
      },
      "text/plain": [
       "SEJveChjaGlsZHJlbj0oRmxvYXRQcm9ncmVzcyh2YWx1ZT0wLjAsIGRlc2NyaXB0aW9uPXUnR2F1c3NpYW4nLCBtYXg9MTkwMC4wLCBzdHlsZT1Qcm9ncmVzc1N0eWxlKGRlc2NyaXB0aW9uX3figKY=\n"
      ]
     },
     "metadata": {},
     "output_type": "display_data"
    },
    {
     "name": "stdout",
     "output_type": "stream",
     "text": [
      "\n"
     ]
    },
    {
     "data": {
      "application/vnd.jupyter.widget-view+json": {
       "model_id": "12187dbfe4834f88a9c4ec770d3c1826",
       "version_major": 2,
       "version_minor": 0
      },
      "text/plain": [
       "SEJveChjaGlsZHJlbj0oRmxvYXRQcm9ncmVzcyh2YWx1ZT0wLjAsIGRlc2NyaXB0aW9uPXUnR2F1c3NpYW4nLCBtYXg9MTkwMC4wLCBzdHlsZT1Qcm9ncmVzc1N0eWxlKGRlc2NyaXB0aW9uX3figKY=\n"
      ]
     },
     "metadata": {},
     "output_type": "display_data"
    },
    {
     "name": "stdout",
     "output_type": "stream",
     "text": [
      "\n",
      "\n"
     ]
    },
    {
     "data": {
      "application/vnd.jupyter.widget-view+json": {
       "model_id": "4f12d65c4e0c46b9826d3199bd8bf694",
       "version_major": 2,
       "version_minor": 0
      },
      "text/plain": [
       "SEJveChjaGlsZHJlbj0oRmxvYXRQcm9ncmVzcyh2YWx1ZT0wLjAsIGRlc2NyaXB0aW9uPXUnSW1hZ2UgRmVhdHVyZXMnLCBtYXg9ODcuMCwgc3R5bGU9UHJvZ3Jlc3NTdHlsZShkZXNjcmlwdGnigKY=\n"
      ]
     },
     "metadata": {},
     "output_type": "display_data"
    },
    {
     "name": "stdout",
     "output_type": "stream",
     "text": [
      "\n"
     ]
    },
    {
     "data": {
      "application/vnd.jupyter.widget-view+json": {
       "model_id": "c3b9d0c285664e07bd9874ca8bfda18a",
       "version_major": 2,
       "version_minor": 0
      },
      "text/plain": [
       "SEJveChjaGlsZHJlbj0oRmxvYXRQcm9ncmVzcyh2YWx1ZT0wLjAsIGRlc2NyaXB0aW9uPXUnYyBWYWx1ZXMnLCBtYXg9My4wLCBzdHlsZT1Qcm9ncmVzc1N0eWxlKGRlc2NyaXB0aW9uX3dpZHTigKY=\n"
      ]
     },
     "metadata": {},
     "output_type": "display_data"
    },
    {
     "data": {
      "application/vnd.jupyter.widget-view+json": {
       "model_id": "26e0bd30d36d44e8bf4e6094e1053ac7",
       "version_major": 2,
       "version_minor": 0
      },
      "text/plain": [
       "SEJveChjaGlsZHJlbj0oRmxvYXRQcm9ncmVzcyh2YWx1ZT0wLjAsIGRlc2NyaXB0aW9uPXUnR2F1c3NpYW4nLCBtYXg9MTgwMC4wLCBzdHlsZT1Qcm9ncmVzc1N0eWxlKGRlc2NyaXB0aW9uX3figKY=\n"
      ]
     },
     "metadata": {},
     "output_type": "display_data"
    },
    {
     "name": "stdout",
     "output_type": "stream",
     "text": [
      "\n"
     ]
    },
    {
     "data": {
      "application/vnd.jupyter.widget-view+json": {
       "model_id": "8c37ca5457db47dba6969b5c41f8d479",
       "version_major": 2,
       "version_minor": 0
      },
      "text/plain": [
       "SEJveChjaGlsZHJlbj0oRmxvYXRQcm9ncmVzcyh2YWx1ZT0wLjAsIGRlc2NyaXB0aW9uPXUnR2F1c3NpYW4nLCBtYXg9MTgwMC4wLCBzdHlsZT1Qcm9ncmVzc1N0eWxlKGRlc2NyaXB0aW9uX3figKY=\n"
      ]
     },
     "metadata": {},
     "output_type": "display_data"
    },
    {
     "name": "stdout",
     "output_type": "stream",
     "text": [
      "\n"
     ]
    },
    {
     "data": {
      "application/vnd.jupyter.widget-view+json": {
       "model_id": "a44d5c007b1e47528afeee4051be61e9",
       "version_major": 2,
       "version_minor": 0
      },
      "text/plain": [
       "SEJveChjaGlsZHJlbj0oRmxvYXRQcm9ncmVzcyh2YWx1ZT0wLjAsIGRlc2NyaXB0aW9uPXUnR2F1c3NpYW4nLCBtYXg9MTgwMC4wLCBzdHlsZT1Qcm9ncmVzc1N0eWxlKGRlc2NyaXB0aW9uX3figKY=\n"
      ]
     },
     "metadata": {},
     "output_type": "display_data"
    },
    {
     "name": "stdout",
     "output_type": "stream",
     "text": [
      "\n",
      "\n"
     ]
    },
    {
     "data": {
      "application/vnd.jupyter.widget-view+json": {
       "model_id": "8c29d748b61a4b4eb4c31110b25f29e4",
       "version_major": 2,
       "version_minor": 0
      },
      "text/plain": [
       "SEJveChjaGlsZHJlbj0oRmxvYXRQcm9ncmVzcyh2YWx1ZT0wLjAsIGRlc2NyaXB0aW9uPXUnSW1hZ2UgRmVhdHVyZXMnLCBtYXg9ODcuMCwgc3R5bGU9UHJvZ3Jlc3NTdHlsZShkZXNjcmlwdGnigKY=\n"
      ]
     },
     "metadata": {},
     "output_type": "display_data"
    },
    {
     "name": "stdout",
     "output_type": "stream",
     "text": [
      "\n"
     ]
    },
    {
     "data": {
      "application/vnd.jupyter.widget-view+json": {
       "model_id": "61f2b52392604019a519dffd95db440c",
       "version_major": 2,
       "version_minor": 0
      },
      "text/plain": [
       "SEJveChjaGlsZHJlbj0oRmxvYXRQcm9ncmVzcyh2YWx1ZT0wLjAsIGRlc2NyaXB0aW9uPXUnYyBWYWx1ZXMnLCBtYXg9My4wLCBzdHlsZT1Qcm9ncmVzc1N0eWxlKGRlc2NyaXB0aW9uX3dpZHTigKY=\n"
      ]
     },
     "metadata": {},
     "output_type": "display_data"
    },
    {
     "data": {
      "application/vnd.jupyter.widget-view+json": {
       "model_id": "95f527b6c317468e9846609b529e8218",
       "version_major": 2,
       "version_minor": 0
      },
      "text/plain": [
       "SEJveChjaGlsZHJlbj0oRmxvYXRQcm9ncmVzcyh2YWx1ZT0wLjAsIGRlc2NyaXB0aW9uPXUnR2F1c3NpYW4nLCBtYXg9MTYwMC4wLCBzdHlsZT1Qcm9ncmVzc1N0eWxlKGRlc2NyaXB0aW9uX3figKY=\n"
      ]
     },
     "metadata": {},
     "output_type": "display_data"
    },
    {
     "name": "stdout",
     "output_type": "stream",
     "text": [
      "\n"
     ]
    },
    {
     "data": {
      "application/vnd.jupyter.widget-view+json": {
       "model_id": "609a5b082d0c4b8b927be343416dd0a4",
       "version_major": 2,
       "version_minor": 0
      },
      "text/plain": [
       "SEJveChjaGlsZHJlbj0oRmxvYXRQcm9ncmVzcyh2YWx1ZT0wLjAsIGRlc2NyaXB0aW9uPXUnR2F1c3NpYW4nLCBtYXg9MTYwMC4wLCBzdHlsZT1Qcm9ncmVzc1N0eWxlKGRlc2NyaXB0aW9uX3figKY=\n"
      ]
     },
     "metadata": {},
     "output_type": "display_data"
    },
    {
     "name": "stdout",
     "output_type": "stream",
     "text": [
      "\n"
     ]
    },
    {
     "data": {
      "application/vnd.jupyter.widget-view+json": {
       "model_id": "d2da20a3585143cca87ae7ae1c6f5387",
       "version_major": 2,
       "version_minor": 0
      },
      "text/plain": [
       "SEJveChjaGlsZHJlbj0oRmxvYXRQcm9ncmVzcyh2YWx1ZT0wLjAsIGRlc2NyaXB0aW9uPXUnR2F1c3NpYW4nLCBtYXg9MTYwMC4wLCBzdHlsZT1Qcm9ncmVzc1N0eWxlKGRlc2NyaXB0aW9uX3figKY=\n"
      ]
     },
     "metadata": {},
     "output_type": "display_data"
    },
    {
     "name": "stdout",
     "output_type": "stream",
     "text": [
      "\n",
      "\n"
     ]
    },
    {
     "data": {
      "application/vnd.jupyter.widget-view+json": {
       "model_id": "f9ab28ccce5941fe8f665b6203fd69b2",
       "version_major": 2,
       "version_minor": 0
      },
      "text/plain": [
       "SEJveChjaGlsZHJlbj0oRmxvYXRQcm9ncmVzcyh2YWx1ZT0wLjAsIGRlc2NyaXB0aW9uPXUnSW1hZ2UgRmVhdHVyZXMnLCBtYXg9ODcuMCwgc3R5bGU9UHJvZ3Jlc3NTdHlsZShkZXNjcmlwdGnigKY=\n"
      ]
     },
     "metadata": {},
     "output_type": "display_data"
    },
    {
     "name": "stdout",
     "output_type": "stream",
     "text": [
      "\n"
     ]
    },
    {
     "data": {
      "application/vnd.jupyter.widget-view+json": {
       "model_id": "f8edd502c19f4e5e8bec8e376999cebe",
       "version_major": 2,
       "version_minor": 0
      },
      "text/plain": [
       "SEJveChjaGlsZHJlbj0oRmxvYXRQcm9ncmVzcyh2YWx1ZT0wLjAsIGRlc2NyaXB0aW9uPXUnYyBWYWx1ZXMnLCBtYXg9My4wLCBzdHlsZT1Qcm9ncmVzc1N0eWxlKGRlc2NyaXB0aW9uX3dpZHTigKY=\n"
      ]
     },
     "metadata": {},
     "output_type": "display_data"
    },
    {
     "data": {
      "application/vnd.jupyter.widget-view+json": {
       "model_id": "96fa9c9ade9843bcb8d6aaa62cd4d07d",
       "version_major": 2,
       "version_minor": 0
      },
      "text/plain": [
       "SEJveChjaGlsZHJlbj0oRmxvYXRQcm9ncmVzcyh2YWx1ZT0wLjAsIGRlc2NyaXB0aW9uPXUnR2F1c3NpYW4nLCBtYXg9MTQwMC4wLCBzdHlsZT1Qcm9ncmVzc1N0eWxlKGRlc2NyaXB0aW9uX3figKY=\n"
      ]
     },
     "metadata": {},
     "output_type": "display_data"
    },
    {
     "name": "stdout",
     "output_type": "stream",
     "text": [
      "\n"
     ]
    },
    {
     "data": {
      "application/vnd.jupyter.widget-view+json": {
       "model_id": "9c2f3ae44aa14ff2bdad97af5d9e292c",
       "version_major": 2,
       "version_minor": 0
      },
      "text/plain": [
       "SEJveChjaGlsZHJlbj0oRmxvYXRQcm9ncmVzcyh2YWx1ZT0wLjAsIGRlc2NyaXB0aW9uPXUnR2F1c3NpYW4nLCBtYXg9MTQwMC4wLCBzdHlsZT1Qcm9ncmVzc1N0eWxlKGRlc2NyaXB0aW9uX3figKY=\n"
      ]
     },
     "metadata": {},
     "output_type": "display_data"
    },
    {
     "name": "stdout",
     "output_type": "stream",
     "text": [
      "\n"
     ]
    },
    {
     "data": {
      "application/vnd.jupyter.widget-view+json": {
       "model_id": "c12b191b57b343c8bdd5f1050a1d4d76",
       "version_major": 2,
       "version_minor": 0
      },
      "text/plain": [
       "SEJveChjaGlsZHJlbj0oRmxvYXRQcm9ncmVzcyh2YWx1ZT0wLjAsIGRlc2NyaXB0aW9uPXUnR2F1c3NpYW4nLCBtYXg9MTQwMC4wLCBzdHlsZT1Qcm9ncmVzc1N0eWxlKGRlc2NyaXB0aW9uX3figKY=\n"
      ]
     },
     "metadata": {},
     "output_type": "display_data"
    },
    {
     "name": "stdout",
     "output_type": "stream",
     "text": [
      "\n",
      "\n"
     ]
    },
    {
     "data": {
      "application/vnd.jupyter.widget-view+json": {
       "model_id": "01235a4a025d4ea7aeb4269a0d6b3ed2",
       "version_major": 2,
       "version_minor": 0
      },
      "text/plain": [
       "SEJveChjaGlsZHJlbj0oRmxvYXRQcm9ncmVzcyh2YWx1ZT0wLjAsIGRlc2NyaXB0aW9uPXUnSW1hZ2UgRmVhdHVyZXMnLCBtYXg9ODcuMCwgc3R5bGU9UHJvZ3Jlc3NTdHlsZShkZXNjcmlwdGnigKY=\n"
      ]
     },
     "metadata": {},
     "output_type": "display_data"
    },
    {
     "name": "stdout",
     "output_type": "stream",
     "text": [
      "\n"
     ]
    },
    {
     "data": {
      "application/vnd.jupyter.widget-view+json": {
       "model_id": "58e39bba557a4a2fbdbff100a412b0a3",
       "version_major": 2,
       "version_minor": 0
      },
      "text/plain": [
       "SEJveChjaGlsZHJlbj0oRmxvYXRQcm9ncmVzcyh2YWx1ZT0wLjAsIGRlc2NyaXB0aW9uPXUnYyBWYWx1ZXMnLCBtYXg9My4wLCBzdHlsZT1Qcm9ncmVzc1N0eWxlKGRlc2NyaXB0aW9uX3dpZHTigKY=\n"
      ]
     },
     "metadata": {},
     "output_type": "display_data"
    },
    {
     "data": {
      "application/vnd.jupyter.widget-view+json": {
       "model_id": "f27abeab58284961b6c49e9f89a4cf11",
       "version_major": 2,
       "version_minor": 0
      },
      "text/plain": [
       "SEJveChjaGlsZHJlbj0oRmxvYXRQcm9ncmVzcyh2YWx1ZT0wLjAsIGRlc2NyaXB0aW9uPXUnR2F1c3NpYW4nLCBtYXg9MTIwMC4wLCBzdHlsZT1Qcm9ncmVzc1N0eWxlKGRlc2NyaXB0aW9uX3figKY=\n"
      ]
     },
     "metadata": {},
     "output_type": "display_data"
    },
    {
     "name": "stdout",
     "output_type": "stream",
     "text": [
      "\n"
     ]
    },
    {
     "data": {
      "application/vnd.jupyter.widget-view+json": {
       "model_id": "53b7693b1162406e94ce1146bd9bb426",
       "version_major": 2,
       "version_minor": 0
      },
      "text/plain": [
       "SEJveChjaGlsZHJlbj0oRmxvYXRQcm9ncmVzcyh2YWx1ZT0wLjAsIGRlc2NyaXB0aW9uPXUnR2F1c3NpYW4nLCBtYXg9MTIwMC4wLCBzdHlsZT1Qcm9ncmVzc1N0eWxlKGRlc2NyaXB0aW9uX3figKY=\n"
      ]
     },
     "metadata": {},
     "output_type": "display_data"
    },
    {
     "name": "stdout",
     "output_type": "stream",
     "text": [
      "\n"
     ]
    },
    {
     "data": {
      "application/vnd.jupyter.widget-view+json": {
       "model_id": "4bc2965308ca4eaea5e6e79241ad9f7f",
       "version_major": 2,
       "version_minor": 0
      },
      "text/plain": [
       "SEJveChjaGlsZHJlbj0oRmxvYXRQcm9ncmVzcyh2YWx1ZT0wLjAsIGRlc2NyaXB0aW9uPXUnR2F1c3NpYW4nLCBtYXg9MTIwMC4wLCBzdHlsZT1Qcm9ncmVzc1N0eWxlKGRlc2NyaXB0aW9uX3figKY=\n"
      ]
     },
     "metadata": {},
     "output_type": "display_data"
    },
    {
     "name": "stdout",
     "output_type": "stream",
     "text": [
      "\n",
      "\n",
      "\n"
     ]
    },
    {
     "data": {
      "application/vnd.jupyter.widget-view+json": {
       "model_id": "bc0403184a314bc4807b42983fa1b679",
       "version_major": 2,
       "version_minor": 0
      },
      "text/plain": [
       "SEJveChjaGlsZHJlbj0oRmxvYXRQcm9ncmVzcyh2YWx1ZT0wLjAsIGRlc2NyaXB0aW9uPXUnTWVhc3VyZW1lbnQgJScsIG1heD02LjAsIHN0eWxlPVByb2dyZXNzU3R5bGUoZGVzY3JpcHRpb27igKY=\n"
      ]
     },
     "metadata": {},
     "output_type": "display_data"
    },
    {
     "data": {
      "application/vnd.jupyter.widget-view+json": {
       "model_id": "aad2d6c25941448d936379e35edb48d8",
       "version_major": 2,
       "version_minor": 0
      },
      "text/plain": [
       "SEJveChjaGlsZHJlbj0oRmxvYXRQcm9ncmVzcyh2YWx1ZT0wLjAsIGRlc2NyaXB0aW9uPXUnSW1hZ2UgRmVhdHVyZXMnLCBtYXg9ODcuMCwgc3R5bGU9UHJvZ3Jlc3NTdHlsZShkZXNjcmlwdGnigKY=\n"
      ]
     },
     "metadata": {},
     "output_type": "display_data"
    },
    {
     "name": "stdout",
     "output_type": "stream",
     "text": [
      "\n"
     ]
    },
    {
     "data": {
      "application/vnd.jupyter.widget-view+json": {
       "model_id": "27ffc22973764a048fe7123fea235139",
       "version_major": 2,
       "version_minor": 0
      },
      "text/plain": [
       "SEJveChjaGlsZHJlbj0oRmxvYXRQcm9ncmVzcyh2YWx1ZT0wLjAsIGRlc2NyaXB0aW9uPXUnYyBWYWx1ZXMnLCBtYXg9My4wLCBzdHlsZT1Qcm9ncmVzc1N0eWxlKGRlc2NyaXB0aW9uX3dpZHTigKY=\n"
      ]
     },
     "metadata": {},
     "output_type": "display_data"
    },
    {
     "data": {
      "application/vnd.jupyter.widget-view+json": {
       "model_id": "d0500f58239644eaa9778dd45ba872b4",
       "version_major": 2,
       "version_minor": 0
      },
      "text/plain": [
       "SEJveChjaGlsZHJlbj0oRmxvYXRQcm9ncmVzcyh2YWx1ZT0wLjAsIGRlc2NyaXB0aW9uPXUnR2F1c3NpYW4nLCBtYXg9MjAyOS4wLCBzdHlsZT1Qcm9ncmVzc1N0eWxlKGRlc2NyaXB0aW9uX3figKY=\n"
      ]
     },
     "metadata": {},
     "output_type": "display_data"
    },
    {
     "name": "stdout",
     "output_type": "stream",
     "text": [
      "\n"
     ]
    },
    {
     "data": {
      "application/vnd.jupyter.widget-view+json": {
       "model_id": "36fe1de8b4e84e5b9e5855c4accfb731",
       "version_major": 2,
       "version_minor": 0
      },
      "text/plain": [
       "SEJveChjaGlsZHJlbj0oRmxvYXRQcm9ncmVzcyh2YWx1ZT0wLjAsIGRlc2NyaXB0aW9uPXUnR2F1c3NpYW4nLCBtYXg9MjAyOS4wLCBzdHlsZT1Qcm9ncmVzc1N0eWxlKGRlc2NyaXB0aW9uX3figKY=\n"
      ]
     },
     "metadata": {},
     "output_type": "display_data"
    },
    {
     "name": "stdout",
     "output_type": "stream",
     "text": [
      "\n"
     ]
    },
    {
     "data": {
      "application/vnd.jupyter.widget-view+json": {
       "model_id": "90ac80fe9ab94d78b962359efac79f2e",
       "version_major": 2,
       "version_minor": 0
      },
      "text/plain": [
       "SEJveChjaGlsZHJlbj0oRmxvYXRQcm9ncmVzcyh2YWx1ZT0wLjAsIGRlc2NyaXB0aW9uPXUnR2F1c3NpYW4nLCBtYXg9MjAyOS4wLCBzdHlsZT1Qcm9ncmVzc1N0eWxlKGRlc2NyaXB0aW9uX3figKY=\n"
      ]
     },
     "metadata": {},
     "output_type": "display_data"
    },
    {
     "name": "stdout",
     "output_type": "stream",
     "text": [
      "\n",
      "\n"
     ]
    },
    {
     "data": {
      "application/vnd.jupyter.widget-view+json": {
       "model_id": "e3a1387849ad4abfb2cfe333b24a0de2",
       "version_major": 2,
       "version_minor": 0
      },
      "text/plain": [
       "SEJveChjaGlsZHJlbj0oRmxvYXRQcm9ncmVzcyh2YWx1ZT0wLjAsIGRlc2NyaXB0aW9uPXUnSW1hZ2UgRmVhdHVyZXMnLCBtYXg9ODcuMCwgc3R5bGU9UHJvZ3Jlc3NTdHlsZShkZXNjcmlwdGnigKY=\n"
      ]
     },
     "metadata": {},
     "output_type": "display_data"
    },
    {
     "name": "stdout",
     "output_type": "stream",
     "text": [
      "\n"
     ]
    },
    {
     "data": {
      "application/vnd.jupyter.widget-view+json": {
       "model_id": "8fcfb5a186c24f3f950d1cc5b6d3104f",
       "version_major": 2,
       "version_minor": 0
      },
      "text/plain": [
       "SEJveChjaGlsZHJlbj0oRmxvYXRQcm9ncmVzcyh2YWx1ZT0wLjAsIGRlc2NyaXB0aW9uPXUnYyBWYWx1ZXMnLCBtYXg9My4wLCBzdHlsZT1Qcm9ncmVzc1N0eWxlKGRlc2NyaXB0aW9uX3dpZHTigKY=\n"
      ]
     },
     "metadata": {},
     "output_type": "display_data"
    },
    {
     "data": {
      "application/vnd.jupyter.widget-view+json": {
       "model_id": "b7a822acf40a433aa56ce6983214cd9e",
       "version_major": 2,
       "version_minor": 0
      },
      "text/plain": [
       "SEJveChjaGlsZHJlbj0oRmxvYXRQcm9ncmVzcyh2YWx1ZT0wLjAsIGRlc2NyaXB0aW9uPXUnR2F1c3NpYW4nLCBtYXg9MTk0Ny4wLCBzdHlsZT1Qcm9ncmVzc1N0eWxlKGRlc2NyaXB0aW9uX3figKY=\n"
      ]
     },
     "metadata": {},
     "output_type": "display_data"
    },
    {
     "name": "stdout",
     "output_type": "stream",
     "text": [
      "\n"
     ]
    },
    {
     "data": {
      "application/vnd.jupyter.widget-view+json": {
       "model_id": "a82a9c064159457ca9a9a6af8fca16c8",
       "version_major": 2,
       "version_minor": 0
      },
      "text/plain": [
       "SEJveChjaGlsZHJlbj0oRmxvYXRQcm9ncmVzcyh2YWx1ZT0wLjAsIGRlc2NyaXB0aW9uPXUnR2F1c3NpYW4nLCBtYXg9MTk0Ny4wLCBzdHlsZT1Qcm9ncmVzc1N0eWxlKGRlc2NyaXB0aW9uX3figKY=\n"
      ]
     },
     "metadata": {},
     "output_type": "display_data"
    },
    {
     "name": "stdout",
     "output_type": "stream",
     "text": [
      "\n"
     ]
    },
    {
     "data": {
      "application/vnd.jupyter.widget-view+json": {
       "model_id": "95f0687ad6e847b4b5ad45c490b5ff1c",
       "version_major": 2,
       "version_minor": 0
      },
      "text/plain": [
       "SEJveChjaGlsZHJlbj0oRmxvYXRQcm9ncmVzcyh2YWx1ZT0wLjAsIGRlc2NyaXB0aW9uPXUnR2F1c3NpYW4nLCBtYXg9MTk0Ny4wLCBzdHlsZT1Qcm9ncmVzc1N0eWxlKGRlc2NyaXB0aW9uX3figKY=\n"
      ]
     },
     "metadata": {},
     "output_type": "display_data"
    },
    {
     "name": "stdout",
     "output_type": "stream",
     "text": [
      "\n",
      "\n"
     ]
    },
    {
     "data": {
      "application/vnd.jupyter.widget-view+json": {
       "model_id": "59bd3e060335479782de9cb0d0ce3511",
       "version_major": 2,
       "version_minor": 0
      },
      "text/plain": [
       "SEJveChjaGlsZHJlbj0oRmxvYXRQcm9ncmVzcyh2YWx1ZT0wLjAsIGRlc2NyaXB0aW9uPXUnSW1hZ2UgRmVhdHVyZXMnLCBtYXg9ODcuMCwgc3R5bGU9UHJvZ3Jlc3NTdHlsZShkZXNjcmlwdGnigKY=\n"
      ]
     },
     "metadata": {},
     "output_type": "display_data"
    },
    {
     "name": "stdout",
     "output_type": "stream",
     "text": [
      "\n"
     ]
    },
    {
     "data": {
      "application/vnd.jupyter.widget-view+json": {
       "model_id": "842cae085dd54192883204464a59d04d",
       "version_major": 2,
       "version_minor": 0
      },
      "text/plain": [
       "SEJveChjaGlsZHJlbj0oRmxvYXRQcm9ncmVzcyh2YWx1ZT0wLjAsIGRlc2NyaXB0aW9uPXUnYyBWYWx1ZXMnLCBtYXg9My4wLCBzdHlsZT1Qcm9ncmVzc1N0eWxlKGRlc2NyaXB0aW9uX3dpZHTigKY=\n"
      ]
     },
     "metadata": {},
     "output_type": "display_data"
    },
    {
     "data": {
      "application/vnd.jupyter.widget-view+json": {
       "model_id": "a191aa62958744649331c867326bd71d",
       "version_major": 2,
       "version_minor": 0
      },
      "text/plain": [
       "SEJveChjaGlsZHJlbj0oRmxvYXRQcm9ncmVzcyh2YWx1ZT0wLjAsIGRlc2NyaXB0aW9uPXUnR2F1c3NpYW4nLCBtYXg9MTg0NS4wLCBzdHlsZT1Qcm9ncmVzc1N0eWxlKGRlc2NyaXB0aW9uX3figKY=\n"
      ]
     },
     "metadata": {},
     "output_type": "display_data"
    },
    {
     "name": "stdout",
     "output_type": "stream",
     "text": [
      "\n"
     ]
    },
    {
     "data": {
      "application/vnd.jupyter.widget-view+json": {
       "model_id": "25f5b7850d784319a094e92867e8491f",
       "version_major": 2,
       "version_minor": 0
      },
      "text/plain": [
       "SEJveChjaGlsZHJlbj0oRmxvYXRQcm9ncmVzcyh2YWx1ZT0wLjAsIGRlc2NyaXB0aW9uPXUnR2F1c3NpYW4nLCBtYXg9MTg0NS4wLCBzdHlsZT1Qcm9ncmVzc1N0eWxlKGRlc2NyaXB0aW9uX3figKY=\n"
      ]
     },
     "metadata": {},
     "output_type": "display_data"
    },
    {
     "name": "stdout",
     "output_type": "stream",
     "text": [
      "\n"
     ]
    },
    {
     "data": {
      "application/vnd.jupyter.widget-view+json": {
       "model_id": "274fc89fc3fe4b0283930fff840d7252",
       "version_major": 2,
       "version_minor": 0
      },
      "text/plain": [
       "SEJveChjaGlsZHJlbj0oRmxvYXRQcm9ncmVzcyh2YWx1ZT0wLjAsIGRlc2NyaXB0aW9uPXUnR2F1c3NpYW4nLCBtYXg9MTg0NS4wLCBzdHlsZT1Qcm9ncmVzc1N0eWxlKGRlc2NyaXB0aW9uX3figKY=\n"
      ]
     },
     "metadata": {},
     "output_type": "display_data"
    },
    {
     "name": "stdout",
     "output_type": "stream",
     "text": [
      "\n",
      "\n"
     ]
    },
    {
     "data": {
      "application/vnd.jupyter.widget-view+json": {
       "model_id": "01ac40cd9e1c4622a8b0cde3cf0b63ae",
       "version_major": 2,
       "version_minor": 0
      },
      "text/plain": [
       "SEJveChjaGlsZHJlbj0oRmxvYXRQcm9ncmVzcyh2YWx1ZT0wLjAsIGRlc2NyaXB0aW9uPXUnSW1hZ2UgRmVhdHVyZXMnLCBtYXg9ODcuMCwgc3R5bGU9UHJvZ3Jlc3NTdHlsZShkZXNjcmlwdGnigKY=\n"
      ]
     },
     "metadata": {},
     "output_type": "display_data"
    },
    {
     "name": "stdout",
     "output_type": "stream",
     "text": [
      "\n"
     ]
    },
    {
     "data": {
      "application/vnd.jupyter.widget-view+json": {
       "model_id": "dc899d2f90ba439ab5b2ca6e42dd1ef5",
       "version_major": 2,
       "version_minor": 0
      },
      "text/plain": [
       "SEJveChjaGlsZHJlbj0oRmxvYXRQcm9ncmVzcyh2YWx1ZT0wLjAsIGRlc2NyaXB0aW9uPXUnYyBWYWx1ZXMnLCBtYXg9My4wLCBzdHlsZT1Qcm9ncmVzc1N0eWxlKGRlc2NyaXB0aW9uX3dpZHTigKY=\n"
      ]
     },
     "metadata": {},
     "output_type": "display_data"
    },
    {
     "data": {
      "application/vnd.jupyter.widget-view+json": {
       "model_id": "aca4cbd11d0d487e9deaead6a4ded22f",
       "version_major": 2,
       "version_minor": 0
      },
      "text/plain": [
       "SEJveChjaGlsZHJlbj0oRmxvYXRQcm9ncmVzcyh2YWx1ZT0wLjAsIGRlc2NyaXB0aW9uPXUnR2F1c3NpYW4nLCBtYXg9MTY0MC4wLCBzdHlsZT1Qcm9ncmVzc1N0eWxlKGRlc2NyaXB0aW9uX3figKY=\n"
      ]
     },
     "metadata": {},
     "output_type": "display_data"
    },
    {
     "name": "stdout",
     "output_type": "stream",
     "text": [
      "\n"
     ]
    },
    {
     "data": {
      "application/vnd.jupyter.widget-view+json": {
       "model_id": "81a8e47fd3d647f1bd326edd64eeff8e",
       "version_major": 2,
       "version_minor": 0
      },
      "text/plain": [
       "SEJveChjaGlsZHJlbj0oRmxvYXRQcm9ncmVzcyh2YWx1ZT0wLjAsIGRlc2NyaXB0aW9uPXUnR2F1c3NpYW4nLCBtYXg9MTY0MC4wLCBzdHlsZT1Qcm9ncmVzc1N0eWxlKGRlc2NyaXB0aW9uX3figKY=\n"
      ]
     },
     "metadata": {},
     "output_type": "display_data"
    },
    {
     "name": "stdout",
     "output_type": "stream",
     "text": [
      "\n"
     ]
    },
    {
     "data": {
      "application/vnd.jupyter.widget-view+json": {
       "model_id": "909431f3f47341e8ab0980707c1a3a43",
       "version_major": 2,
       "version_minor": 0
      },
      "text/plain": [
       "SEJveChjaGlsZHJlbj0oRmxvYXRQcm9ncmVzcyh2YWx1ZT0wLjAsIGRlc2NyaXB0aW9uPXUnR2F1c3NpYW4nLCBtYXg9MTY0MC4wLCBzdHlsZT1Qcm9ncmVzc1N0eWxlKGRlc2NyaXB0aW9uX3figKY=\n"
      ]
     },
     "metadata": {},
     "output_type": "display_data"
    },
    {
     "name": "stdout",
     "output_type": "stream",
     "text": [
      "\n",
      "\n"
     ]
    },
    {
     "data": {
      "application/vnd.jupyter.widget-view+json": {
       "model_id": "0463513c46604d53865bce88663742e1",
       "version_major": 2,
       "version_minor": 0
      },
      "text/plain": [
       "SEJveChjaGlsZHJlbj0oRmxvYXRQcm9ncmVzcyh2YWx1ZT0wLjAsIGRlc2NyaXB0aW9uPXUnSW1hZ2UgRmVhdHVyZXMnLCBtYXg9ODcuMCwgc3R5bGU9UHJvZ3Jlc3NTdHlsZShkZXNjcmlwdGnigKY=\n"
      ]
     },
     "metadata": {},
     "output_type": "display_data"
    },
    {
     "name": "stdout",
     "output_type": "stream",
     "text": [
      "\n"
     ]
    },
    {
     "data": {
      "application/vnd.jupyter.widget-view+json": {
       "model_id": "354fcf3feac64890b2d7445407edb2ea",
       "version_major": 2,
       "version_minor": 0
      },
      "text/plain": [
       "SEJveChjaGlsZHJlbj0oRmxvYXRQcm9ncmVzcyh2YWx1ZT0wLjAsIGRlc2NyaXB0aW9uPXUnYyBWYWx1ZXMnLCBtYXg9My4wLCBzdHlsZT1Qcm9ncmVzc1N0eWxlKGRlc2NyaXB0aW9uX3dpZHTigKY=\n"
      ]
     },
     "metadata": {},
     "output_type": "display_data"
    },
    {
     "data": {
      "application/vnd.jupyter.widget-view+json": {
       "model_id": "511c810869f54e0584465790623f1614",
       "version_major": 2,
       "version_minor": 0
      },
      "text/plain": [
       "SEJveChjaGlsZHJlbj0oRmxvYXRQcm9ncmVzcyh2YWx1ZT0wLjAsIGRlc2NyaXB0aW9uPXUnR2F1c3NpYW4nLCBtYXg9MTQzNS4wLCBzdHlsZT1Qcm9ncmVzc1N0eWxlKGRlc2NyaXB0aW9uX3figKY=\n"
      ]
     },
     "metadata": {},
     "output_type": "display_data"
    },
    {
     "name": "stdout",
     "output_type": "stream",
     "text": [
      "\n"
     ]
    },
    {
     "data": {
      "application/vnd.jupyter.widget-view+json": {
       "model_id": "ca6c6325b9b740c49cb8cb76540ec9f5",
       "version_major": 2,
       "version_minor": 0
      },
      "text/plain": [
       "SEJveChjaGlsZHJlbj0oRmxvYXRQcm9ncmVzcyh2YWx1ZT0wLjAsIGRlc2NyaXB0aW9uPXUnR2F1c3NpYW4nLCBtYXg9MTQzNS4wLCBzdHlsZT1Qcm9ncmVzc1N0eWxlKGRlc2NyaXB0aW9uX3figKY=\n"
      ]
     },
     "metadata": {},
     "output_type": "display_data"
    },
    {
     "name": "stdout",
     "output_type": "stream",
     "text": [
      "\n"
     ]
    },
    {
     "data": {
      "application/vnd.jupyter.widget-view+json": {
       "model_id": "2046a86d199f47c598eb1dcfa9cede90",
       "version_major": 2,
       "version_minor": 0
      },
      "text/plain": [
       "SEJveChjaGlsZHJlbj0oRmxvYXRQcm9ncmVzcyh2YWx1ZT0wLjAsIGRlc2NyaXB0aW9uPXUnR2F1c3NpYW4nLCBtYXg9MTQzNS4wLCBzdHlsZT1Qcm9ncmVzc1N0eWxlKGRlc2NyaXB0aW9uX3figKY=\n"
      ]
     },
     "metadata": {},
     "output_type": "display_data"
    },
    {
     "name": "stdout",
     "output_type": "stream",
     "text": [
      "\n",
      "\n"
     ]
    },
    {
     "data": {
      "application/vnd.jupyter.widget-view+json": {
       "model_id": "a40085ffaace4dfd9ab14593087e828f",
       "version_major": 2,
       "version_minor": 0
      },
      "text/plain": [
       "SEJveChjaGlsZHJlbj0oRmxvYXRQcm9ncmVzcyh2YWx1ZT0wLjAsIGRlc2NyaXB0aW9uPXUnSW1hZ2UgRmVhdHVyZXMnLCBtYXg9ODcuMCwgc3R5bGU9UHJvZ3Jlc3NTdHlsZShkZXNjcmlwdGnigKY=\n"
      ]
     },
     "metadata": {},
     "output_type": "display_data"
    },
    {
     "name": "stdout",
     "output_type": "stream",
     "text": [
      "\n"
     ]
    },
    {
     "data": {
      "application/vnd.jupyter.widget-view+json": {
       "model_id": "ef2127c1b45644b4a01e734e483aa66f",
       "version_major": 2,
       "version_minor": 0
      },
      "text/plain": [
       "SEJveChjaGlsZHJlbj0oRmxvYXRQcm9ncmVzcyh2YWx1ZT0wLjAsIGRlc2NyaXB0aW9uPXUnYyBWYWx1ZXMnLCBtYXg9My4wLCBzdHlsZT1Qcm9ncmVzc1N0eWxlKGRlc2NyaXB0aW9uX3dpZHTigKY=\n"
      ]
     },
     "metadata": {},
     "output_type": "display_data"
    },
    {
     "data": {
      "application/vnd.jupyter.widget-view+json": {
       "model_id": "8748f75bba754999b1d23b16637fdfd9",
       "version_major": 2,
       "version_minor": 0
      },
      "text/plain": [
       "SEJveChjaGlsZHJlbj0oRmxvYXRQcm9ncmVzcyh2YWx1ZT0wLjAsIGRlc2NyaXB0aW9uPXUnR2F1c3NpYW4nLCBtYXg9MTIzMC4wLCBzdHlsZT1Qcm9ncmVzc1N0eWxlKGRlc2NyaXB0aW9uX3figKY=\n"
      ]
     },
     "metadata": {},
     "output_type": "display_data"
    },
    {
     "name": "stdout",
     "output_type": "stream",
     "text": [
      "\n"
     ]
    },
    {
     "data": {
      "application/vnd.jupyter.widget-view+json": {
       "model_id": "9577af43b4104f90a6b690a5795144cd",
       "version_major": 2,
       "version_minor": 0
      },
      "text/plain": [
       "SEJveChjaGlsZHJlbj0oRmxvYXRQcm9ncmVzcyh2YWx1ZT0wLjAsIGRlc2NyaXB0aW9uPXUnR2F1c3NpYW4nLCBtYXg9MTIzMC4wLCBzdHlsZT1Qcm9ncmVzc1N0eWxlKGRlc2NyaXB0aW9uX3figKY=\n"
      ]
     },
     "metadata": {},
     "output_type": "display_data"
    },
    {
     "name": "stdout",
     "output_type": "stream",
     "text": [
      "\n"
     ]
    },
    {
     "data": {
      "application/vnd.jupyter.widget-view+json": {
       "model_id": "278f3a793d3f4fd7a17c149e767f6483",
       "version_major": 2,
       "version_minor": 0
      },
      "text/plain": [
       "SEJveChjaGlsZHJlbj0oRmxvYXRQcm9ncmVzcyh2YWx1ZT0wLjAsIGRlc2NyaXB0aW9uPXUnR2F1c3NpYW4nLCBtYXg9MTIzMC4wLCBzdHlsZT1Qcm9ncmVzc1N0eWxlKGRlc2NyaXB0aW9uX3figKY=\n"
      ]
     },
     "metadata": {},
     "output_type": "display_data"
    },
    {
     "name": "stdout",
     "output_type": "stream",
     "text": [
      "\n",
      "\n",
      "\n"
     ]
    },
    {
     "data": {
      "application/vnd.jupyter.widget-view+json": {
       "model_id": "46bf5708334c44fc805f768b869b3aac",
       "version_major": 2,
       "version_minor": 0
      },
      "text/plain": [
       "SEJveChjaGlsZHJlbj0oRmxvYXRQcm9ncmVzcyh2YWx1ZT0wLjAsIGRlc2NyaXB0aW9uPXUnTWVhc3VyZW1lbnQgJScsIG1heD02LjAsIHN0eWxlPVByb2dyZXNzU3R5bGUoZGVzY3JpcHRpb27igKY=\n"
      ]
     },
     "metadata": {},
     "output_type": "display_data"
    },
    {
     "data": {
      "application/vnd.jupyter.widget-view+json": {
       "model_id": "1f17402e51f04188a63b8ec9f8b85073",
       "version_major": 2,
       "version_minor": 0
      },
      "text/plain": [
       "SEJveChjaGlsZHJlbj0oRmxvYXRQcm9ncmVzcyh2YWx1ZT0wLjAsIGRlc2NyaXB0aW9uPXUnSW1hZ2UgRmVhdHVyZXMnLCBtYXg9ODEuMCwgc3R5bGU9UHJvZ3Jlc3NTdHlsZShkZXNjcmlwdGnigKY=\n"
      ]
     },
     "metadata": {},
     "output_type": "display_data"
    },
    {
     "name": "stdout",
     "output_type": "stream",
     "text": [
      "\n"
     ]
    },
    {
     "data": {
      "application/vnd.jupyter.widget-view+json": {
       "model_id": "e23611a86f574c4f9606ce23f8af4922",
       "version_major": 2,
       "version_minor": 0
      },
      "text/plain": [
       "SEJveChjaGlsZHJlbj0oRmxvYXRQcm9ncmVzcyh2YWx1ZT0wLjAsIGRlc2NyaXB0aW9uPXUnYyBWYWx1ZXMnLCBtYXg9My4wLCBzdHlsZT1Qcm9ncmVzc1N0eWxlKGRlc2NyaXB0aW9uX3dpZHTigKY=\n"
      ]
     },
     "metadata": {},
     "output_type": "display_data"
    },
    {
     "data": {
      "application/vnd.jupyter.widget-view+json": {
       "model_id": "b5c9f0300e3c456cbb2dfd0b34b75f7a",
       "version_major": 2,
       "version_minor": 0
      },
      "text/plain": [
       "SEJveChjaGlsZHJlbj0oRmxvYXRQcm9ncmVzcyh2YWx1ZT0wLjAsIGRlc2NyaXB0aW9uPXUnR2F1c3NpYW4nLCBtYXg9MjgyMS4wLCBzdHlsZT1Qcm9ncmVzc1N0eWxlKGRlc2NyaXB0aW9uX3figKY=\n"
      ]
     },
     "metadata": {},
     "output_type": "display_data"
    },
    {
     "name": "stdout",
     "output_type": "stream",
     "text": [
      "\n"
     ]
    },
    {
     "data": {
      "application/vnd.jupyter.widget-view+json": {
       "model_id": "46be0e794eea43a5944d175a24c8225a",
       "version_major": 2,
       "version_minor": 0
      },
      "text/plain": [
       "SEJveChjaGlsZHJlbj0oRmxvYXRQcm9ncmVzcyh2YWx1ZT0wLjAsIGRlc2NyaXB0aW9uPXUnR2F1c3NpYW4nLCBtYXg9MjgyMS4wLCBzdHlsZT1Qcm9ncmVzc1N0eWxlKGRlc2NyaXB0aW9uX3figKY=\n"
      ]
     },
     "metadata": {},
     "output_type": "display_data"
    },
    {
     "name": "stdout",
     "output_type": "stream",
     "text": [
      "\n"
     ]
    },
    {
     "data": {
      "application/vnd.jupyter.widget-view+json": {
       "model_id": "04f9d4e381d74850bd694da03129523c",
       "version_major": 2,
       "version_minor": 0
      },
      "text/plain": [
       "SEJveChjaGlsZHJlbj0oRmxvYXRQcm9ncmVzcyh2YWx1ZT0wLjAsIGRlc2NyaXB0aW9uPXUnR2F1c3NpYW4nLCBtYXg9MjgyMS4wLCBzdHlsZT1Qcm9ncmVzc1N0eWxlKGRlc2NyaXB0aW9uX3figKY=\n"
      ]
     },
     "metadata": {},
     "output_type": "display_data"
    },
    {
     "name": "stdout",
     "output_type": "stream",
     "text": [
      "\n",
      "\n"
     ]
    },
    {
     "data": {
      "application/vnd.jupyter.widget-view+json": {
       "model_id": "121954102e4b40058f4525057f0b7f6b",
       "version_major": 2,
       "version_minor": 0
      },
      "text/plain": [
       "SEJveChjaGlsZHJlbj0oRmxvYXRQcm9ncmVzcyh2YWx1ZT0wLjAsIGRlc2NyaXB0aW9uPXUnSW1hZ2UgRmVhdHVyZXMnLCBtYXg9ODEuMCwgc3R5bGU9UHJvZ3Jlc3NTdHlsZShkZXNjcmlwdGnigKY=\n"
      ]
     },
     "metadata": {},
     "output_type": "display_data"
    },
    {
     "name": "stdout",
     "output_type": "stream",
     "text": [
      "\n"
     ]
    },
    {
     "data": {
      "application/vnd.jupyter.widget-view+json": {
       "model_id": "a757374008d8491f84ee49c57becf2c7",
       "version_major": 2,
       "version_minor": 0
      },
      "text/plain": [
       "SEJveChjaGlsZHJlbj0oRmxvYXRQcm9ncmVzcyh2YWx1ZT0wLjAsIGRlc2NyaXB0aW9uPXUnYyBWYWx1ZXMnLCBtYXg9My4wLCBzdHlsZT1Qcm9ncmVzc1N0eWxlKGRlc2NyaXB0aW9uX3dpZHTigKY=\n"
      ]
     },
     "metadata": {},
     "output_type": "display_data"
    },
    {
     "data": {
      "application/vnd.jupyter.widget-view+json": {
       "model_id": "3a14d12bf9584ae091578c769c71d678",
       "version_major": 2,
       "version_minor": 0
      },
      "text/plain": [
       "SEJveChjaGlsZHJlbj0oRmxvYXRQcm9ncmVzcyh2YWx1ZT0wLjAsIGRlc2NyaXB0aW9uPXUnR2F1c3NpYW4nLCBtYXg9MjcwNy4wLCBzdHlsZT1Qcm9ncmVzc1N0eWxlKGRlc2NyaXB0aW9uX3figKY=\n"
      ]
     },
     "metadata": {},
     "output_type": "display_data"
    },
    {
     "name": "stdout",
     "output_type": "stream",
     "text": [
      "\n"
     ]
    },
    {
     "data": {
      "application/vnd.jupyter.widget-view+json": {
       "model_id": "ddcda3a37b0b4b3aa17758c5174a7e0c",
       "version_major": 2,
       "version_minor": 0
      },
      "text/plain": [
       "SEJveChjaGlsZHJlbj0oRmxvYXRQcm9ncmVzcyh2YWx1ZT0wLjAsIGRlc2NyaXB0aW9uPXUnR2F1c3NpYW4nLCBtYXg9MjcwNy4wLCBzdHlsZT1Qcm9ncmVzc1N0eWxlKGRlc2NyaXB0aW9uX3figKY=\n"
      ]
     },
     "metadata": {},
     "output_type": "display_data"
    },
    {
     "name": "stdout",
     "output_type": "stream",
     "text": [
      "\n"
     ]
    },
    {
     "data": {
      "application/vnd.jupyter.widget-view+json": {
       "model_id": "50c55f3da9f941af92f8ca85d3268c6a",
       "version_major": 2,
       "version_minor": 0
      },
      "text/plain": [
       "SEJveChjaGlsZHJlbj0oRmxvYXRQcm9ncmVzcyh2YWx1ZT0wLjAsIGRlc2NyaXB0aW9uPXUnR2F1c3NpYW4nLCBtYXg9MjcwNy4wLCBzdHlsZT1Qcm9ncmVzc1N0eWxlKGRlc2NyaXB0aW9uX3figKY=\n"
      ]
     },
     "metadata": {},
     "output_type": "display_data"
    },
    {
     "name": "stdout",
     "output_type": "stream",
     "text": [
      "\n",
      "\n"
     ]
    },
    {
     "data": {
      "application/vnd.jupyter.widget-view+json": {
       "model_id": "1874db0a176941ed883ccf9328fbd30f",
       "version_major": 2,
       "version_minor": 0
      },
      "text/plain": [
       "SEJveChjaGlsZHJlbj0oRmxvYXRQcm9ncmVzcyh2YWx1ZT0wLjAsIGRlc2NyaXB0aW9uPXUnSW1hZ2UgRmVhdHVyZXMnLCBtYXg9ODEuMCwgc3R5bGU9UHJvZ3Jlc3NTdHlsZShkZXNjcmlwdGnigKY=\n"
      ]
     },
     "metadata": {},
     "output_type": "display_data"
    },
    {
     "name": "stdout",
     "output_type": "stream",
     "text": [
      "\n"
     ]
    },
    {
     "data": {
      "application/vnd.jupyter.widget-view+json": {
       "model_id": "344a262c04aa4ffe8d650f063c8de296",
       "version_major": 2,
       "version_minor": 0
      },
      "text/plain": [
       "SEJveChjaGlsZHJlbj0oRmxvYXRQcm9ncmVzcyh2YWx1ZT0wLjAsIGRlc2NyaXB0aW9uPXUnYyBWYWx1ZXMnLCBtYXg9My4wLCBzdHlsZT1Qcm9ncmVzc1N0eWxlKGRlc2NyaXB0aW9uX3dpZHTigKY=\n"
      ]
     },
     "metadata": {},
     "output_type": "display_data"
    },
    {
     "data": {
      "application/vnd.jupyter.widget-view+json": {
       "model_id": "c831233a92ca4e21967dadf264af40f5",
       "version_major": 2,
       "version_minor": 0
      },
      "text/plain": [
       "SEJveChjaGlsZHJlbj0oRmxvYXRQcm9ncmVzcyh2YWx1ZT0wLjAsIGRlc2NyaXB0aW9uPXUnR2F1c3NpYW4nLCBtYXg9MjU2NS4wLCBzdHlsZT1Qcm9ncmVzc1N0eWxlKGRlc2NyaXB0aW9uX3figKY=\n"
      ]
     },
     "metadata": {},
     "output_type": "display_data"
    },
    {
     "name": "stdout",
     "output_type": "stream",
     "text": [
      "\n"
     ]
    },
    {
     "data": {
      "application/vnd.jupyter.widget-view+json": {
       "model_id": "bd6bff0d325f4aef93a9188c2131c96c",
       "version_major": 2,
       "version_minor": 0
      },
      "text/plain": [
       "SEJveChjaGlsZHJlbj0oRmxvYXRQcm9ncmVzcyh2YWx1ZT0wLjAsIGRlc2NyaXB0aW9uPXUnR2F1c3NpYW4nLCBtYXg9MjU2NS4wLCBzdHlsZT1Qcm9ncmVzc1N0eWxlKGRlc2NyaXB0aW9uX3figKY=\n"
      ]
     },
     "metadata": {},
     "output_type": "display_data"
    },
    {
     "name": "stdout",
     "output_type": "stream",
     "text": [
      "\n"
     ]
    },
    {
     "data": {
      "application/vnd.jupyter.widget-view+json": {
       "model_id": "c479419bb2dd44bb9ddd999c68e22c7d",
       "version_major": 2,
       "version_minor": 0
      },
      "text/plain": [
       "SEJveChjaGlsZHJlbj0oRmxvYXRQcm9ncmVzcyh2YWx1ZT0wLjAsIGRlc2NyaXB0aW9uPXUnR2F1c3NpYW4nLCBtYXg9MjU2NS4wLCBzdHlsZT1Qcm9ncmVzc1N0eWxlKGRlc2NyaXB0aW9uX3figKY=\n"
      ]
     },
     "metadata": {},
     "output_type": "display_data"
    },
    {
     "name": "stdout",
     "output_type": "stream",
     "text": [
      "\n",
      "\n"
     ]
    },
    {
     "data": {
      "application/vnd.jupyter.widget-view+json": {
       "model_id": "f764261a24584de89ae5da516df18c60",
       "version_major": 2,
       "version_minor": 0
      },
      "text/plain": [
       "SEJveChjaGlsZHJlbj0oRmxvYXRQcm9ncmVzcyh2YWx1ZT0wLjAsIGRlc2NyaXB0aW9uPXUnSW1hZ2UgRmVhdHVyZXMnLCBtYXg9ODEuMCwgc3R5bGU9UHJvZ3Jlc3NTdHlsZShkZXNjcmlwdGnigKY=\n"
      ]
     },
     "metadata": {},
     "output_type": "display_data"
    },
    {
     "name": "stdout",
     "output_type": "stream",
     "text": [
      "\n"
     ]
    },
    {
     "data": {
      "application/vnd.jupyter.widget-view+json": {
       "model_id": "8f6c62debbfc44c1afda04a59896c0df",
       "version_major": 2,
       "version_minor": 0
      },
      "text/plain": [
       "SEJveChjaGlsZHJlbj0oRmxvYXRQcm9ncmVzcyh2YWx1ZT0wLjAsIGRlc2NyaXB0aW9uPXUnYyBWYWx1ZXMnLCBtYXg9My4wLCBzdHlsZT1Qcm9ncmVzc1N0eWxlKGRlc2NyaXB0aW9uX3dpZHTigKY=\n"
      ]
     },
     "metadata": {},
     "output_type": "display_data"
    },
    {
     "data": {
      "application/vnd.jupyter.widget-view+json": {
       "model_id": "7d49c33b05314255a302391550b94bf8",
       "version_major": 2,
       "version_minor": 0
      },
      "text/plain": [
       "SEJveChjaGlsZHJlbj0oRmxvYXRQcm9ncmVzcyh2YWx1ZT0wLjAsIGRlc2NyaXB0aW9uPXUnR2F1c3NpYW4nLCBtYXg9MjI4MC4wLCBzdHlsZT1Qcm9ncmVzc1N0eWxlKGRlc2NyaXB0aW9uX3figKY=\n"
      ]
     },
     "metadata": {},
     "output_type": "display_data"
    },
    {
     "name": "stdout",
     "output_type": "stream",
     "text": [
      "\n"
     ]
    },
    {
     "data": {
      "application/vnd.jupyter.widget-view+json": {
       "model_id": "ae872124f0dd4337b0163630d43af40d",
       "version_major": 2,
       "version_minor": 0
      },
      "text/plain": [
       "SEJveChjaGlsZHJlbj0oRmxvYXRQcm9ncmVzcyh2YWx1ZT0wLjAsIGRlc2NyaXB0aW9uPXUnR2F1c3NpYW4nLCBtYXg9MjI4MC4wLCBzdHlsZT1Qcm9ncmVzc1N0eWxlKGRlc2NyaXB0aW9uX3figKY=\n"
      ]
     },
     "metadata": {},
     "output_type": "display_data"
    },
    {
     "name": "stdout",
     "output_type": "stream",
     "text": [
      "\n"
     ]
    },
    {
     "data": {
      "application/vnd.jupyter.widget-view+json": {
       "model_id": "3869488deccf406ca99edbcff5611556",
       "version_major": 2,
       "version_minor": 0
      },
      "text/plain": [
       "SEJveChjaGlsZHJlbj0oRmxvYXRQcm9ncmVzcyh2YWx1ZT0wLjAsIGRlc2NyaXB0aW9uPXUnR2F1c3NpYW4nLCBtYXg9MjI4MC4wLCBzdHlsZT1Qcm9ncmVzc1N0eWxlKGRlc2NyaXB0aW9uX3figKY=\n"
      ]
     },
     "metadata": {},
     "output_type": "display_data"
    },
    {
     "name": "stdout",
     "output_type": "stream",
     "text": [
      "\n",
      "\n"
     ]
    },
    {
     "data": {
      "application/vnd.jupyter.widget-view+json": {
       "model_id": "0595b44b8069479f9ae87d6968c30c0e",
       "version_major": 2,
       "version_minor": 0
      },
      "text/plain": [
       "SEJveChjaGlsZHJlbj0oRmxvYXRQcm9ncmVzcyh2YWx1ZT0wLjAsIGRlc2NyaXB0aW9uPXUnSW1hZ2UgRmVhdHVyZXMnLCBtYXg9ODEuMCwgc3R5bGU9UHJvZ3Jlc3NTdHlsZShkZXNjcmlwdGnigKY=\n"
      ]
     },
     "metadata": {},
     "output_type": "display_data"
    },
    {
     "name": "stdout",
     "output_type": "stream",
     "text": [
      "\n"
     ]
    },
    {
     "data": {
      "application/vnd.jupyter.widget-view+json": {
       "model_id": "ed1aa4489d914e81afc1f27755f53afa",
       "version_major": 2,
       "version_minor": 0
      },
      "text/plain": [
       "SEJveChjaGlsZHJlbj0oRmxvYXRQcm9ncmVzcyh2YWx1ZT0wLjAsIGRlc2NyaXB0aW9uPXUnYyBWYWx1ZXMnLCBtYXg9My4wLCBzdHlsZT1Qcm9ncmVzc1N0eWxlKGRlc2NyaXB0aW9uX3dpZHTigKY=\n"
      ]
     },
     "metadata": {},
     "output_type": "display_data"
    },
    {
     "data": {
      "application/vnd.jupyter.widget-view+json": {
       "model_id": "0678812676974a7d9da013ab516a28c2",
       "version_major": 2,
       "version_minor": 0
      },
      "text/plain": [
       "SEJveChjaGlsZHJlbj0oRmxvYXRQcm9ncmVzcyh2YWx1ZT0wLjAsIGRlc2NyaXB0aW9uPXUnR2F1c3NpYW4nLCBtYXg9MTk5NS4wLCBzdHlsZT1Qcm9ncmVzc1N0eWxlKGRlc2NyaXB0aW9uX3figKY=\n"
      ]
     },
     "metadata": {},
     "output_type": "display_data"
    },
    {
     "name": "stdout",
     "output_type": "stream",
     "text": [
      "\n"
     ]
    },
    {
     "data": {
      "application/vnd.jupyter.widget-view+json": {
       "model_id": "b9891c0bab1e4fe8b9a3a4d3f5cb230d",
       "version_major": 2,
       "version_minor": 0
      },
      "text/plain": [
       "SEJveChjaGlsZHJlbj0oRmxvYXRQcm9ncmVzcyh2YWx1ZT0wLjAsIGRlc2NyaXB0aW9uPXUnR2F1c3NpYW4nLCBtYXg9MTk5NS4wLCBzdHlsZT1Qcm9ncmVzc1N0eWxlKGRlc2NyaXB0aW9uX3figKY=\n"
      ]
     },
     "metadata": {},
     "output_type": "display_data"
    },
    {
     "name": "stdout",
     "output_type": "stream",
     "text": [
      "\n"
     ]
    },
    {
     "data": {
      "application/vnd.jupyter.widget-view+json": {
       "model_id": "e2334982f0a045ca9c55c4ff5277be05",
       "version_major": 2,
       "version_minor": 0
      },
      "text/plain": [
       "SEJveChjaGlsZHJlbj0oRmxvYXRQcm9ncmVzcyh2YWx1ZT0wLjAsIGRlc2NyaXB0aW9uPXUnR2F1c3NpYW4nLCBtYXg9MTk5NS4wLCBzdHlsZT1Qcm9ncmVzc1N0eWxlKGRlc2NyaXB0aW9uX3figKY=\n"
      ]
     },
     "metadata": {},
     "output_type": "display_data"
    },
    {
     "name": "stdout",
     "output_type": "stream",
     "text": [
      "\n",
      "\n"
     ]
    },
    {
     "data": {
      "application/vnd.jupyter.widget-view+json": {
       "model_id": "1a3f8b58fa2a485e82c43b4ee936d6f8",
       "version_major": 2,
       "version_minor": 0
      },
      "text/plain": [
       "SEJveChjaGlsZHJlbj0oRmxvYXRQcm9ncmVzcyh2YWx1ZT0wLjAsIGRlc2NyaXB0aW9uPXUnSW1hZ2UgRmVhdHVyZXMnLCBtYXg9ODEuMCwgc3R5bGU9UHJvZ3Jlc3NTdHlsZShkZXNjcmlwdGnigKY=\n"
      ]
     },
     "metadata": {},
     "output_type": "display_data"
    },
    {
     "name": "stdout",
     "output_type": "stream",
     "text": [
      "\n"
     ]
    },
    {
     "data": {
      "application/vnd.jupyter.widget-view+json": {
       "model_id": "57b01a8de0934ebfa5c04790bbff22e9",
       "version_major": 2,
       "version_minor": 0
      },
      "text/plain": [
       "SEJveChjaGlsZHJlbj0oRmxvYXRQcm9ncmVzcyh2YWx1ZT0wLjAsIGRlc2NyaXB0aW9uPXUnYyBWYWx1ZXMnLCBtYXg9My4wLCBzdHlsZT1Qcm9ncmVzc1N0eWxlKGRlc2NyaXB0aW9uX3dpZHTigKY=\n"
      ]
     },
     "metadata": {},
     "output_type": "display_data"
    },
    {
     "data": {
      "application/vnd.jupyter.widget-view+json": {
       "model_id": "8199596a873344c088f5f9934e058ed0",
       "version_major": 2,
       "version_minor": 0
      },
      "text/plain": [
       "SEJveChjaGlsZHJlbj0oRmxvYXRQcm9ncmVzcyh2YWx1ZT0wLjAsIGRlc2NyaXB0aW9uPXUnR2F1c3NpYW4nLCBtYXg9MTcxMC4wLCBzdHlsZT1Qcm9ncmVzc1N0eWxlKGRlc2NyaXB0aW9uX3figKY=\n"
      ]
     },
     "metadata": {},
     "output_type": "display_data"
    },
    {
     "name": "stdout",
     "output_type": "stream",
     "text": [
      "\n"
     ]
    },
    {
     "data": {
      "application/vnd.jupyter.widget-view+json": {
       "model_id": "19c0ca367e134a03b6d335b9149106dc",
       "version_major": 2,
       "version_minor": 0
      },
      "text/plain": [
       "SEJveChjaGlsZHJlbj0oRmxvYXRQcm9ncmVzcyh2YWx1ZT0wLjAsIGRlc2NyaXB0aW9uPXUnR2F1c3NpYW4nLCBtYXg9MTcxMC4wLCBzdHlsZT1Qcm9ncmVzc1N0eWxlKGRlc2NyaXB0aW9uX3figKY=\n"
      ]
     },
     "metadata": {},
     "output_type": "display_data"
    },
    {
     "name": "stdout",
     "output_type": "stream",
     "text": [
      "\n"
     ]
    },
    {
     "data": {
      "application/vnd.jupyter.widget-view+json": {
       "model_id": "ad0210ce784f4509b3688a416b6dba4c",
       "version_major": 2,
       "version_minor": 0
      },
      "text/plain": [
       "SEJveChjaGlsZHJlbj0oRmxvYXRQcm9ncmVzcyh2YWx1ZT0wLjAsIGRlc2NyaXB0aW9uPXUnR2F1c3NpYW4nLCBtYXg9MTcxMC4wLCBzdHlsZT1Qcm9ncmVzc1N0eWxlKGRlc2NyaXB0aW9uX3figKY=\n"
      ]
     },
     "metadata": {},
     "output_type": "display_data"
    },
    {
     "name": "stdout",
     "output_type": "stream",
     "text": [
      "\n",
      "\n",
      "\n"
     ]
    },
    {
     "data": {
      "application/vnd.jupyter.widget-view+json": {
       "model_id": "6f928620feff418db91c11477a33d6d9",
       "version_major": 2,
       "version_minor": 0
      },
      "text/plain": [
       "SEJveChjaGlsZHJlbj0oRmxvYXRQcm9ncmVzcyh2YWx1ZT0wLjAsIGRlc2NyaXB0aW9uPXUnTWVhc3VyZW1lbnQgJScsIG1heD02LjAsIHN0eWxlPVByb2dyZXNzU3R5bGUoZGVzY3JpcHRpb27igKY=\n"
      ]
     },
     "metadata": {},
     "output_type": "display_data"
    },
    {
     "data": {
      "application/vnd.jupyter.widget-view+json": {
       "model_id": "d2b44b35a8c44115bc8f3258517bcfb2",
       "version_major": 2,
       "version_minor": 0
      },
      "text/plain": [
       "SEJveChjaGlsZHJlbj0oRmxvYXRQcm9ncmVzcyh2YWx1ZT0wLjAsIGRlc2NyaXB0aW9uPXUnSW1hZ2UgRmVhdHVyZXMnLCBtYXg9ODcuMCwgc3R5bGU9UHJvZ3Jlc3NTdHlsZShkZXNjcmlwdGnigKY=\n"
      ]
     },
     "metadata": {},
     "output_type": "display_data"
    },
    {
     "name": "stdout",
     "output_type": "stream",
     "text": [
      "\n"
     ]
    },
    {
     "data": {
      "application/vnd.jupyter.widget-view+json": {
       "model_id": "89ffa4ccf79f40b293a1a0409b86dde8",
       "version_major": 2,
       "version_minor": 0
      },
      "text/plain": [
       "SEJveChjaGlsZHJlbj0oRmxvYXRQcm9ncmVzcyh2YWx1ZT0wLjAsIGRlc2NyaXB0aW9uPXUnYyBWYWx1ZXMnLCBtYXg9My4wLCBzdHlsZT1Qcm9ncmVzc1N0eWxlKGRlc2NyaXB0aW9uX3dpZHTigKY=\n"
      ]
     },
     "metadata": {},
     "output_type": "display_data"
    },
    {
     "data": {
      "application/vnd.jupyter.widget-view+json": {
       "model_id": "4c5113dd6c514f6a94fd087e8eda94cd",
       "version_major": 2,
       "version_minor": 0
      },
      "text/plain": [
       "SEJveChjaGlsZHJlbj0oRmxvYXRQcm9ncmVzcyh2YWx1ZT0wLjAsIGRlc2NyaXB0aW9uPXUnR2F1c3NpYW4nLCBtYXg9MjM3Ni4wLCBzdHlsZT1Qcm9ncmVzc1N0eWxlKGRlc2NyaXB0aW9uX3figKY=\n"
      ]
     },
     "metadata": {},
     "output_type": "display_data"
    },
    {
     "name": "stdout",
     "output_type": "stream",
     "text": [
      "\n"
     ]
    },
    {
     "data": {
      "application/vnd.jupyter.widget-view+json": {
       "model_id": "ed678c8932944685a16d87130d9152fc",
       "version_major": 2,
       "version_minor": 0
      },
      "text/plain": [
       "SEJveChjaGlsZHJlbj0oRmxvYXRQcm9ncmVzcyh2YWx1ZT0wLjAsIGRlc2NyaXB0aW9uPXUnR2F1c3NpYW4nLCBtYXg9MjM3Ni4wLCBzdHlsZT1Qcm9ncmVzc1N0eWxlKGRlc2NyaXB0aW9uX3figKY=\n"
      ]
     },
     "metadata": {},
     "output_type": "display_data"
    },
    {
     "name": "stdout",
     "output_type": "stream",
     "text": [
      "\n"
     ]
    },
    {
     "data": {
      "application/vnd.jupyter.widget-view+json": {
       "model_id": "da3205aa53f541ae9fa33de3c88c3f55",
       "version_major": 2,
       "version_minor": 0
      },
      "text/plain": [
       "SEJveChjaGlsZHJlbj0oRmxvYXRQcm9ncmVzcyh2YWx1ZT0wLjAsIGRlc2NyaXB0aW9uPXUnR2F1c3NpYW4nLCBtYXg9MjM3Ni4wLCBzdHlsZT1Qcm9ncmVzc1N0eWxlKGRlc2NyaXB0aW9uX3figKY=\n"
      ]
     },
     "metadata": {},
     "output_type": "display_data"
    },
    {
     "name": "stdout",
     "output_type": "stream",
     "text": [
      "\n",
      "\n"
     ]
    },
    {
     "data": {
      "application/vnd.jupyter.widget-view+json": {
       "model_id": "fc1a5ff11a464e8995b812ea9b88a07e",
       "version_major": 2,
       "version_minor": 0
      },
      "text/plain": [
       "SEJveChjaGlsZHJlbj0oRmxvYXRQcm9ncmVzcyh2YWx1ZT0wLjAsIGRlc2NyaXB0aW9uPXUnSW1hZ2UgRmVhdHVyZXMnLCBtYXg9ODcuMCwgc3R5bGU9UHJvZ3Jlc3NTdHlsZShkZXNjcmlwdGnigKY=\n"
      ]
     },
     "metadata": {},
     "output_type": "display_data"
    },
    {
     "name": "stdout",
     "output_type": "stream",
     "text": [
      "\n"
     ]
    },
    {
     "data": {
      "application/vnd.jupyter.widget-view+json": {
       "model_id": "97636ccd1d41431bbe1a327a2404a918",
       "version_major": 2,
       "version_minor": 0
      },
      "text/plain": [
       "SEJveChjaGlsZHJlbj0oRmxvYXRQcm9ncmVzcyh2YWx1ZT0wLjAsIGRlc2NyaXB0aW9uPXUnYyBWYWx1ZXMnLCBtYXg9My4wLCBzdHlsZT1Qcm9ncmVzc1N0eWxlKGRlc2NyaXB0aW9uX3dpZHTigKY=\n"
      ]
     },
     "metadata": {},
     "output_type": "display_data"
    },
    {
     "data": {
      "application/vnd.jupyter.widget-view+json": {
       "model_id": "76486454891e4c9c9db10c50e205d106",
       "version_major": 2,
       "version_minor": 0
      },
      "text/plain": [
       "SEJveChjaGlsZHJlbj0oRmxvYXRQcm9ncmVzcyh2YWx1ZT0wLjAsIGRlc2NyaXB0aW9uPXUnR2F1c3NpYW4nLCBtYXg9MjI4MC4wLCBzdHlsZT1Qcm9ncmVzc1N0eWxlKGRlc2NyaXB0aW9uX3figKY=\n"
      ]
     },
     "metadata": {},
     "output_type": "display_data"
    },
    {
     "name": "stdout",
     "output_type": "stream",
     "text": [
      "\n"
     ]
    },
    {
     "data": {
      "application/vnd.jupyter.widget-view+json": {
       "model_id": "f752bc684b5d4bda88d232ed26e6f685",
       "version_major": 2,
       "version_minor": 0
      },
      "text/plain": [
       "SEJveChjaGlsZHJlbj0oRmxvYXRQcm9ncmVzcyh2YWx1ZT0wLjAsIGRlc2NyaXB0aW9uPXUnR2F1c3NpYW4nLCBtYXg9MjI4MC4wLCBzdHlsZT1Qcm9ncmVzc1N0eWxlKGRlc2NyaXB0aW9uX3figKY=\n"
      ]
     },
     "metadata": {},
     "output_type": "display_data"
    },
    {
     "name": "stdout",
     "output_type": "stream",
     "text": [
      "\n"
     ]
    },
    {
     "data": {
      "application/vnd.jupyter.widget-view+json": {
       "model_id": "525cb97555fb450695995be8b7bcc79e",
       "version_major": 2,
       "version_minor": 0
      },
      "text/plain": [
       "SEJveChjaGlsZHJlbj0oRmxvYXRQcm9ncmVzcyh2YWx1ZT0wLjAsIGRlc2NyaXB0aW9uPXUnR2F1c3NpYW4nLCBtYXg9MjI4MC4wLCBzdHlsZT1Qcm9ncmVzc1N0eWxlKGRlc2NyaXB0aW9uX3figKY=\n"
      ]
     },
     "metadata": {},
     "output_type": "display_data"
    },
    {
     "name": "stdout",
     "output_type": "stream",
     "text": [
      "\n",
      "\n"
     ]
    },
    {
     "data": {
      "application/vnd.jupyter.widget-view+json": {
       "model_id": "c9f1a66d4ed34f9ca768940dd3cdb4cb",
       "version_major": 2,
       "version_minor": 0
      },
      "text/plain": [
       "SEJveChjaGlsZHJlbj0oRmxvYXRQcm9ncmVzcyh2YWx1ZT0wLjAsIGRlc2NyaXB0aW9uPXUnSW1hZ2UgRmVhdHVyZXMnLCBtYXg9ODcuMCwgc3R5bGU9UHJvZ3Jlc3NTdHlsZShkZXNjcmlwdGnigKY=\n"
      ]
     },
     "metadata": {},
     "output_type": "display_data"
    },
    {
     "name": "stdout",
     "output_type": "stream",
     "text": [
      "\n"
     ]
    },
    {
     "data": {
      "application/vnd.jupyter.widget-view+json": {
       "model_id": "5a438e2584f34137af0053e3ca4bd09d",
       "version_major": 2,
       "version_minor": 0
      },
      "text/plain": [
       "SEJveChjaGlsZHJlbj0oRmxvYXRQcm9ncmVzcyh2YWx1ZT0wLjAsIGRlc2NyaXB0aW9uPXUnYyBWYWx1ZXMnLCBtYXg9My4wLCBzdHlsZT1Qcm9ncmVzc1N0eWxlKGRlc2NyaXB0aW9uX3dpZHTigKY=\n"
      ]
     },
     "metadata": {},
     "output_type": "display_data"
    },
    {
     "data": {
      "application/vnd.jupyter.widget-view+json": {
       "model_id": "e9b3c054c2c44048b910c6cac35883f7",
       "version_major": 2,
       "version_minor": 0
      },
      "text/plain": [
       "SEJveChjaGlsZHJlbj0oRmxvYXRQcm9ncmVzcyh2YWx1ZT0wLjAsIGRlc2NyaXB0aW9uPXUnR2F1c3NpYW4nLCBtYXg9MjE2MC4wLCBzdHlsZT1Qcm9ncmVzc1N0eWxlKGRlc2NyaXB0aW9uX3figKY=\n"
      ]
     },
     "metadata": {},
     "output_type": "display_data"
    },
    {
     "name": "stdout",
     "output_type": "stream",
     "text": [
      "\n"
     ]
    },
    {
     "data": {
      "application/vnd.jupyter.widget-view+json": {
       "model_id": "40c752b56c5444fcba075767cd547c74",
       "version_major": 2,
       "version_minor": 0
      },
      "text/plain": [
       "SEJveChjaGlsZHJlbj0oRmxvYXRQcm9ncmVzcyh2YWx1ZT0wLjAsIGRlc2NyaXB0aW9uPXUnR2F1c3NpYW4nLCBtYXg9MjE2MC4wLCBzdHlsZT1Qcm9ncmVzc1N0eWxlKGRlc2NyaXB0aW9uX3figKY=\n"
      ]
     },
     "metadata": {},
     "output_type": "display_data"
    },
    {
     "name": "stdout",
     "output_type": "stream",
     "text": [
      "\n"
     ]
    },
    {
     "data": {
      "application/vnd.jupyter.widget-view+json": {
       "model_id": "86748c930f4443109ad2aa09a3474b4d",
       "version_major": 2,
       "version_minor": 0
      },
      "text/plain": [
       "SEJveChjaGlsZHJlbj0oRmxvYXRQcm9ncmVzcyh2YWx1ZT0wLjAsIGRlc2NyaXB0aW9uPXUnR2F1c3NpYW4nLCBtYXg9MjE2MC4wLCBzdHlsZT1Qcm9ncmVzc1N0eWxlKGRlc2NyaXB0aW9uX3figKY=\n"
      ]
     },
     "metadata": {},
     "output_type": "display_data"
    },
    {
     "name": "stdout",
     "output_type": "stream",
     "text": [
      "\n",
      "\n"
     ]
    },
    {
     "data": {
      "application/vnd.jupyter.widget-view+json": {
       "model_id": "169859d4190b4f0c85353667199ebcf7",
       "version_major": 2,
       "version_minor": 0
      },
      "text/plain": [
       "SEJveChjaGlsZHJlbj0oRmxvYXRQcm9ncmVzcyh2YWx1ZT0wLjAsIGRlc2NyaXB0aW9uPXUnSW1hZ2UgRmVhdHVyZXMnLCBtYXg9ODcuMCwgc3R5bGU9UHJvZ3Jlc3NTdHlsZShkZXNjcmlwdGnigKY=\n"
      ]
     },
     "metadata": {},
     "output_type": "display_data"
    },
    {
     "name": "stdout",
     "output_type": "stream",
     "text": [
      "\n"
     ]
    },
    {
     "data": {
      "application/vnd.jupyter.widget-view+json": {
       "model_id": "2f2f588a88d3480c8ab2070721d91547",
       "version_major": 2,
       "version_minor": 0
      },
      "text/plain": [
       "SEJveChjaGlsZHJlbj0oRmxvYXRQcm9ncmVzcyh2YWx1ZT0wLjAsIGRlc2NyaXB0aW9uPXUnYyBWYWx1ZXMnLCBtYXg9My4wLCBzdHlsZT1Qcm9ncmVzc1N0eWxlKGRlc2NyaXB0aW9uX3dpZHTigKY=\n"
      ]
     },
     "metadata": {},
     "output_type": "display_data"
    },
    {
     "data": {
      "application/vnd.jupyter.widget-view+json": {
       "model_id": "7ed1bb89b68f4271bc2543fd494c144c",
       "version_major": 2,
       "version_minor": 0
      },
      "text/plain": [
       "SEJveChjaGlsZHJlbj0oRmxvYXRQcm9ncmVzcyh2YWx1ZT0wLjAsIGRlc2NyaXB0aW9uPXUnR2F1c3NpYW4nLCBtYXg9MTkyMC4wLCBzdHlsZT1Qcm9ncmVzc1N0eWxlKGRlc2NyaXB0aW9uX3figKY=\n"
      ]
     },
     "metadata": {},
     "output_type": "display_data"
    },
    {
     "name": "stdout",
     "output_type": "stream",
     "text": [
      "\n"
     ]
    },
    {
     "data": {
      "application/vnd.jupyter.widget-view+json": {
       "model_id": "6e70c129946e4aa6be7c7525901f9d9e",
       "version_major": 2,
       "version_minor": 0
      },
      "text/plain": [
       "SEJveChjaGlsZHJlbj0oRmxvYXRQcm9ncmVzcyh2YWx1ZT0wLjAsIGRlc2NyaXB0aW9uPXUnR2F1c3NpYW4nLCBtYXg9MTkyMC4wLCBzdHlsZT1Qcm9ncmVzc1N0eWxlKGRlc2NyaXB0aW9uX3figKY=\n"
      ]
     },
     "metadata": {},
     "output_type": "display_data"
    },
    {
     "name": "stdout",
     "output_type": "stream",
     "text": [
      "\n"
     ]
    },
    {
     "data": {
      "application/vnd.jupyter.widget-view+json": {
       "model_id": "9581956366aa4e1ab7c8c1889ff1c9ee",
       "version_major": 2,
       "version_minor": 0
      },
      "text/plain": [
       "SEJveChjaGlsZHJlbj0oRmxvYXRQcm9ncmVzcyh2YWx1ZT0wLjAsIGRlc2NyaXB0aW9uPXUnR2F1c3NpYW4nLCBtYXg9MTkyMC4wLCBzdHlsZT1Qcm9ncmVzc1N0eWxlKGRlc2NyaXB0aW9uX3figKY=\n"
      ]
     },
     "metadata": {},
     "output_type": "display_data"
    },
    {
     "name": "stdout",
     "output_type": "stream",
     "text": [
      "\n",
      "\n"
     ]
    },
    {
     "data": {
      "application/vnd.jupyter.widget-view+json": {
       "model_id": "838bcc7d407841178df414f82b68a6b1",
       "version_major": 2,
       "version_minor": 0
      },
      "text/plain": [
       "SEJveChjaGlsZHJlbj0oRmxvYXRQcm9ncmVzcyh2YWx1ZT0wLjAsIGRlc2NyaXB0aW9uPXUnSW1hZ2UgRmVhdHVyZXMnLCBtYXg9ODcuMCwgc3R5bGU9UHJvZ3Jlc3NTdHlsZShkZXNjcmlwdGnigKY=\n"
      ]
     },
     "metadata": {},
     "output_type": "display_data"
    },
    {
     "name": "stdout",
     "output_type": "stream",
     "text": [
      "\n"
     ]
    },
    {
     "data": {
      "application/vnd.jupyter.widget-view+json": {
       "model_id": "f96878a28c874f03bc3324c8aab9b4c5",
       "version_major": 2,
       "version_minor": 0
      },
      "text/plain": [
       "SEJveChjaGlsZHJlbj0oRmxvYXRQcm9ncmVzcyh2YWx1ZT0wLjAsIGRlc2NyaXB0aW9uPXUnYyBWYWx1ZXMnLCBtYXg9My4wLCBzdHlsZT1Qcm9ncmVzc1N0eWxlKGRlc2NyaXB0aW9uX3dpZHTigKY=\n"
      ]
     },
     "metadata": {},
     "output_type": "display_data"
    },
    {
     "data": {
      "application/vnd.jupyter.widget-view+json": {
       "model_id": "103d99ff9fa940798dc93ddb0f89ba06",
       "version_major": 2,
       "version_minor": 0
      },
      "text/plain": [
       "SEJveChjaGlsZHJlbj0oRmxvYXRQcm9ncmVzcyh2YWx1ZT0wLjAsIGRlc2NyaXB0aW9uPXUnR2F1c3NpYW4nLCBtYXg9MTY4MC4wLCBzdHlsZT1Qcm9ncmVzc1N0eWxlKGRlc2NyaXB0aW9uX3figKY=\n"
      ]
     },
     "metadata": {},
     "output_type": "display_data"
    },
    {
     "name": "stdout",
     "output_type": "stream",
     "text": [
      "\n"
     ]
    },
    {
     "data": {
      "application/vnd.jupyter.widget-view+json": {
       "model_id": "4fd94ed52d0140d5a6a25f78e2201a81",
       "version_major": 2,
       "version_minor": 0
      },
      "text/plain": [
       "SEJveChjaGlsZHJlbj0oRmxvYXRQcm9ncmVzcyh2YWx1ZT0wLjAsIGRlc2NyaXB0aW9uPXUnR2F1c3NpYW4nLCBtYXg9MTY4MC4wLCBzdHlsZT1Qcm9ncmVzc1N0eWxlKGRlc2NyaXB0aW9uX3figKY=\n"
      ]
     },
     "metadata": {},
     "output_type": "display_data"
    },
    {
     "name": "stdout",
     "output_type": "stream",
     "text": [
      "\n"
     ]
    },
    {
     "data": {
      "application/vnd.jupyter.widget-view+json": {
       "model_id": "a5a8522d80fe4cfcaec85d411f80cff8",
       "version_major": 2,
       "version_minor": 0
      },
      "text/plain": [
       "SEJveChjaGlsZHJlbj0oRmxvYXRQcm9ncmVzcyh2YWx1ZT0wLjAsIGRlc2NyaXB0aW9uPXUnR2F1c3NpYW4nLCBtYXg9MTY4MC4wLCBzdHlsZT1Qcm9ncmVzc1N0eWxlKGRlc2NyaXB0aW9uX3figKY=\n"
      ]
     },
     "metadata": {},
     "output_type": "display_data"
    },
    {
     "name": "stdout",
     "output_type": "stream",
     "text": [
      "\n",
      "\n"
     ]
    },
    {
     "data": {
      "application/vnd.jupyter.widget-view+json": {
       "model_id": "7f67aa6b26044f038d78eee1164578e8",
       "version_major": 2,
       "version_minor": 0
      },
      "text/plain": [
       "SEJveChjaGlsZHJlbj0oRmxvYXRQcm9ncmVzcyh2YWx1ZT0wLjAsIGRlc2NyaXB0aW9uPXUnSW1hZ2UgRmVhdHVyZXMnLCBtYXg9ODcuMCwgc3R5bGU9UHJvZ3Jlc3NTdHlsZShkZXNjcmlwdGnigKY=\n"
      ]
     },
     "metadata": {},
     "output_type": "display_data"
    },
    {
     "name": "stdout",
     "output_type": "stream",
     "text": [
      "\n"
     ]
    },
    {
     "data": {
      "application/vnd.jupyter.widget-view+json": {
       "model_id": "197f6de2cbfc4fedbb151a3d7492db9a",
       "version_major": 2,
       "version_minor": 0
      },
      "text/plain": [
       "SEJveChjaGlsZHJlbj0oRmxvYXRQcm9ncmVzcyh2YWx1ZT0wLjAsIGRlc2NyaXB0aW9uPXUnYyBWYWx1ZXMnLCBtYXg9My4wLCBzdHlsZT1Qcm9ncmVzc1N0eWxlKGRlc2NyaXB0aW9uX3dpZHTigKY=\n"
      ]
     },
     "metadata": {},
     "output_type": "display_data"
    },
    {
     "data": {
      "application/vnd.jupyter.widget-view+json": {
       "model_id": "88c6beaceb184daebf8c4a5f79544b2a",
       "version_major": 2,
       "version_minor": 0
      },
      "text/plain": [
       "SEJveChjaGlsZHJlbj0oRmxvYXRQcm9ncmVzcyh2YWx1ZT0wLjAsIGRlc2NyaXB0aW9uPXUnR2F1c3NpYW4nLCBtYXg9MTQ0MC4wLCBzdHlsZT1Qcm9ncmVzc1N0eWxlKGRlc2NyaXB0aW9uX3figKY=\n"
      ]
     },
     "metadata": {},
     "output_type": "display_data"
    },
    {
     "name": "stdout",
     "output_type": "stream",
     "text": [
      "\n"
     ]
    },
    {
     "data": {
      "application/vnd.jupyter.widget-view+json": {
       "model_id": "d31adc5db2bf4f37ba5482e1fb749620",
       "version_major": 2,
       "version_minor": 0
      },
      "text/plain": [
       "SEJveChjaGlsZHJlbj0oRmxvYXRQcm9ncmVzcyh2YWx1ZT0wLjAsIGRlc2NyaXB0aW9uPXUnR2F1c3NpYW4nLCBtYXg9MTQ0MC4wLCBzdHlsZT1Qcm9ncmVzc1N0eWxlKGRlc2NyaXB0aW9uX3figKY=\n"
      ]
     },
     "metadata": {},
     "output_type": "display_data"
    },
    {
     "name": "stdout",
     "output_type": "stream",
     "text": [
      "\n"
     ]
    },
    {
     "data": {
      "application/vnd.jupyter.widget-view+json": {
       "model_id": "8634eb87fb3c4f78abd38a0e9d8f7a5f",
       "version_major": 2,
       "version_minor": 0
      },
      "text/plain": [
       "SEJveChjaGlsZHJlbj0oRmxvYXRQcm9ncmVzcyh2YWx1ZT0wLjAsIGRlc2NyaXB0aW9uPXUnR2F1c3NpYW4nLCBtYXg9MTQ0MC4wLCBzdHlsZT1Qcm9ncmVzc1N0eWxlKGRlc2NyaXB0aW9uX3figKY=\n"
      ]
     },
     "metadata": {},
     "output_type": "display_data"
    },
    {
     "name": "stdout",
     "output_type": "stream",
     "text": [
      "\n",
      "\n",
      "\n"
     ]
    },
    {
     "data": {
      "application/vnd.jupyter.widget-view+json": {
       "model_id": "267e2049f7fd4d4aac473e4a1c367346",
       "version_major": 2,
       "version_minor": 0
      },
      "text/plain": [
       "SEJveChjaGlsZHJlbj0oRmxvYXRQcm9ncmVzcyh2YWx1ZT0wLjAsIGRlc2NyaXB0aW9uPXUnTWVhc3VyZW1lbnQgJScsIG1heD02LjAsIHN0eWxlPVByb2dyZXNzU3R5bGUoZGVzY3JpcHRpb27igKY=\n"
      ]
     },
     "metadata": {},
     "output_type": "display_data"
    },
    {
     "data": {
      "application/vnd.jupyter.widget-view+json": {
       "model_id": "42472f7cfc744857a8abd61ec194729c",
       "version_major": 2,
       "version_minor": 0
      },
      "text/plain": [
       "SEJveChjaGlsZHJlbj0oRmxvYXRQcm9ncmVzcyh2YWx1ZT0wLjAsIGRlc2NyaXB0aW9uPXUnSW1hZ2UgRmVhdHVyZXMnLCBtYXg9ODEuMCwgc3R5bGU9UHJvZ3Jlc3NTdHlsZShkZXNjcmlwdGnigKY=\n"
      ]
     },
     "metadata": {},
     "output_type": "display_data"
    },
    {
     "name": "stdout",
     "output_type": "stream",
     "text": [
      "\n"
     ]
    },
    {
     "data": {
      "application/vnd.jupyter.widget-view+json": {
       "model_id": "55b4bd18e0e74f249099276be4fb6fc7",
       "version_major": 2,
       "version_minor": 0
      },
      "text/plain": [
       "SEJveChjaGlsZHJlbj0oRmxvYXRQcm9ncmVzcyh2YWx1ZT0wLjAsIGRlc2NyaXB0aW9uPXUnYyBWYWx1ZXMnLCBtYXg9My4wLCBzdHlsZT1Qcm9ncmVzc1N0eWxlKGRlc2NyaXB0aW9uX3dpZHTigKY=\n"
      ]
     },
     "metadata": {},
     "output_type": "display_data"
    },
    {
     "data": {
      "application/vnd.jupyter.widget-view+json": {
       "model_id": "74f28ba080f84e5a9b9308eda5119d48",
       "version_major": 2,
       "version_minor": 0
      },
      "text/plain": [
       "SEJveChjaGlsZHJlbj0oRmxvYXRQcm9ncmVzcyh2YWx1ZT0wLjAsIGRlc2NyaXB0aW9uPXUnR2F1c3NpYW4nLCBtYXg9MjUyNC4wLCBzdHlsZT1Qcm9ncmVzc1N0eWxlKGRlc2NyaXB0aW9uX3figKY=\n"
      ]
     },
     "metadata": {},
     "output_type": "display_data"
    },
    {
     "name": "stdout",
     "output_type": "stream",
     "text": [
      "\n"
     ]
    },
    {
     "data": {
      "application/vnd.jupyter.widget-view+json": {
       "model_id": "5c635c525b6847fbab574e79a7695a69",
       "version_major": 2,
       "version_minor": 0
      },
      "text/plain": [
       "SEJveChjaGlsZHJlbj0oRmxvYXRQcm9ncmVzcyh2YWx1ZT0wLjAsIGRlc2NyaXB0aW9uPXUnR2F1c3NpYW4nLCBtYXg9MjUyNC4wLCBzdHlsZT1Qcm9ncmVzc1N0eWxlKGRlc2NyaXB0aW9uX3figKY=\n"
      ]
     },
     "metadata": {},
     "output_type": "display_data"
    },
    {
     "name": "stdout",
     "output_type": "stream",
     "text": [
      "\n"
     ]
    },
    {
     "data": {
      "application/vnd.jupyter.widget-view+json": {
       "model_id": "87d7a9ad074d441b800db4fb2ea7ef11",
       "version_major": 2,
       "version_minor": 0
      },
      "text/plain": [
       "SEJveChjaGlsZHJlbj0oRmxvYXRQcm9ncmVzcyh2YWx1ZT0wLjAsIGRlc2NyaXB0aW9uPXUnR2F1c3NpYW4nLCBtYXg9MjUyNC4wLCBzdHlsZT1Qcm9ncmVzc1N0eWxlKGRlc2NyaXB0aW9uX3figKY=\n"
      ]
     },
     "metadata": {},
     "output_type": "display_data"
    },
    {
     "name": "stdout",
     "output_type": "stream",
     "text": [
      "\n",
      "\n"
     ]
    },
    {
     "data": {
      "application/vnd.jupyter.widget-view+json": {
       "model_id": "cb864a77e69c4beb944b34afb58eae72",
       "version_major": 2,
       "version_minor": 0
      },
      "text/plain": [
       "SEJveChjaGlsZHJlbj0oRmxvYXRQcm9ncmVzcyh2YWx1ZT0wLjAsIGRlc2NyaXB0aW9uPXUnSW1hZ2UgRmVhdHVyZXMnLCBtYXg9ODEuMCwgc3R5bGU9UHJvZ3Jlc3NTdHlsZShkZXNjcmlwdGnigKY=\n"
      ]
     },
     "metadata": {},
     "output_type": "display_data"
    },
    {
     "name": "stdout",
     "output_type": "stream",
     "text": [
      "\n"
     ]
    },
    {
     "data": {
      "application/vnd.jupyter.widget-view+json": {
       "model_id": "11422d300fa14166b7c35e0eb5c2e6af",
       "version_major": 2,
       "version_minor": 0
      },
      "text/plain": [
       "SEJveChjaGlsZHJlbj0oRmxvYXRQcm9ncmVzcyh2YWx1ZT0wLjAsIGRlc2NyaXB0aW9uPXUnYyBWYWx1ZXMnLCBtYXg9My4wLCBzdHlsZT1Qcm9ncmVzc1N0eWxlKGRlc2NyaXB0aW9uX3dpZHTigKY=\n"
      ]
     },
     "metadata": {},
     "output_type": "display_data"
    },
    {
     "data": {
      "application/vnd.jupyter.widget-view+json": {
       "model_id": "a15e6a9cf3ae4168be794220bf71dd0b",
       "version_major": 2,
       "version_minor": 0
      },
      "text/plain": [
       "SEJveChjaGlsZHJlbj0oRmxvYXRQcm9ncmVzcyh2YWx1ZT0wLjAsIGRlc2NyaXB0aW9uPXUnR2F1c3NpYW4nLCBtYXg9MjQyMi4wLCBzdHlsZT1Qcm9ncmVzc1N0eWxlKGRlc2NyaXB0aW9uX3figKY=\n"
      ]
     },
     "metadata": {},
     "output_type": "display_data"
    },
    {
     "name": "stdout",
     "output_type": "stream",
     "text": [
      "\n"
     ]
    },
    {
     "data": {
      "application/vnd.jupyter.widget-view+json": {
       "model_id": "fe79f9990c134571bf6c75aa493a31e5",
       "version_major": 2,
       "version_minor": 0
      },
      "text/plain": [
       "SEJveChjaGlsZHJlbj0oRmxvYXRQcm9ncmVzcyh2YWx1ZT0wLjAsIGRlc2NyaXB0aW9uPXUnR2F1c3NpYW4nLCBtYXg9MjQyMi4wLCBzdHlsZT1Qcm9ncmVzc1N0eWxlKGRlc2NyaXB0aW9uX3figKY=\n"
      ]
     },
     "metadata": {},
     "output_type": "display_data"
    },
    {
     "name": "stdout",
     "output_type": "stream",
     "text": [
      "\n"
     ]
    },
    {
     "data": {
      "application/vnd.jupyter.widget-view+json": {
       "model_id": "c2e1c4e690644b63aa4d2839bdc9ef8d",
       "version_major": 2,
       "version_minor": 0
      },
      "text/plain": [
       "SEJveChjaGlsZHJlbj0oRmxvYXRQcm9ncmVzcyh2YWx1ZT0wLjAsIGRlc2NyaXB0aW9uPXUnR2F1c3NpYW4nLCBtYXg9MjQyMi4wLCBzdHlsZT1Qcm9ncmVzc1N0eWxlKGRlc2NyaXB0aW9uX3figKY=\n"
      ]
     },
     "metadata": {},
     "output_type": "display_data"
    },
    {
     "name": "stdout",
     "output_type": "stream",
     "text": [
      "\n",
      "\n"
     ]
    },
    {
     "data": {
      "application/vnd.jupyter.widget-view+json": {
       "model_id": "c554faccace548d883a8c93a2424ce6b",
       "version_major": 2,
       "version_minor": 0
      },
      "text/plain": [
       "SEJveChjaGlsZHJlbj0oRmxvYXRQcm9ncmVzcyh2YWx1ZT0wLjAsIGRlc2NyaXB0aW9uPXUnSW1hZ2UgRmVhdHVyZXMnLCBtYXg9ODEuMCwgc3R5bGU9UHJvZ3Jlc3NTdHlsZShkZXNjcmlwdGnigKY=\n"
      ]
     },
     "metadata": {},
     "output_type": "display_data"
    },
    {
     "name": "stdout",
     "output_type": "stream",
     "text": [
      "\n"
     ]
    },
    {
     "data": {
      "application/vnd.jupyter.widget-view+json": {
       "model_id": "61d89d7f59ff44ffa722c07cb1c311b0",
       "version_major": 2,
       "version_minor": 0
      },
      "text/plain": [
       "SEJveChjaGlsZHJlbj0oRmxvYXRQcm9ncmVzcyh2YWx1ZT0wLjAsIGRlc2NyaXB0aW9uPXUnYyBWYWx1ZXMnLCBtYXg9My4wLCBzdHlsZT1Qcm9ncmVzc1N0eWxlKGRlc2NyaXB0aW9uX3dpZHTigKY=\n"
      ]
     },
     "metadata": {},
     "output_type": "display_data"
    },
    {
     "data": {
      "application/vnd.jupyter.widget-view+json": {
       "model_id": "23adf3b2c0e44816804a4f733d21fe94",
       "version_major": 2,
       "version_minor": 0
      },
      "text/plain": [
       "SEJveChjaGlsZHJlbj0oRmxvYXRQcm9ncmVzcyh2YWx1ZT0wLjAsIGRlc2NyaXB0aW9uPXUnR2F1c3NpYW4nLCBtYXg9MjI5NS4wLCBzdHlsZT1Qcm9ncmVzc1N0eWxlKGRlc2NyaXB0aW9uX3figKY=\n"
      ]
     },
     "metadata": {},
     "output_type": "display_data"
    },
    {
     "name": "stdout",
     "output_type": "stream",
     "text": [
      "\n"
     ]
    },
    {
     "data": {
      "application/vnd.jupyter.widget-view+json": {
       "model_id": "91a98a3d360a498e9b0fd2e270738b13",
       "version_major": 2,
       "version_minor": 0
      },
      "text/plain": [
       "SEJveChjaGlsZHJlbj0oRmxvYXRQcm9ncmVzcyh2YWx1ZT0wLjAsIGRlc2NyaXB0aW9uPXUnR2F1c3NpYW4nLCBtYXg9MjI5NS4wLCBzdHlsZT1Qcm9ncmVzc1N0eWxlKGRlc2NyaXB0aW9uX3figKY=\n"
      ]
     },
     "metadata": {},
     "output_type": "display_data"
    },
    {
     "name": "stdout",
     "output_type": "stream",
     "text": [
      "\n"
     ]
    },
    {
     "data": {
      "application/vnd.jupyter.widget-view+json": {
       "model_id": "8e364f400bcf4e3abb4d9caa1054e050",
       "version_major": 2,
       "version_minor": 0
      },
      "text/plain": [
       "SEJveChjaGlsZHJlbj0oRmxvYXRQcm9ncmVzcyh2YWx1ZT0wLjAsIGRlc2NyaXB0aW9uPXUnR2F1c3NpYW4nLCBtYXg9MjI5NS4wLCBzdHlsZT1Qcm9ncmVzc1N0eWxlKGRlc2NyaXB0aW9uX3figKY=\n"
      ]
     },
     "metadata": {},
     "output_type": "display_data"
    },
    {
     "name": "stdout",
     "output_type": "stream",
     "text": [
      "\n",
      "\n"
     ]
    },
    {
     "data": {
      "application/vnd.jupyter.widget-view+json": {
       "model_id": "e3da0d542c3c412fae620158667bca62",
       "version_major": 2,
       "version_minor": 0
      },
      "text/plain": [
       "SEJveChjaGlsZHJlbj0oRmxvYXRQcm9ncmVzcyh2YWx1ZT0wLjAsIGRlc2NyaXB0aW9uPXUnSW1hZ2UgRmVhdHVyZXMnLCBtYXg9ODEuMCwgc3R5bGU9UHJvZ3Jlc3NTdHlsZShkZXNjcmlwdGnigKY=\n"
      ]
     },
     "metadata": {},
     "output_type": "display_data"
    },
    {
     "name": "stdout",
     "output_type": "stream",
     "text": [
      "\n"
     ]
    },
    {
     "data": {
      "application/vnd.jupyter.widget-view+json": {
       "model_id": "f004180c7f3c47adb05d15f79677ad42",
       "version_major": 2,
       "version_minor": 0
      },
      "text/plain": [
       "SEJveChjaGlsZHJlbj0oRmxvYXRQcm9ncmVzcyh2YWx1ZT0wLjAsIGRlc2NyaXB0aW9uPXUnYyBWYWx1ZXMnLCBtYXg9My4wLCBzdHlsZT1Qcm9ncmVzc1N0eWxlKGRlc2NyaXB0aW9uX3dpZHTigKY=\n"
      ]
     },
     "metadata": {},
     "output_type": "display_data"
    },
    {
     "data": {
      "application/vnd.jupyter.widget-view+json": {
       "model_id": "26344ad8758142b2a436b69a561ec6e0",
       "version_major": 2,
       "version_minor": 0
      },
      "text/plain": [
       "SEJveChjaGlsZHJlbj0oRmxvYXRQcm9ncmVzcyh2YWx1ZT0wLjAsIGRlc2NyaXB0aW9uPXUnR2F1c3NpYW4nLCBtYXg9MjA0MC4wLCBzdHlsZT1Qcm9ncmVzc1N0eWxlKGRlc2NyaXB0aW9uX3figKY=\n"
      ]
     },
     "metadata": {},
     "output_type": "display_data"
    },
    {
     "name": "stdout",
     "output_type": "stream",
     "text": [
      "\n"
     ]
    },
    {
     "data": {
      "application/vnd.jupyter.widget-view+json": {
       "model_id": "7478922661cf49dea86694e9893d30d3",
       "version_major": 2,
       "version_minor": 0
      },
      "text/plain": [
       "SEJveChjaGlsZHJlbj0oRmxvYXRQcm9ncmVzcyh2YWx1ZT0wLjAsIGRlc2NyaXB0aW9uPXUnR2F1c3NpYW4nLCBtYXg9MjA0MC4wLCBzdHlsZT1Qcm9ncmVzc1N0eWxlKGRlc2NyaXB0aW9uX3figKY=\n"
      ]
     },
     "metadata": {},
     "output_type": "display_data"
    },
    {
     "name": "stdout",
     "output_type": "stream",
     "text": [
      "\n"
     ]
    },
    {
     "data": {
      "application/vnd.jupyter.widget-view+json": {
       "model_id": "996bfa7a88344d5d88693e5b78a43c15",
       "version_major": 2,
       "version_minor": 0
      },
      "text/plain": [
       "SEJveChjaGlsZHJlbj0oRmxvYXRQcm9ncmVzcyh2YWx1ZT0wLjAsIGRlc2NyaXB0aW9uPXUnR2F1c3NpYW4nLCBtYXg9MjA0MC4wLCBzdHlsZT1Qcm9ncmVzc1N0eWxlKGRlc2NyaXB0aW9uX3figKY=\n"
      ]
     },
     "metadata": {},
     "output_type": "display_data"
    },
    {
     "name": "stdout",
     "output_type": "stream",
     "text": [
      "\n",
      "\n"
     ]
    },
    {
     "data": {
      "application/vnd.jupyter.widget-view+json": {
       "model_id": "b47554bfbe8648a7b9737ebeefcbeb42",
       "version_major": 2,
       "version_minor": 0
      },
      "text/plain": [
       "SEJveChjaGlsZHJlbj0oRmxvYXRQcm9ncmVzcyh2YWx1ZT0wLjAsIGRlc2NyaXB0aW9uPXUnSW1hZ2UgRmVhdHVyZXMnLCBtYXg9ODEuMCwgc3R5bGU9UHJvZ3Jlc3NTdHlsZShkZXNjcmlwdGnigKY=\n"
      ]
     },
     "metadata": {},
     "output_type": "display_data"
    },
    {
     "name": "stdout",
     "output_type": "stream",
     "text": [
      "\n"
     ]
    },
    {
     "data": {
      "application/vnd.jupyter.widget-view+json": {
       "model_id": "cf083b4adc8448f9b636079f365d3592",
       "version_major": 2,
       "version_minor": 0
      },
      "text/plain": [
       "SEJveChjaGlsZHJlbj0oRmxvYXRQcm9ncmVzcyh2YWx1ZT0wLjAsIGRlc2NyaXB0aW9uPXUnYyBWYWx1ZXMnLCBtYXg9My4wLCBzdHlsZT1Qcm9ncmVzc1N0eWxlKGRlc2NyaXB0aW9uX3dpZHTigKY=\n"
      ]
     },
     "metadata": {},
     "output_type": "display_data"
    },
    {
     "data": {
      "application/vnd.jupyter.widget-view+json": {
       "model_id": "f78e700635584f29bff43c49ececb23c",
       "version_major": 2,
       "version_minor": 0
      },
      "text/plain": [
       "SEJveChjaGlsZHJlbj0oRmxvYXRQcm9ncmVzcyh2YWx1ZT0wLjAsIGRlc2NyaXB0aW9uPXUnR2F1c3NpYW4nLCBtYXg9MTc4NS4wLCBzdHlsZT1Qcm9ncmVzc1N0eWxlKGRlc2NyaXB0aW9uX3figKY=\n"
      ]
     },
     "metadata": {},
     "output_type": "display_data"
    },
    {
     "name": "stdout",
     "output_type": "stream",
     "text": [
      "\n"
     ]
    },
    {
     "data": {
      "application/vnd.jupyter.widget-view+json": {
       "model_id": "b48ef541454643eeac5a5adca332d392",
       "version_major": 2,
       "version_minor": 0
      },
      "text/plain": [
       "SEJveChjaGlsZHJlbj0oRmxvYXRQcm9ncmVzcyh2YWx1ZT0wLjAsIGRlc2NyaXB0aW9uPXUnR2F1c3NpYW4nLCBtYXg9MTc4NS4wLCBzdHlsZT1Qcm9ncmVzc1N0eWxlKGRlc2NyaXB0aW9uX3figKY=\n"
      ]
     },
     "metadata": {},
     "output_type": "display_data"
    },
    {
     "name": "stdout",
     "output_type": "stream",
     "text": [
      "\n"
     ]
    },
    {
     "data": {
      "application/vnd.jupyter.widget-view+json": {
       "model_id": "d02e1e2f27f248e4af05677c3680f361",
       "version_major": 2,
       "version_minor": 0
      },
      "text/plain": [
       "SEJveChjaGlsZHJlbj0oRmxvYXRQcm9ncmVzcyh2YWx1ZT0wLjAsIGRlc2NyaXB0aW9uPXUnR2F1c3NpYW4nLCBtYXg9MTc4NS4wLCBzdHlsZT1Qcm9ncmVzc1N0eWxlKGRlc2NyaXB0aW9uX3figKY=\n"
      ]
     },
     "metadata": {},
     "output_type": "display_data"
    },
    {
     "name": "stdout",
     "output_type": "stream",
     "text": [
      "\n",
      "\n"
     ]
    },
    {
     "data": {
      "application/vnd.jupyter.widget-view+json": {
       "model_id": "139278b95f1046d19c217aab828a8a8b",
       "version_major": 2,
       "version_minor": 0
      },
      "text/plain": [
       "SEJveChjaGlsZHJlbj0oRmxvYXRQcm9ncmVzcyh2YWx1ZT0wLjAsIGRlc2NyaXB0aW9uPXUnSW1hZ2UgRmVhdHVyZXMnLCBtYXg9ODEuMCwgc3R5bGU9UHJvZ3Jlc3NTdHlsZShkZXNjcmlwdGnigKY=\n"
      ]
     },
     "metadata": {},
     "output_type": "display_data"
    },
    {
     "name": "stdout",
     "output_type": "stream",
     "text": [
      "\n"
     ]
    },
    {
     "data": {
      "application/vnd.jupyter.widget-view+json": {
       "model_id": "d14eebbfc75f46b283e796ee88a4d237",
       "version_major": 2,
       "version_minor": 0
      },
      "text/plain": [
       "SEJveChjaGlsZHJlbj0oRmxvYXRQcm9ncmVzcyh2YWx1ZT0wLjAsIGRlc2NyaXB0aW9uPXUnYyBWYWx1ZXMnLCBtYXg9My4wLCBzdHlsZT1Qcm9ncmVzc1N0eWxlKGRlc2NyaXB0aW9uX3dpZHTigKY=\n"
      ]
     },
     "metadata": {},
     "output_type": "display_data"
    },
    {
     "data": {
      "application/vnd.jupyter.widget-view+json": {
       "model_id": "f3b7d905bd074528b1bc0c78e16317e0",
       "version_major": 2,
       "version_minor": 0
      },
      "text/plain": [
       "SEJveChjaGlsZHJlbj0oRmxvYXRQcm9ncmVzcyh2YWx1ZT0wLjAsIGRlc2NyaXB0aW9uPXUnR2F1c3NpYW4nLCBtYXg9MTUzMC4wLCBzdHlsZT1Qcm9ncmVzc1N0eWxlKGRlc2NyaXB0aW9uX3figKY=\n"
      ]
     },
     "metadata": {},
     "output_type": "display_data"
    },
    {
     "name": "stdout",
     "output_type": "stream",
     "text": [
      "\n"
     ]
    },
    {
     "data": {
      "application/vnd.jupyter.widget-view+json": {
       "model_id": "d8470ba02cc54998ba99a60c6ef98d4a",
       "version_major": 2,
       "version_minor": 0
      },
      "text/plain": [
       "SEJveChjaGlsZHJlbj0oRmxvYXRQcm9ncmVzcyh2YWx1ZT0wLjAsIGRlc2NyaXB0aW9uPXUnR2F1c3NpYW4nLCBtYXg9MTUzMC4wLCBzdHlsZT1Qcm9ncmVzc1N0eWxlKGRlc2NyaXB0aW9uX3figKY=\n"
      ]
     },
     "metadata": {},
     "output_type": "display_data"
    },
    {
     "name": "stdout",
     "output_type": "stream",
     "text": [
      "\n"
     ]
    },
    {
     "data": {
      "application/vnd.jupyter.widget-view+json": {
       "model_id": "86e5291feee4401e9e1cd39478d379e3",
       "version_major": 2,
       "version_minor": 0
      },
      "text/plain": [
       "SEJveChjaGlsZHJlbj0oRmxvYXRQcm9ncmVzcyh2YWx1ZT0wLjAsIGRlc2NyaXB0aW9uPXUnR2F1c3NpYW4nLCBtYXg9MTUzMC4wLCBzdHlsZT1Qcm9ncmVzc1N0eWxlKGRlc2NyaXB0aW9uX3figKY=\n"
      ]
     },
     "metadata": {},
     "output_type": "display_data"
    },
    {
     "name": "stdout",
     "output_type": "stream",
     "text": [
      "\n",
      "\n",
      "\n"
     ]
    },
    {
     "data": {
      "application/vnd.jupyter.widget-view+json": {
       "model_id": "d2cbc2dd57614818a973fb8dee86f5df",
       "version_major": 2,
       "version_minor": 0
      },
      "text/plain": [
       "SEJveChjaGlsZHJlbj0oRmxvYXRQcm9ncmVzcyh2YWx1ZT0wLjAsIGRlc2NyaXB0aW9uPXUnTWVhc3VyZW1lbnQgJScsIG1heD02LjAsIHN0eWxlPVByb2dyZXNzU3R5bGUoZGVzY3JpcHRpb27igKY=\n"
      ]
     },
     "metadata": {},
     "output_type": "display_data"
    },
    {
     "data": {
      "application/vnd.jupyter.widget-view+json": {
       "model_id": "89044f7c571e40bca78a7bc175640e33",
       "version_major": 2,
       "version_minor": 0
      },
      "text/plain": [
       "SEJveChjaGlsZHJlbj0oRmxvYXRQcm9ncmVzcyh2YWx1ZT0wLjAsIGRlc2NyaXB0aW9uPXUnSW1hZ2UgRmVhdHVyZXMnLCBtYXg9ODEuMCwgc3R5bGU9UHJvZ3Jlc3NTdHlsZShkZXNjcmlwdGnigKY=\n"
      ]
     },
     "metadata": {},
     "output_type": "display_data"
    },
    {
     "name": "stdout",
     "output_type": "stream",
     "text": [
      "\n"
     ]
    },
    {
     "data": {
      "application/vnd.jupyter.widget-view+json": {
       "model_id": "e7929a81ac8e419b97046b9354a37f6e",
       "version_major": 2,
       "version_minor": 0
      },
      "text/plain": [
       "SEJveChjaGlsZHJlbj0oRmxvYXRQcm9ncmVzcyh2YWx1ZT0wLjAsIGRlc2NyaXB0aW9uPXUnYyBWYWx1ZXMnLCBtYXg9My4wLCBzdHlsZT1Qcm9ncmVzc1N0eWxlKGRlc2NyaXB0aW9uX3dpZHTigKY=\n"
      ]
     },
     "metadata": {},
     "output_type": "display_data"
    },
    {
     "data": {
      "application/vnd.jupyter.widget-view+json": {
       "model_id": "8004daac22994b469e20094e02b4c4f3",
       "version_major": 2,
       "version_minor": 0
      },
      "text/plain": [
       "SEJveChjaGlsZHJlbj0oRmxvYXRQcm9ncmVzcyh2YWx1ZT0wLjAsIGRlc2NyaXB0aW9uPXUnR2F1c3NpYW4nLCBtYXg9MzE2OC4wLCBzdHlsZT1Qcm9ncmVzc1N0eWxlKGRlc2NyaXB0aW9uX3figKY=\n"
      ]
     },
     "metadata": {},
     "output_type": "display_data"
    },
    {
     "name": "stdout",
     "output_type": "stream",
     "text": [
      "\n"
     ]
    },
    {
     "data": {
      "application/vnd.jupyter.widget-view+json": {
       "model_id": "9a3679ef6f2540bb9dcff599ade06de0",
       "version_major": 2,
       "version_minor": 0
      },
      "text/plain": [
       "SEJveChjaGlsZHJlbj0oRmxvYXRQcm9ncmVzcyh2YWx1ZT0wLjAsIGRlc2NyaXB0aW9uPXUnR2F1c3NpYW4nLCBtYXg9MzE2OC4wLCBzdHlsZT1Qcm9ncmVzc1N0eWxlKGRlc2NyaXB0aW9uX3figKY=\n"
      ]
     },
     "metadata": {},
     "output_type": "display_data"
    },
    {
     "name": "stdout",
     "output_type": "stream",
     "text": [
      "\n"
     ]
    },
    {
     "data": {
      "application/vnd.jupyter.widget-view+json": {
       "model_id": "3df7a9dffd984ba29c6dd1e15ffe5e84",
       "version_major": 2,
       "version_minor": 0
      },
      "text/plain": [
       "SEJveChjaGlsZHJlbj0oRmxvYXRQcm9ncmVzcyh2YWx1ZT0wLjAsIGRlc2NyaXB0aW9uPXUnR2F1c3NpYW4nLCBtYXg9MzE2OC4wLCBzdHlsZT1Qcm9ncmVzc1N0eWxlKGRlc2NyaXB0aW9uX3figKY=\n"
      ]
     },
     "metadata": {},
     "output_type": "display_data"
    },
    {
     "name": "stdout",
     "output_type": "stream",
     "text": [
      "\n",
      "\n"
     ]
    },
    {
     "data": {
      "application/vnd.jupyter.widget-view+json": {
       "model_id": "5c4e7990501d486685aa98dcc6c83080",
       "version_major": 2,
       "version_minor": 0
      },
      "text/plain": [
       "SEJveChjaGlsZHJlbj0oRmxvYXRQcm9ncmVzcyh2YWx1ZT0wLjAsIGRlc2NyaXB0aW9uPXUnSW1hZ2UgRmVhdHVyZXMnLCBtYXg9ODEuMCwgc3R5bGU9UHJvZ3Jlc3NTdHlsZShkZXNjcmlwdGnigKY=\n"
      ]
     },
     "metadata": {},
     "output_type": "display_data"
    },
    {
     "name": "stdout",
     "output_type": "stream",
     "text": [
      "\n"
     ]
    },
    {
     "data": {
      "application/vnd.jupyter.widget-view+json": {
       "model_id": "b0cbe7dd91b1487d988b2dce141309ba",
       "version_major": 2,
       "version_minor": 0
      },
      "text/plain": [
       "SEJveChjaGlsZHJlbj0oRmxvYXRQcm9ncmVzcyh2YWx1ZT0wLjAsIGRlc2NyaXB0aW9uPXUnYyBWYWx1ZXMnLCBtYXg9My4wLCBzdHlsZT1Qcm9ncmVzc1N0eWxlKGRlc2NyaXB0aW9uX3dpZHTigKY=\n"
      ]
     },
     "metadata": {},
     "output_type": "display_data"
    },
    {
     "data": {
      "application/vnd.jupyter.widget-view+json": {
       "model_id": "a0ea03e60b844d63b721c39f0160e20c",
       "version_major": 2,
       "version_minor": 0
      },
      "text/plain": [
       "SEJveChjaGlsZHJlbj0oRmxvYXRQcm9ncmVzcyh2YWx1ZT0wLjAsIGRlc2NyaXB0aW9uPXUnR2F1c3NpYW4nLCBtYXg9MzA0MC4wLCBzdHlsZT1Qcm9ncmVzc1N0eWxlKGRlc2NyaXB0aW9uX3figKY=\n"
      ]
     },
     "metadata": {},
     "output_type": "display_data"
    },
    {
     "name": "stdout",
     "output_type": "stream",
     "text": [
      "\n"
     ]
    },
    {
     "data": {
      "application/vnd.jupyter.widget-view+json": {
       "model_id": "9d1e31a222434c979251d558bd1a83f0",
       "version_major": 2,
       "version_minor": 0
      },
      "text/plain": [
       "SEJveChjaGlsZHJlbj0oRmxvYXRQcm9ncmVzcyh2YWx1ZT0wLjAsIGRlc2NyaXB0aW9uPXUnR2F1c3NpYW4nLCBtYXg9MzA0MC4wLCBzdHlsZT1Qcm9ncmVzc1N0eWxlKGRlc2NyaXB0aW9uX3figKY=\n"
      ]
     },
     "metadata": {},
     "output_type": "display_data"
    },
    {
     "name": "stdout",
     "output_type": "stream",
     "text": [
      "\n"
     ]
    },
    {
     "data": {
      "application/vnd.jupyter.widget-view+json": {
       "model_id": "feed01e51438450baf2a5caeac761a3c",
       "version_major": 2,
       "version_minor": 0
      },
      "text/plain": [
       "SEJveChjaGlsZHJlbj0oRmxvYXRQcm9ncmVzcyh2YWx1ZT0wLjAsIGRlc2NyaXB0aW9uPXUnR2F1c3NpYW4nLCBtYXg9MzA0MC4wLCBzdHlsZT1Qcm9ncmVzc1N0eWxlKGRlc2NyaXB0aW9uX3figKY=\n"
      ]
     },
     "metadata": {},
     "output_type": "display_data"
    },
    {
     "name": "stdout",
     "output_type": "stream",
     "text": [
      "\n",
      "\n"
     ]
    },
    {
     "data": {
      "application/vnd.jupyter.widget-view+json": {
       "model_id": "eaacaa4d11804cd4badd5e2a10084ca2",
       "version_major": 2,
       "version_minor": 0
      },
      "text/plain": [
       "SEJveChjaGlsZHJlbj0oRmxvYXRQcm9ncmVzcyh2YWx1ZT0wLjAsIGRlc2NyaXB0aW9uPXUnSW1hZ2UgRmVhdHVyZXMnLCBtYXg9ODEuMCwgc3R5bGU9UHJvZ3Jlc3NTdHlsZShkZXNjcmlwdGnigKY=\n"
      ]
     },
     "metadata": {},
     "output_type": "display_data"
    },
    {
     "name": "stdout",
     "output_type": "stream",
     "text": [
      "\n"
     ]
    },
    {
     "data": {
      "application/vnd.jupyter.widget-view+json": {
       "model_id": "71e662a20c6e47e2a33ee002f2df620f",
       "version_major": 2,
       "version_minor": 0
      },
      "text/plain": [
       "SEJveChjaGlsZHJlbj0oRmxvYXRQcm9ncmVzcyh2YWx1ZT0wLjAsIGRlc2NyaXB0aW9uPXUnYyBWYWx1ZXMnLCBtYXg9My4wLCBzdHlsZT1Qcm9ncmVzc1N0eWxlKGRlc2NyaXB0aW9uX3dpZHTigKY=\n"
      ]
     },
     "metadata": {},
     "output_type": "display_data"
    },
    {
     "data": {
      "application/vnd.jupyter.widget-view+json": {
       "model_id": "64dbf49eabff4e778ca6175c9959a960",
       "version_major": 2,
       "version_minor": 0
      },
      "text/plain": [
       "SEJveChjaGlsZHJlbj0oRmxvYXRQcm9ncmVzcyh2YWx1ZT0wLjAsIGRlc2NyaXB0aW9uPXUnR2F1c3NpYW4nLCBtYXg9Mjg4MC4wLCBzdHlsZT1Qcm9ncmVzc1N0eWxlKGRlc2NyaXB0aW9uX3figKY=\n"
      ]
     },
     "metadata": {},
     "output_type": "display_data"
    },
    {
     "name": "stdout",
     "output_type": "stream",
     "text": [
      "\n"
     ]
    },
    {
     "data": {
      "application/vnd.jupyter.widget-view+json": {
       "model_id": "eba44d1fe2064baeaec0e61aa82763c1",
       "version_major": 2,
       "version_minor": 0
      },
      "text/plain": [
       "SEJveChjaGlsZHJlbj0oRmxvYXRQcm9ncmVzcyh2YWx1ZT0wLjAsIGRlc2NyaXB0aW9uPXUnR2F1c3NpYW4nLCBtYXg9Mjg4MC4wLCBzdHlsZT1Qcm9ncmVzc1N0eWxlKGRlc2NyaXB0aW9uX3figKY=\n"
      ]
     },
     "metadata": {},
     "output_type": "display_data"
    },
    {
     "name": "stdout",
     "output_type": "stream",
     "text": [
      "\n"
     ]
    },
    {
     "data": {
      "application/vnd.jupyter.widget-view+json": {
       "model_id": "4deb3a9911044bba985607063d1230eb",
       "version_major": 2,
       "version_minor": 0
      },
      "text/plain": [
       "SEJveChjaGlsZHJlbj0oRmxvYXRQcm9ncmVzcyh2YWx1ZT0wLjAsIGRlc2NyaXB0aW9uPXUnR2F1c3NpYW4nLCBtYXg9Mjg4MC4wLCBzdHlsZT1Qcm9ncmVzc1N0eWxlKGRlc2NyaXB0aW9uX3figKY=\n"
      ]
     },
     "metadata": {},
     "output_type": "display_data"
    },
    {
     "name": "stdout",
     "output_type": "stream",
     "text": [
      "\n",
      "\n"
     ]
    },
    {
     "data": {
      "application/vnd.jupyter.widget-view+json": {
       "model_id": "bcc29e266bf348d5a9c92c118b0bcd10",
       "version_major": 2,
       "version_minor": 0
      },
      "text/plain": [
       "SEJveChjaGlsZHJlbj0oRmxvYXRQcm9ncmVzcyh2YWx1ZT0wLjAsIGRlc2NyaXB0aW9uPXUnSW1hZ2UgRmVhdHVyZXMnLCBtYXg9ODEuMCwgc3R5bGU9UHJvZ3Jlc3NTdHlsZShkZXNjcmlwdGnigKY=\n"
      ]
     },
     "metadata": {},
     "output_type": "display_data"
    },
    {
     "name": "stdout",
     "output_type": "stream",
     "text": [
      "\n"
     ]
    },
    {
     "data": {
      "application/vnd.jupyter.widget-view+json": {
       "model_id": "30475e40deb24945ba1bb8bea04449a2",
       "version_major": 2,
       "version_minor": 0
      },
      "text/plain": [
       "SEJveChjaGlsZHJlbj0oRmxvYXRQcm9ncmVzcyh2YWx1ZT0wLjAsIGRlc2NyaXB0aW9uPXUnYyBWYWx1ZXMnLCBtYXg9My4wLCBzdHlsZT1Qcm9ncmVzc1N0eWxlKGRlc2NyaXB0aW9uX3dpZHTigKY=\n"
      ]
     },
     "metadata": {},
     "output_type": "display_data"
    },
    {
     "data": {
      "application/vnd.jupyter.widget-view+json": {
       "model_id": "046daba3e21c46c28985c3c054326729",
       "version_major": 2,
       "version_minor": 0
      },
      "text/plain": [
       "SEJveChjaGlsZHJlbj0oRmxvYXRQcm9ncmVzcyh2YWx1ZT0wLjAsIGRlc2NyaXB0aW9uPXUnR2F1c3NpYW4nLCBtYXg9MjU2MC4wLCBzdHlsZT1Qcm9ncmVzc1N0eWxlKGRlc2NyaXB0aW9uX3figKY=\n"
      ]
     },
     "metadata": {},
     "output_type": "display_data"
    },
    {
     "name": "stdout",
     "output_type": "stream",
     "text": [
      "\n"
     ]
    },
    {
     "data": {
      "application/vnd.jupyter.widget-view+json": {
       "model_id": "97c93f9643b54fa9aea0173eb4a7c36e",
       "version_major": 2,
       "version_minor": 0
      },
      "text/plain": [
       "SEJveChjaGlsZHJlbj0oRmxvYXRQcm9ncmVzcyh2YWx1ZT0wLjAsIGRlc2NyaXB0aW9uPXUnR2F1c3NpYW4nLCBtYXg9MjU2MC4wLCBzdHlsZT1Qcm9ncmVzc1N0eWxlKGRlc2NyaXB0aW9uX3figKY=\n"
      ]
     },
     "metadata": {},
     "output_type": "display_data"
    },
    {
     "name": "stdout",
     "output_type": "stream",
     "text": [
      "\n"
     ]
    },
    {
     "data": {
      "application/vnd.jupyter.widget-view+json": {
       "model_id": "6ec53f228fa14d7d89f5ffd3e3f6660c",
       "version_major": 2,
       "version_minor": 0
      },
      "text/plain": [
       "SEJveChjaGlsZHJlbj0oRmxvYXRQcm9ncmVzcyh2YWx1ZT0wLjAsIGRlc2NyaXB0aW9uPXUnR2F1c3NpYW4nLCBtYXg9MjU2MC4wLCBzdHlsZT1Qcm9ncmVzc1N0eWxlKGRlc2NyaXB0aW9uX3figKY=\n"
      ]
     },
     "metadata": {},
     "output_type": "display_data"
    },
    {
     "name": "stdout",
     "output_type": "stream",
     "text": [
      "\n",
      "\n"
     ]
    },
    {
     "data": {
      "application/vnd.jupyter.widget-view+json": {
       "model_id": "be0987f2564347c29521d7bf1ca97173",
       "version_major": 2,
       "version_minor": 0
      },
      "text/plain": [
       "SEJveChjaGlsZHJlbj0oRmxvYXRQcm9ncmVzcyh2YWx1ZT0wLjAsIGRlc2NyaXB0aW9uPXUnSW1hZ2UgRmVhdHVyZXMnLCBtYXg9ODEuMCwgc3R5bGU9UHJvZ3Jlc3NTdHlsZShkZXNjcmlwdGnigKY=\n"
      ]
     },
     "metadata": {},
     "output_type": "display_data"
    },
    {
     "name": "stdout",
     "output_type": "stream",
     "text": [
      "\n"
     ]
    },
    {
     "data": {
      "application/vnd.jupyter.widget-view+json": {
       "model_id": "c1b0f6c29018463c9b60c056a22213ae",
       "version_major": 2,
       "version_minor": 0
      },
      "text/plain": [
       "SEJveChjaGlsZHJlbj0oRmxvYXRQcm9ncmVzcyh2YWx1ZT0wLjAsIGRlc2NyaXB0aW9uPXUnYyBWYWx1ZXMnLCBtYXg9My4wLCBzdHlsZT1Qcm9ncmVzc1N0eWxlKGRlc2NyaXB0aW9uX3dpZHTigKY=\n"
      ]
     },
     "metadata": {},
     "output_type": "display_data"
    },
    {
     "data": {
      "application/vnd.jupyter.widget-view+json": {
       "model_id": "4d22df17d7614fbfb2d6b9fd8412130d",
       "version_major": 2,
       "version_minor": 0
      },
      "text/plain": [
       "SEJveChjaGlsZHJlbj0oRmxvYXRQcm9ncmVzcyh2YWx1ZT0wLjAsIGRlc2NyaXB0aW9uPXUnR2F1c3NpYW4nLCBtYXg9MjI0MC4wLCBzdHlsZT1Qcm9ncmVzc1N0eWxlKGRlc2NyaXB0aW9uX3figKY=\n"
      ]
     },
     "metadata": {},
     "output_type": "display_data"
    },
    {
     "name": "stdout",
     "output_type": "stream",
     "text": [
      "\n"
     ]
    },
    {
     "data": {
      "application/vnd.jupyter.widget-view+json": {
       "model_id": "c6001637dd2a47c4a802538e808e5809",
       "version_major": 2,
       "version_minor": 0
      },
      "text/plain": [
       "SEJveChjaGlsZHJlbj0oRmxvYXRQcm9ncmVzcyh2YWx1ZT0wLjAsIGRlc2NyaXB0aW9uPXUnR2F1c3NpYW4nLCBtYXg9MjI0MC4wLCBzdHlsZT1Qcm9ncmVzc1N0eWxlKGRlc2NyaXB0aW9uX3figKY=\n"
      ]
     },
     "metadata": {},
     "output_type": "display_data"
    },
    {
     "name": "stdout",
     "output_type": "stream",
     "text": [
      "\n"
     ]
    },
    {
     "data": {
      "application/vnd.jupyter.widget-view+json": {
       "model_id": "f93f10c2d0104e4294c620e9625bea8c",
       "version_major": 2,
       "version_minor": 0
      },
      "text/plain": [
       "SEJveChjaGlsZHJlbj0oRmxvYXRQcm9ncmVzcyh2YWx1ZT0wLjAsIGRlc2NyaXB0aW9uPXUnR2F1c3NpYW4nLCBtYXg9MjI0MC4wLCBzdHlsZT1Qcm9ncmVzc1N0eWxlKGRlc2NyaXB0aW9uX3figKY=\n"
      ]
     },
     "metadata": {},
     "output_type": "display_data"
    },
    {
     "name": "stdout",
     "output_type": "stream",
     "text": [
      "\n",
      "\n"
     ]
    },
    {
     "data": {
      "application/vnd.jupyter.widget-view+json": {
       "model_id": "f2cffc7698be4eefb9b09b91dc57d190",
       "version_major": 2,
       "version_minor": 0
      },
      "text/plain": [
       "SEJveChjaGlsZHJlbj0oRmxvYXRQcm9ncmVzcyh2YWx1ZT0wLjAsIGRlc2NyaXB0aW9uPXUnSW1hZ2UgRmVhdHVyZXMnLCBtYXg9ODEuMCwgc3R5bGU9UHJvZ3Jlc3NTdHlsZShkZXNjcmlwdGnigKY=\n"
      ]
     },
     "metadata": {},
     "output_type": "display_data"
    },
    {
     "name": "stdout",
     "output_type": "stream",
     "text": [
      "\n"
     ]
    },
    {
     "data": {
      "application/vnd.jupyter.widget-view+json": {
       "model_id": "e89cbada26a3493794e705c1671b8e3c",
       "version_major": 2,
       "version_minor": 0
      },
      "text/plain": [
       "SEJveChjaGlsZHJlbj0oRmxvYXRQcm9ncmVzcyh2YWx1ZT0wLjAsIGRlc2NyaXB0aW9uPXUnYyBWYWx1ZXMnLCBtYXg9My4wLCBzdHlsZT1Qcm9ncmVzc1N0eWxlKGRlc2NyaXB0aW9uX3dpZHTigKY=\n"
      ]
     },
     "metadata": {},
     "output_type": "display_data"
    },
    {
     "data": {
      "application/vnd.jupyter.widget-view+json": {
       "model_id": "27fb8ec61a774a97ba1ed97131ade513",
       "version_major": 2,
       "version_minor": 0
      },
      "text/plain": [
       "SEJveChjaGlsZHJlbj0oRmxvYXRQcm9ncmVzcyh2YWx1ZT0wLjAsIGRlc2NyaXB0aW9uPXUnR2F1c3NpYW4nLCBtYXg9MTkyMC4wLCBzdHlsZT1Qcm9ncmVzc1N0eWxlKGRlc2NyaXB0aW9uX3figKY=\n"
      ]
     },
     "metadata": {},
     "output_type": "display_data"
    },
    {
     "name": "stdout",
     "output_type": "stream",
     "text": [
      "\n"
     ]
    },
    {
     "data": {
      "application/vnd.jupyter.widget-view+json": {
       "model_id": "5997aaf4c3274d5e9effb6b76cc15e4b",
       "version_major": 2,
       "version_minor": 0
      },
      "text/plain": [
       "SEJveChjaGlsZHJlbj0oRmxvYXRQcm9ncmVzcyh2YWx1ZT0wLjAsIGRlc2NyaXB0aW9uPXUnR2F1c3NpYW4nLCBtYXg9MTkyMC4wLCBzdHlsZT1Qcm9ncmVzc1N0eWxlKGRlc2NyaXB0aW9uX3figKY=\n"
      ]
     },
     "metadata": {},
     "output_type": "display_data"
    },
    {
     "name": "stdout",
     "output_type": "stream",
     "text": [
      "\n"
     ]
    },
    {
     "data": {
      "application/vnd.jupyter.widget-view+json": {
       "model_id": "a9a46089d84a469cb595947602a3eb44",
       "version_major": 2,
       "version_minor": 0
      },
      "text/plain": [
       "SEJveChjaGlsZHJlbj0oRmxvYXRQcm9ncmVzcyh2YWx1ZT0wLjAsIGRlc2NyaXB0aW9uPXUnR2F1c3NpYW4nLCBtYXg9MTkyMC4wLCBzdHlsZT1Qcm9ncmVzc1N0eWxlKGRlc2NyaXB0aW9uX3figKY=\n"
      ]
     },
     "metadata": {},
     "output_type": "display_data"
    },
    {
     "name": "stdout",
     "output_type": "stream",
     "text": [
      "\n",
      "\n",
      "\n"
     ]
    },
    {
     "data": {
      "application/vnd.jupyter.widget-view+json": {
       "model_id": "5e72d2fdfc2c4431a95ef8a988838976",
       "version_major": 2,
       "version_minor": 0
      },
      "text/plain": [
       "SEJveChjaGlsZHJlbj0oRmxvYXRQcm9ncmVzcyh2YWx1ZT0wLjAsIGRlc2NyaXB0aW9uPXUnTWVhc3VyZW1lbnQgJScsIG1heD02LjAsIHN0eWxlPVByb2dyZXNzU3R5bGUoZGVzY3JpcHRpb27igKY=\n"
      ]
     },
     "metadata": {},
     "output_type": "display_data"
    },
    {
     "data": {
      "application/vnd.jupyter.widget-view+json": {
       "model_id": "ae63aa22bfd84d2bb9952f606283c178",
       "version_major": 2,
       "version_minor": 0
      },
      "text/plain": [
       "SEJveChjaGlsZHJlbj0oRmxvYXRQcm9ncmVzcyh2YWx1ZT0wLjAsIGRlc2NyaXB0aW9uPXUnSW1hZ2UgRmVhdHVyZXMnLCBtYXg9ODEuMCwgc3R5bGU9UHJvZ3Jlc3NTdHlsZShkZXNjcmlwdGnigKY=\n"
      ]
     },
     "metadata": {},
     "output_type": "display_data"
    },
    {
     "name": "stdout",
     "output_type": "stream",
     "text": [
      "\n"
     ]
    },
    {
     "data": {
      "application/vnd.jupyter.widget-view+json": {
       "model_id": "8747d2e146454c88bc215ff8e3c9ad8a",
       "version_major": 2,
       "version_minor": 0
      },
      "text/plain": [
       "SEJveChjaGlsZHJlbj0oRmxvYXRQcm9ncmVzcyh2YWx1ZT0wLjAsIGRlc2NyaXB0aW9uPXUnYyBWYWx1ZXMnLCBtYXg9My4wLCBzdHlsZT1Qcm9ncmVzc1N0eWxlKGRlc2NyaXB0aW9uX3dpZHTigKY=\n"
      ]
     },
     "metadata": {},
     "output_type": "display_data"
    },
    {
     "data": {
      "application/vnd.jupyter.widget-view+json": {
       "model_id": "62247793b2764f5aa9284a3409125e51",
       "version_major": 2,
       "version_minor": 0
      },
      "text/plain": [
       "SEJveChjaGlsZHJlbj0oRmxvYXRQcm9ncmVzcyh2YWx1ZT0wLjAsIGRlc2NyaXB0aW9uPXUnR2F1c3NpYW4nLCBtYXg9MzQxNS4wLCBzdHlsZT1Qcm9ncmVzc1N0eWxlKGRlc2NyaXB0aW9uX3figKY=\n"
      ]
     },
     "metadata": {},
     "output_type": "display_data"
    },
    {
     "name": "stdout",
     "output_type": "stream",
     "text": [
      "\n"
     ]
    },
    {
     "data": {
      "application/vnd.jupyter.widget-view+json": {
       "model_id": "c9041bd48a2f4d7ea247847c007964e1",
       "version_major": 2,
       "version_minor": 0
      },
      "text/plain": [
       "SEJveChjaGlsZHJlbj0oRmxvYXRQcm9ncmVzcyh2YWx1ZT0wLjAsIGRlc2NyaXB0aW9uPXUnR2F1c3NpYW4nLCBtYXg9MzQxNS4wLCBzdHlsZT1Qcm9ncmVzc1N0eWxlKGRlc2NyaXB0aW9uX3figKY=\n"
      ]
     },
     "metadata": {},
     "output_type": "display_data"
    },
    {
     "name": "stdout",
     "output_type": "stream",
     "text": [
      "\n"
     ]
    },
    {
     "data": {
      "application/vnd.jupyter.widget-view+json": {
       "model_id": "f8c78b7b7e33470ea0714b73ef185873",
       "version_major": 2,
       "version_minor": 0
      },
      "text/plain": [
       "SEJveChjaGlsZHJlbj0oRmxvYXRQcm9ncmVzcyh2YWx1ZT0wLjAsIGRlc2NyaXB0aW9uPXUnR2F1c3NpYW4nLCBtYXg9MzQxNS4wLCBzdHlsZT1Qcm9ncmVzc1N0eWxlKGRlc2NyaXB0aW9uX3figKY=\n"
      ]
     },
     "metadata": {},
     "output_type": "display_data"
    },
    {
     "name": "stdout",
     "output_type": "stream",
     "text": [
      "\n",
      "\n"
     ]
    },
    {
     "data": {
      "application/vnd.jupyter.widget-view+json": {
       "model_id": "09846310ab3c4477bb713ede9392c72d",
       "version_major": 2,
       "version_minor": 0
      },
      "text/plain": [
       "SEJveChjaGlsZHJlbj0oRmxvYXRQcm9ncmVzcyh2YWx1ZT0wLjAsIGRlc2NyaXB0aW9uPXUnSW1hZ2UgRmVhdHVyZXMnLCBtYXg9ODEuMCwgc3R5bGU9UHJvZ3Jlc3NTdHlsZShkZXNjcmlwdGnigKY=\n"
      ]
     },
     "metadata": {},
     "output_type": "display_data"
    },
    {
     "name": "stdout",
     "output_type": "stream",
     "text": [
      "\n"
     ]
    },
    {
     "data": {
      "application/vnd.jupyter.widget-view+json": {
       "model_id": "e1bb02f806694381852dd635ff1389c6",
       "version_major": 2,
       "version_minor": 0
      },
      "text/plain": [
       "SEJveChjaGlsZHJlbj0oRmxvYXRQcm9ncmVzcyh2YWx1ZT0wLjAsIGRlc2NyaXB0aW9uPXUnYyBWYWx1ZXMnLCBtYXg9My4wLCBzdHlsZT1Qcm9ncmVzc1N0eWxlKGRlc2NyaXB0aW9uX3dpZHTigKY=\n"
      ]
     },
     "metadata": {},
     "output_type": "display_data"
    },
    {
     "data": {
      "application/vnd.jupyter.widget-view+json": {
       "model_id": "bf389756b4444865832dcc2b24ce3625",
       "version_major": 2,
       "version_minor": 0
      },
      "text/plain": [
       "SEJveChjaGlsZHJlbj0oRmxvYXRQcm9ncmVzcyh2YWx1ZT0wLjAsIGRlc2NyaXB0aW9uPXUnR2F1c3NpYW4nLCBtYXg9MzI3Ny4wLCBzdHlsZT1Qcm9ncmVzc1N0eWxlKGRlc2NyaXB0aW9uX3figKY=\n"
      ]
     },
     "metadata": {},
     "output_type": "display_data"
    },
    {
     "name": "stdout",
     "output_type": "stream",
     "text": [
      "\n"
     ]
    },
    {
     "data": {
      "application/vnd.jupyter.widget-view+json": {
       "model_id": "8d0744a3d0be4278a69786f75507f885",
       "version_major": 2,
       "version_minor": 0
      },
      "text/plain": [
       "SEJveChjaGlsZHJlbj0oRmxvYXRQcm9ncmVzcyh2YWx1ZT0wLjAsIGRlc2NyaXB0aW9uPXUnR2F1c3NpYW4nLCBtYXg9MzI3Ny4wLCBzdHlsZT1Qcm9ncmVzc1N0eWxlKGRlc2NyaXB0aW9uX3figKY=\n"
      ]
     },
     "metadata": {},
     "output_type": "display_data"
    },
    {
     "name": "stdout",
     "output_type": "stream",
     "text": [
      "\n"
     ]
    },
    {
     "data": {
      "application/vnd.jupyter.widget-view+json": {
       "model_id": "7306cb7ec189442a9fd714a30e04148f",
       "version_major": 2,
       "version_minor": 0
      },
      "text/plain": [
       "SEJveChjaGlsZHJlbj0oRmxvYXRQcm9ncmVzcyh2YWx1ZT0wLjAsIGRlc2NyaXB0aW9uPXUnR2F1c3NpYW4nLCBtYXg9MzI3Ny4wLCBzdHlsZT1Qcm9ncmVzc1N0eWxlKGRlc2NyaXB0aW9uX3figKY=\n"
      ]
     },
     "metadata": {},
     "output_type": "display_data"
    },
    {
     "name": "stdout",
     "output_type": "stream",
     "text": [
      "\n",
      "\n"
     ]
    },
    {
     "data": {
      "application/vnd.jupyter.widget-view+json": {
       "model_id": "93e2e9a26029457ebbf60ad9fc1f574d",
       "version_major": 2,
       "version_minor": 0
      },
      "text/plain": [
       "SEJveChjaGlsZHJlbj0oRmxvYXRQcm9ncmVzcyh2YWx1ZT0wLjAsIGRlc2NyaXB0aW9uPXUnSW1hZ2UgRmVhdHVyZXMnLCBtYXg9ODEuMCwgc3R5bGU9UHJvZ3Jlc3NTdHlsZShkZXNjcmlwdGnigKY=\n"
      ]
     },
     "metadata": {},
     "output_type": "display_data"
    },
    {
     "name": "stdout",
     "output_type": "stream",
     "text": [
      "\n"
     ]
    },
    {
     "data": {
      "application/vnd.jupyter.widget-view+json": {
       "model_id": "a46b5bc7abaa43989d5ff7a252add171",
       "version_major": 2,
       "version_minor": 0
      },
      "text/plain": [
       "SEJveChjaGlsZHJlbj0oRmxvYXRQcm9ncmVzcyh2YWx1ZT0wLjAsIGRlc2NyaXB0aW9uPXUnYyBWYWx1ZXMnLCBtYXg9My4wLCBzdHlsZT1Qcm9ncmVzc1N0eWxlKGRlc2NyaXB0aW9uX3dpZHTigKY=\n"
      ]
     },
     "metadata": {},
     "output_type": "display_data"
    },
    {
     "data": {
      "application/vnd.jupyter.widget-view+json": {
       "model_id": "d6bddde06b904666a0a02a8c7037950f",
       "version_major": 2,
       "version_minor": 0
      },
      "text/plain": [
       "SEJveChjaGlsZHJlbj0oRmxvYXRQcm9ncmVzcyh2YWx1ZT0wLjAsIGRlc2NyaXB0aW9uPXUnR2F1c3NpYW4nLCBtYXg9MzEwNS4wLCBzdHlsZT1Qcm9ncmVzc1N0eWxlKGRlc2NyaXB0aW9uX3figKY=\n"
      ]
     },
     "metadata": {},
     "output_type": "display_data"
    },
    {
     "name": "stdout",
     "output_type": "stream",
     "text": [
      "\n"
     ]
    },
    {
     "data": {
      "application/vnd.jupyter.widget-view+json": {
       "model_id": "617e560cc1dd4fc896ea63e848e5a0b4",
       "version_major": 2,
       "version_minor": 0
      },
      "text/plain": [
       "SEJveChjaGlsZHJlbj0oRmxvYXRQcm9ncmVzcyh2YWx1ZT0wLjAsIGRlc2NyaXB0aW9uPXUnR2F1c3NpYW4nLCBtYXg9MzEwNS4wLCBzdHlsZT1Qcm9ncmVzc1N0eWxlKGRlc2NyaXB0aW9uX3figKY=\n"
      ]
     },
     "metadata": {},
     "output_type": "display_data"
    },
    {
     "name": "stdout",
     "output_type": "stream",
     "text": [
      "\n"
     ]
    },
    {
     "data": {
      "application/vnd.jupyter.widget-view+json": {
       "model_id": "137ca372e26549b49802f97b2ac8f3ee",
       "version_major": 2,
       "version_minor": 0
      },
      "text/plain": [
       "SEJveChjaGlsZHJlbj0oRmxvYXRQcm9ncmVzcyh2YWx1ZT0wLjAsIGRlc2NyaXB0aW9uPXUnR2F1c3NpYW4nLCBtYXg9MzEwNS4wLCBzdHlsZT1Qcm9ncmVzc1N0eWxlKGRlc2NyaXB0aW9uX3figKY=\n"
      ]
     },
     "metadata": {},
     "output_type": "display_data"
    },
    {
     "name": "stdout",
     "output_type": "stream",
     "text": [
      "\n",
      "\n"
     ]
    },
    {
     "data": {
      "application/vnd.jupyter.widget-view+json": {
       "model_id": "53de4f2717f346f993c99d9a2ea3a591",
       "version_major": 2,
       "version_minor": 0
      },
      "text/plain": [
       "SEJveChjaGlsZHJlbj0oRmxvYXRQcm9ncmVzcyh2YWx1ZT0wLjAsIGRlc2NyaXB0aW9uPXUnSW1hZ2UgRmVhdHVyZXMnLCBtYXg9ODEuMCwgc3R5bGU9UHJvZ3Jlc3NTdHlsZShkZXNjcmlwdGnigKY=\n"
      ]
     },
     "metadata": {},
     "output_type": "display_data"
    },
    {
     "name": "stdout",
     "output_type": "stream",
     "text": [
      "\n"
     ]
    },
    {
     "data": {
      "application/vnd.jupyter.widget-view+json": {
       "model_id": "145e7aa230f54e5aaab1c6c7b55c4796",
       "version_major": 2,
       "version_minor": 0
      },
      "text/plain": [
       "SEJveChjaGlsZHJlbj0oRmxvYXRQcm9ncmVzcyh2YWx1ZT0wLjAsIGRlc2NyaXB0aW9uPXUnYyBWYWx1ZXMnLCBtYXg9My4wLCBzdHlsZT1Qcm9ncmVzc1N0eWxlKGRlc2NyaXB0aW9uX3dpZHTigKY=\n"
      ]
     },
     "metadata": {},
     "output_type": "display_data"
    },
    {
     "data": {
      "application/vnd.jupyter.widget-view+json": {
       "model_id": "cbe428f198114384bb9ae007f7e6ddbd",
       "version_major": 2,
       "version_minor": 0
      },
      "text/plain": [
       "SEJveChjaGlsZHJlbj0oRmxvYXRQcm9ncmVzcyh2YWx1ZT0wLjAsIGRlc2NyaXB0aW9uPXUnR2F1c3NpYW4nLCBtYXg9Mjc2MC4wLCBzdHlsZT1Qcm9ncmVzc1N0eWxlKGRlc2NyaXB0aW9uX3figKY=\n"
      ]
     },
     "metadata": {},
     "output_type": "display_data"
    },
    {
     "name": "stdout",
     "output_type": "stream",
     "text": [
      "\n"
     ]
    },
    {
     "data": {
      "application/vnd.jupyter.widget-view+json": {
       "model_id": "4c1f8c8bf3a24b3f988231fb30883297",
       "version_major": 2,
       "version_minor": 0
      },
      "text/plain": [
       "SEJveChjaGlsZHJlbj0oRmxvYXRQcm9ncmVzcyh2YWx1ZT0wLjAsIGRlc2NyaXB0aW9uPXUnR2F1c3NpYW4nLCBtYXg9Mjc2MC4wLCBzdHlsZT1Qcm9ncmVzc1N0eWxlKGRlc2NyaXB0aW9uX3figKY=\n"
      ]
     },
     "metadata": {},
     "output_type": "display_data"
    },
    {
     "name": "stdout",
     "output_type": "stream",
     "text": [
      "\n"
     ]
    },
    {
     "data": {
      "application/vnd.jupyter.widget-view+json": {
       "model_id": "b34d3f51b6c74cf2b7c177fb159cf267",
       "version_major": 2,
       "version_minor": 0
      },
      "text/plain": [
       "SEJveChjaGlsZHJlbj0oRmxvYXRQcm9ncmVzcyh2YWx1ZT0wLjAsIGRlc2NyaXB0aW9uPXUnR2F1c3NpYW4nLCBtYXg9Mjc2MC4wLCBzdHlsZT1Qcm9ncmVzc1N0eWxlKGRlc2NyaXB0aW9uX3figKY=\n"
      ]
     },
     "metadata": {},
     "output_type": "display_data"
    },
    {
     "name": "stdout",
     "output_type": "stream",
     "text": [
      "\n",
      "\n"
     ]
    },
    {
     "data": {
      "application/vnd.jupyter.widget-view+json": {
       "model_id": "54053f1667ed439782a6039f05315972",
       "version_major": 2,
       "version_minor": 0
      },
      "text/plain": [
       "SEJveChjaGlsZHJlbj0oRmxvYXRQcm9ncmVzcyh2YWx1ZT0wLjAsIGRlc2NyaXB0aW9uPXUnSW1hZ2UgRmVhdHVyZXMnLCBtYXg9ODEuMCwgc3R5bGU9UHJvZ3Jlc3NTdHlsZShkZXNjcmlwdGnigKY=\n"
      ]
     },
     "metadata": {},
     "output_type": "display_data"
    },
    {
     "name": "stdout",
     "output_type": "stream",
     "text": [
      "\n"
     ]
    },
    {
     "data": {
      "application/vnd.jupyter.widget-view+json": {
       "model_id": "2a1d860e883b4fef83c7200507508651",
       "version_major": 2,
       "version_minor": 0
      },
      "text/plain": [
       "SEJveChjaGlsZHJlbj0oRmxvYXRQcm9ncmVzcyh2YWx1ZT0wLjAsIGRlc2NyaXB0aW9uPXUnYyBWYWx1ZXMnLCBtYXg9My4wLCBzdHlsZT1Qcm9ncmVzc1N0eWxlKGRlc2NyaXB0aW9uX3dpZHTigKY=\n"
      ]
     },
     "metadata": {},
     "output_type": "display_data"
    },
    {
     "data": {
      "application/vnd.jupyter.widget-view+json": {
       "model_id": "544c74966eb841fcbda0c6a48e9f1ad6",
       "version_major": 2,
       "version_minor": 0
      },
      "text/plain": [
       "SEJveChjaGlsZHJlbj0oRmxvYXRQcm9ncmVzcyh2YWx1ZT0wLjAsIGRlc2NyaXB0aW9uPXUnR2F1c3NpYW4nLCBtYXg9MjQxNS4wLCBzdHlsZT1Qcm9ncmVzc1N0eWxlKGRlc2NyaXB0aW9uX3figKY=\n"
      ]
     },
     "metadata": {},
     "output_type": "display_data"
    },
    {
     "name": "stdout",
     "output_type": "stream",
     "text": [
      "\n"
     ]
    },
    {
     "data": {
      "application/vnd.jupyter.widget-view+json": {
       "model_id": "2f9ae7ca77664c3f893e194785e0fde2",
       "version_major": 2,
       "version_minor": 0
      },
      "text/plain": [
       "SEJveChjaGlsZHJlbj0oRmxvYXRQcm9ncmVzcyh2YWx1ZT0wLjAsIGRlc2NyaXB0aW9uPXUnR2F1c3NpYW4nLCBtYXg9MjQxNS4wLCBzdHlsZT1Qcm9ncmVzc1N0eWxlKGRlc2NyaXB0aW9uX3figKY=\n"
      ]
     },
     "metadata": {},
     "output_type": "display_data"
    },
    {
     "name": "stdout",
     "output_type": "stream",
     "text": [
      "\n"
     ]
    },
    {
     "data": {
      "application/vnd.jupyter.widget-view+json": {
       "model_id": "fefa0454a47047af9fc27f972e688c6f",
       "version_major": 2,
       "version_minor": 0
      },
      "text/plain": [
       "SEJveChjaGlsZHJlbj0oRmxvYXRQcm9ncmVzcyh2YWx1ZT0wLjAsIGRlc2NyaXB0aW9uPXUnR2F1c3NpYW4nLCBtYXg9MjQxNS4wLCBzdHlsZT1Qcm9ncmVzc1N0eWxlKGRlc2NyaXB0aW9uX3figKY=\n"
      ]
     },
     "metadata": {},
     "output_type": "display_data"
    },
    {
     "name": "stdout",
     "output_type": "stream",
     "text": [
      "\n",
      "\n"
     ]
    },
    {
     "data": {
      "application/vnd.jupyter.widget-view+json": {
       "model_id": "18611a3460a249db9621eddf95693322",
       "version_major": 2,
       "version_minor": 0
      },
      "text/plain": [
       "SEJveChjaGlsZHJlbj0oRmxvYXRQcm9ncmVzcyh2YWx1ZT0wLjAsIGRlc2NyaXB0aW9uPXUnSW1hZ2UgRmVhdHVyZXMnLCBtYXg9ODEuMCwgc3R5bGU9UHJvZ3Jlc3NTdHlsZShkZXNjcmlwdGnigKY=\n"
      ]
     },
     "metadata": {},
     "output_type": "display_data"
    },
    {
     "name": "stdout",
     "output_type": "stream",
     "text": [
      "\n"
     ]
    },
    {
     "data": {
      "application/vnd.jupyter.widget-view+json": {
       "model_id": "7b8e4e6247da49c580657aaca4740805",
       "version_major": 2,
       "version_minor": 0
      },
      "text/plain": [
       "SEJveChjaGlsZHJlbj0oRmxvYXRQcm9ncmVzcyh2YWx1ZT0wLjAsIGRlc2NyaXB0aW9uPXUnYyBWYWx1ZXMnLCBtYXg9My4wLCBzdHlsZT1Qcm9ncmVzc1N0eWxlKGRlc2NyaXB0aW9uX3dpZHTigKY=\n"
      ]
     },
     "metadata": {},
     "output_type": "display_data"
    },
    {
     "data": {
      "application/vnd.jupyter.widget-view+json": {
       "model_id": "4387c2246a2547c98c1285c4117d37a3",
       "version_major": 2,
       "version_minor": 0
      },
      "text/plain": [
       "SEJveChjaGlsZHJlbj0oRmxvYXRQcm9ncmVzcyh2YWx1ZT0wLjAsIGRlc2NyaXB0aW9uPXUnR2F1c3NpYW4nLCBtYXg9MjA3MC4wLCBzdHlsZT1Qcm9ncmVzc1N0eWxlKGRlc2NyaXB0aW9uX3figKY=\n"
      ]
     },
     "metadata": {},
     "output_type": "display_data"
    },
    {
     "name": "stdout",
     "output_type": "stream",
     "text": [
      "\n"
     ]
    },
    {
     "data": {
      "application/vnd.jupyter.widget-view+json": {
       "model_id": "604e8d155b654026af47b2f0edcb41b3",
       "version_major": 2,
       "version_minor": 0
      },
      "text/plain": [
       "SEJveChjaGlsZHJlbj0oRmxvYXRQcm9ncmVzcyh2YWx1ZT0wLjAsIGRlc2NyaXB0aW9uPXUnR2F1c3NpYW4nLCBtYXg9MjA3MC4wLCBzdHlsZT1Qcm9ncmVzc1N0eWxlKGRlc2NyaXB0aW9uX3figKY=\n"
      ]
     },
     "metadata": {},
     "output_type": "display_data"
    },
    {
     "name": "stdout",
     "output_type": "stream",
     "text": [
      "\n"
     ]
    },
    {
     "data": {
      "application/vnd.jupyter.widget-view+json": {
       "model_id": "1a86b7287725415487dcec9ac20321eb",
       "version_major": 2,
       "version_minor": 0
      },
      "text/plain": [
       "SEJveChjaGlsZHJlbj0oRmxvYXRQcm9ncmVzcyh2YWx1ZT0wLjAsIGRlc2NyaXB0aW9uPXUnR2F1c3NpYW4nLCBtYXg9MjA3MC4wLCBzdHlsZT1Qcm9ncmVzc1N0eWxlKGRlc2NyaXB0aW9uX3figKY=\n"
      ]
     },
     "metadata": {},
     "output_type": "display_data"
    },
    {
     "name": "stdout",
     "output_type": "stream",
     "text": [
      "\n",
      "\n",
      "\n",
      "\n"
     ]
    }
   ],
   "source": [
    "print('\\n\\n' + ('#' * int(consoleColumns)))\n",
    "print('PERFORMING INTITIAL COMPUTATIONS')\n",
    "print(('#' * int(consoleColumns)) + '\\n')\n",
    "\n",
    "#For each of the training samples, import their images in order\n",
    "#Can switch this section to use .RAW file discretization method instead\n",
    "\n",
    "#Create a set of training samples for each possible c Value\n",
    "trainingDatabase = []\n",
    "for cNum in range(0,len(cValues)): trainingDatabase.append([])\n",
    "\n",
    "trainingSamples = []\n",
    "sortedTrainingSampleFolders = natsort.natsorted(glob.glob(dir_TrainingData + '/*'), reverse=False)    \n",
    "for sampleNum in tqdm(range(0,len(sortedTrainingSampleFolders)), desc = 'Training Samples', leave = True):\n",
    "    trainingSampleFolder = sortedTrainingSampleFolders[sampleNum]\n",
    "    \n",
    "    dataSampleName = os.path.basename(trainingSampleFolder)\n",
    "    images = []\n",
    "    massRanges = []\n",
    "\n",
    "    #Import each of the images according to their mz range order\n",
    "    for imageFileName in natsort.natsorted(glob.glob(trainingSampleFolder + '/*.' + 'csv'), reverse=False):\n",
    "        images.append(np.nan_to_num(np.loadtxt(imageFileName, delimiter=',')))\n",
    "        massRanges.append([os.path.basename(imageFileName)[2:10], os.path.basename(imageFileName)[11:19]])\n",
    "    maskObject = MaskObject(images[0].shape[1], images[0].shape[0], measurementPercs)\n",
    "\n",
    "    #How should the mz ranges be weighted (all equal for now)\n",
    "    mzWeights = np.ones(len(images))/len(images)\n",
    "    \n",
    "    #Append the basic information for each of the provided samples for use in determining best c Value\n",
    "    trainingSamples.append(Sample(dataSampleName, images, massRanges, maskObject, mzWeights, dir_TrainingResults))\n",
    "    \n",
    "    #For each of the measurement percentages, extract features and initial RD values for each image\n",
    "    for measurementPercNum in tqdm(range(0,len(measurementPercs)), desc = 'Measurement %', leave = True):\n",
    "        measurementPerc = measurementPercs[measurementPercNum]\n",
    "        \n",
    "        #Retreive relevant mask information\n",
    "        mask = maskObject.percMasks[measurementPercNum]\n",
    "        measuredIdxs = maskObject.measuredIdxsList[measurementPercNum]\n",
    "        unMeasuredIdxs = maskObject.unMeasuredIdxsList[measurementPercNum]\n",
    "        \n",
    "        #Find neighbor information\n",
    "        neighborIndices, neighborWeights, neighborDistances = findNeighbors(info, measuredIdxs, unMeasuredIdxs)\n",
    "        \n",
    "        #Calculate the sigma values for each possible c\n",
    "        sigmaValues = []\n",
    "        for c in cValues: sigmaValues.append(neighborDistances[:,0]/c)\n",
    "        \n",
    "        #Flatten 2D mask array to 1D\n",
    "        maskVect = np.ravel(mask)\n",
    "        \n",
    "        #Create a random distribution, depending on # of unmeasured points\n",
    "        numRandChoices = int((100.0-measurementPercs[measurementPercNum])*percOfRD*maskObject.area/math.pow(10,math.ceil(math.log10(maskObject.area))))\n",
    "        orderForRD = random.sample(range(0,np.sum(maskVect==False)), numRandChoices) \n",
    "\n",
    "        #Form reconstructions and determine polyFeatures for each of the images\n",
    "        reconImageList = []\n",
    "        polyFeaturesList = []\n",
    "        for imNum in tqdm(range(0,len(images)), desc = 'Image Features', leave = True):\n",
    "            \n",
    "            #Obtain the measured values\n",
    "            measuredValues = np.asarray(images[imNum])[mask==1]\n",
    "            \n",
    "            #Find neighborhood values\n",
    "            neighborValues = findNeighborValues(measuredValues, neighborIndices)\n",
    "            \n",
    "            #Compute reconstructions\n",
    "            reconValues, reconImage = computeRecons(info, maskObject, unMeasuredIdxs, measuredIdxs, neighborValues, neighborWeights, measuredValues)\n",
    "            \n",
    "            #Compute features\n",
    "            polyFeatures = computeFeatures(unMeasuredIdxs, maskObject.area, neighborValues, neighborWeights, neighborDistances, info, reconValues, reconImage)\n",
    "            \n",
    "            #Extract random set of the polyFeatures\n",
    "            polyFeatures = polyFeatures[orderForRD,:]\n",
    "        \n",
    "            #Append to set for employment of averaging method\n",
    "            reconImageList.append(reconImage)\n",
    "            polyFeaturesList.append(polyFeatures)\n",
    "        \n",
    "        #Average the reconstructions according to the mzWeights\n",
    "        reconImage = np.average(np.asarray(reconImageList), axis=0, weights=mzWeights)\n",
    "        \n",
    "        #Average the ground-truth according to the mzWeights\n",
    "        avgImage = np.average(np.asarray(images), axis=0, weights=mzWeights)\n",
    "\n",
    "        #Average the polyFeatures according to the mzWeights\n",
    "        polyFeatures = np.average(np.asarray(polyFeaturesList), axis=0, weights=mzWeights)\n",
    "        \n",
    "        #Compute the difference between the original and reconstructed images\n",
    "        RDPP = computeDifference(avgImage, reconImage, info.imageType)\n",
    "\n",
    "        #Convert differences to int\n",
    "        RDPP.astype(int)\n",
    "\n",
    "        #Pad with zeros\n",
    "        RDPPWithZeros = np.pad(RDPP, [(int(np.floor(windowSize[0]/2)), ), (int(np.floor(windowSize[1]/2)), )], mode='constant')\n",
    "\n",
    "        #Convert into a series of blocks and isolate unmeasured points in those blocks\n",
    "        M, N = windowSize[0], windowSize[1]\n",
    "        imgAsBlocks = viewW(RDPPWithZeros, (M,N)).reshape(-1,M*N)[:,::1]\n",
    "        imgAsBlocksOnlyUnmeasured = imgAsBlocks[np.logical_not(maskVect),:]\n",
    "\n",
    "        #Determine RD values for each of the c Values to finalize formation of the training dataset\n",
    "        temp = np.zeros((windowSize[0]*windowSize[1], len(orderForRD)))\n",
    "        for cNum in tqdm(range(0,len(cValues)), desc = 'c Values', leave = True):\n",
    "            c, sigma = cValues[cNum], sigmaValues[cNum]\n",
    "            \n",
    "            #For each of the selected unmeasured points calculate the captured \"area\"\n",
    "            for index in tqdm(range(0,len(orderForRD)), desc = 'Gaussian', leave = True):\n",
    "                temp[:,index] = imgAsBlocksOnlyUnmeasured[orderForRD[index],:]*generateGaussianKernel(sigma[orderForRD[index]], windowSize)\n",
    "                \n",
    "            #Determine RD; the \"area of uncertainty\" removed\n",
    "            RD = np.sum(temp, axis=0)\n",
    "            \n",
    "            #Add resultant information to the final trainingSamples database for the appropriate c Value\n",
    "            trainingDatabase[cNum].append(TrainingSample(dataSampleName, images, maskObject, massRanges, measurementPerc, polyFeatures, reconImage, orderForRD, RD))\n",
    "            "
   ]
  },
  {
   "cell_type": "code",
   "execution_count": null,
   "metadata": {},
   "outputs": [],
   "source": []
  },
  {
   "cell_type": "code",
   "execution_count": 7,
   "metadata": {
    "scrolled": true
   },
   "outputs": [
    {
     "name": "stdout",
     "output_type": "stream",
     "text": [
      "\n",
      "\n",
      "########################################\n",
      "TRAINING MODEL(S)\n",
      "########################################\n",
      "\n"
     ]
    },
    {
     "data": {
      "application/vnd.jupyter.widget-view+json": {
       "model_id": "75618111c2e347f3a2bd06f671f7968b",
       "version_major": 2,
       "version_minor": 0
      },
      "text/plain": [
       "SEJveChjaGlsZHJlbj0oRmxvYXRQcm9ncmVzcyh2YWx1ZT0wLjAsIGRlc2NyaXB0aW9uPXUnYyBWYWx1ZXMnLCBtYXg9My4wLCBzdHlsZT1Qcm9ncmVzc1N0eWxlKGRlc2NyaXB0aW9uX3dpZHTigKY=\n"
      ]
     },
     "metadata": {},
     "output_type": "display_data"
    },
    {
     "data": {
      "application/vnd.jupyter.widget-view+json": {
       "model_id": "a4674cef68b446c2b4b9544c990ab87b",
       "version_major": 2,
       "version_minor": 0
      },
      "text/plain": [
       "SEJveChjaGlsZHJlbj0oRmxvYXRQcm9ncmVzcyh2YWx1ZT0wLjAsIGRlc2NyaXB0aW9uPXUnVHJhaW5pbmcgRGF0YScsIG1heD02MC4wLCBzdHlsZT1Qcm9ncmVzc1N0eWxlKGRlc2NyaXB0aW/igKY=\n"
      ]
     },
     "metadata": {},
     "output_type": "display_data"
    },
    {
     "name": "stdout",
     "output_type": "stream",
     "text": [
      "\n"
     ]
    },
    {
     "data": {
      "application/vnd.jupyter.widget-view+json": {
       "model_id": "e44f9be2e4934d6e9574fb7b9a184a5f",
       "version_major": 2,
       "version_minor": 0
      },
      "text/plain": [
       "SEJveChjaGlsZHJlbj0oRmxvYXRQcm9ncmVzcyh2YWx1ZT0wLjAsIGRlc2NyaXB0aW9uPXUnVHJhaW5pbmcgRGF0YScsIG1heD02MC4wLCBzdHlsZT1Qcm9ncmVzc1N0eWxlKGRlc2NyaXB0aW/igKY=\n"
      ]
     },
     "metadata": {},
     "output_type": "display_data"
    },
    {
     "name": "stdout",
     "output_type": "stream",
     "text": [
      "\n"
     ]
    },
    {
     "data": {
      "application/vnd.jupyter.widget-view+json": {
       "model_id": "4bf2c512460041fd86ae1fdf83d5ca89",
       "version_major": 2,
       "version_minor": 0
      },
      "text/plain": [
       "SEJveChjaGlsZHJlbj0oRmxvYXRQcm9ncmVzcyh2YWx1ZT0wLjAsIGRlc2NyaXB0aW9uPXUnVHJhaW5pbmcgRGF0YScsIG1heD02MC4wLCBzdHlsZT1Qcm9ncmVzc1N0eWxlKGRlc2NyaXB0aW/igKY=\n"
      ]
     },
     "metadata": {},
     "output_type": "display_data"
    },
    {
     "name": "stdout",
     "output_type": "stream",
     "text": [
      "\n",
      "\n"
     ]
    }
   ],
   "source": [
    "print('\\n\\n' + ('#' * int(consoleColumns)))\n",
    "print('TRAINING MODEL(S)')\n",
    "print(('#' * int(consoleColumns)) + '\\n')\n",
    "#There exists a single training sample for numCValues*numMeasurementPercs*numTrainingSamples\n",
    "\n",
    "#Find a SLADS model for each of the c values\n",
    "trainingModels = []\n",
    "for cNum in tqdm(range(0,len(cValues)), desc = 'c Values', leave = True): #For each of the proposed c values\n",
    "    trainingDataset = trainingDatabase[cNum]\n",
    "    for sampleNum in tqdm(range(0,len(trainingDataset)), desc = 'Training Data', leave = True):\n",
    "        trainingSample = trainingDataset[sampleNum]      \n",
    "        if sampleNum == 0: #First loop\n",
    "            if info.imageType == 'C':\n",
    "                bigPolyFeatures = trainingSample.polyFeatures\n",
    "                bigRD = trainingSample.RD\n",
    "            elif info.imageType == 'D':\n",
    "                bigPolyFeatures = np.column_stack((trainingSample.polyFeatures[:,0:25], trainingSample.polyFeatures[:,26]))\n",
    "                bigRD = trainingSample.RD\n",
    "        else: #Subsequent loops\n",
    "            if info.imageType == 'C':\n",
    "                bigPolyFeatures = np.row_stack((bigPolyFeatures, trainingSample.polyFeatures))\n",
    "                bigRD = np.append(bigRD, trainingSample.RD)\n",
    "            elif info.imageType == 'D':\n",
    "                tempPolyFeatures = np.column_stack((trainingSample.polyFeatures[:,0:25], trainingSample.polyFeatures[:,26]))\n",
    "                bigPolyFeatures = np.row_stack((bigPolyFeatures, tempPolyFeatures))\n",
    "                bigRD = np.append(bigRD, trainingSample.RD)\n",
    "\n",
    "    #Create least-squares regression model\n",
    "    regr = linear_model.LinearRegression()\n",
    "    regr.fit(bigPolyFeatures, bigRD)\n",
    "    \n",
    "    #Extract resultant theta values\n",
    "    if info.imageType == 'C':\n",
    "        theta = regr.coef_\n",
    "    elif info.imageType == 'D':\n",
    "        theta = np.zeros((trainingSample.polyFeatures.shape[1]))\n",
    "        theta[0:24] = regr.coef_[0:24]\n",
    "        theta[26] = regr.coef_[25]\n",
    "    \n",
    "    #Store the generated model\n",
    "    trainingModels.append(theta.copy())\n",
    "\n",
    "#Save the end models and the matched cValue order array\n",
    "np.save(dir_TrainingResults + 'cValues', cValues)\n",
    "pickle.dump(trainingSamples, open(dir_TrainingResults + 'trainingSamples.p', 'wb'))\n",
    "np.save(dir_TrainingResults + 'trainedModels', trainingModels)\n",
    "\n",
    "\n",
    "\n"
   ]
  },
  {
   "cell_type": "code",
   "execution_count": 9,
   "metadata": {
    "scrolled": true
   },
   "outputs": [
    {
     "name": "stdout",
     "output_type": "stream",
     "text": [
      "\n",
      "\n",
      "\n",
      "\n",
      "----------------------------------------\n",
      "DETERMINING BEST C\n",
      "----------------------------------------\n",
      "\n"
     ]
    },
    {
     "data": {
      "application/vnd.jupyter.widget-view+json": {
       "model_id": "90aef9c33d1048148ad0a254c045beaa",
       "version_major": 2,
       "version_minor": 0
      },
      "text/plain": [
       "SEJveChjaGlsZHJlbj0oRmxvYXRQcm9ncmVzcyh2YWx1ZT0wLjAsIGRlc2NyaXB0aW9uPXUnYyBWYWx1ZXMnLCBtYXg9My4wLCBzdHlsZT1Qcm9ncmVzc1N0eWxlKGRlc2NyaXB0aW9uX3dpZHTigKY=\n"
      ]
     },
     "metadata": {},
     "output_type": "display_data"
    },
    {
     "data": {
      "application/vnd.jupyter.widget-view+json": {
       "model_id": "a5c4d61df3d14e6aaf4fd441d7091fff",
       "version_major": 2,
       "version_minor": 0
      },
      "text/plain": [
       "SEJveChjaGlsZHJlbj0oRmxvYXRQcm9ncmVzcyh2YWx1ZT0wLjAsIGRlc2NyaXB0aW9uPXUnVHJhaW5pbmcgU2FtcGxlcycsIG1heD0xMC4wLCBzdHlsZT1Qcm9ncmVzc1N0eWxlKGRlc2NyaXDigKY=\n"
      ]
     },
     "metadata": {},
     "output_type": "display_data"
    },
    {
     "name": "stdout",
     "output_type": "stream",
     "text": [
      "\n"
     ]
    },
    {
     "name": "stderr",
     "output_type": "stream",
     "text": [
      "ERROR:root:Internal Python error in the inspect module.\n",
      "Below is the traceback from this internal error.\n",
      "\n"
     ]
    },
    {
     "name": "stdout",
     "output_type": "stream",
     "text": [
      "Traceback (most recent call last):\n",
      "  File \"/usr/local/lib/python2.7/site-packages/IPython/core/ultratb.py\", line 1132, in get_records\n",
      "    return _fixed_getinnerframes(etb, number_of_lines_of_context, tb_offset)\n",
      "  File \"/usr/local/lib/python2.7/site-packages/IPython/core/ultratb.py\", line 313, in wrapped\n",
      "    return f(*args, **kwargs)\n",
      "  File \"/usr/local/lib/python2.7/site-packages/IPython/core/ultratb.py\", line 358, in _fixed_getinnerframes\n",
      "    records = fix_frame_records_filenames(inspect.getinnerframes(etb, context))\n",
      "  File \"/usr/local/Cellar/python@2/2.7.16/Frameworks/Python.framework/Versions/2.7/lib/python2.7/inspect.py\", line 1058, in getinnerframes\n",
      "    framelist.append((tb.tb_frame,) + getframeinfo(tb, context))\n",
      "  File \"/usr/local/Cellar/python@2/2.7.16/Frameworks/Python.framework/Versions/2.7/lib/python2.7/inspect.py\", line 1018, in getframeinfo\n"
     ]
    },
    {
     "name": "stderr",
     "output_type": "stream",
     "text": [
      "\n",
      "KeyboardInterrupt\n",
      "\n"
     ]
    }
   ],
   "source": [
    "print('\\n\\n\\n\\n' + ('-' * int(consoleColumns)))\n",
    "print('DETERMINING BEST C')\n",
    "print('-' * int(consoleColumns) + '\\n')\n",
    "\n",
    "#Load pre-trained data\n",
    "cValues = np.load(dir_TrainingResults + 'cValues.npy')\n",
    "trainingSamples = pickle.load(open(dir_TrainingResults + 'trainingSamples.p', 'rb'))\n",
    "trainingModels = np.load(dir_TrainingResults + 'trainedModels.npy')\n",
    "\n",
    "areaUnderCurveList = []\n",
    "#For each of the proposed c values\n",
    "for cNum in tqdm(range(0, len(cValues)), desc = 'c Values', leave = True):\n",
    "    theta = trainingModels[cNum]\n",
    "    \n",
    "    #Determine the sum total distortion remaining in the samples\n",
    "    areaUnderCurve = 0\n",
    "\n",
    "    #Run SLADS on all of the samples\n",
    "    results = Parallel(n_jobs=num_threads)(delayed(runSLADS)(info, trainingSamples[sampleNum], trainingSamples[sampleNum].maskObject, theta, stopPerc, simulationFlag=True, trainPlotFlag=False, animationFlag=False) for sampleNum in tqdm(range(0,len(trainingSamples)), desc = 'Training Samples', leave = True))\n",
    "\n",
    "    #Add resulting area under the curve to the rolling sum\n",
    "    for result in results: areaUnderCurve += np.trapz(result.TDList, result.percMeasuredList)\n",
    "    \n",
    "    #for sampleNum in tqdm(range(0,len(trainingSamples)), desc = 'Training Samples', leave = True):\n",
    "        \n",
    "        #Run SLADS till its stopping condition has been met\n",
    "        #result = runSLADS(info, trainingSamples[sampleNum], trainingSamples[sampleNum].maskObject, theta, stopPerc, simulationFlag=True, trainPlotFlag=False, animationFlag=False)\n",
    "        \n",
    "        #Add on the area under the curve to the rolling sum\n",
    "        #areaUnderCurve = areaUnderCurve + np.trapz(result.TDList, result.percMeasuredList)\n",
    "\n",
    "    #Append the total area under the curve\n",
    "    areaUnderCurveList.append(areaUnderCurve)\n",
    "\n",
    "#Select the c value and corresponding theta set that minimizes the summed total distortion across the samples\n",
    "bestIndex = np.argmin(areaUnderCurveList)\n",
    "bestC = cValues[bestIndex]\n",
    "bestTheta = trainingModels[bestIndex]\n",
    "\n",
    "# Find the Threshold on stopping condition that corresponds to the desired total distortion (TD) value set above\n",
    "if findStopThresh:   \n",
    "    sys.error('ERROR! - Automatic determination of a stopping threshold has not yet been fully implemented!')\n",
    "    #threshold = findStoppingThreshold(trainingDataPath,NumImagesForSLADS,Best_c,PercentageInitialMask,DesiredTD,reconPercVector,SizeImage)\n",
    "    #np.save(dir_TrainingResults + 'foundThreshold', threshold) \n",
    "\n",
    "#Save the best model\n",
    "np.save(dir_TrainingResults + 'bestC', bestC)\n",
    "np.save(dir_TrainingResults + 'bestTheta', bestTheta)\n",
    "\n",
    "#Load the best model\n",
    "bestC = np.load(dir_TrainingResults + 'bestC.npy')\n",
    "bestTheta = np.load(dir_TrainingResults + 'bestTheta.npy')\n"
   ]
  },
  {
   "cell_type": "code",
   "execution_count": 11,
   "metadata": {},
   "outputs": [
    {
     "name": "stdout",
     "output_type": "stream",
     "text": [
      "5\n",
      "\n",
      "\n",
      "########################################\n",
      "PLOT TRAINING CONVERGENCE \n",
      "########################################\n",
      "\n",
      "\n",
      "\n",
      "########################################\n",
      "PERFORMING TESTING\n",
      "########################################\n",
      "\n"
     ]
    },
    {
     "data": {
      "application/vnd.jupyter.widget-view+json": {
       "model_id": "df0c2142ea8647a5a2b324eac541b092",
       "version_major": 2,
       "version_minor": 0
      },
      "text/plain": [
       "SEJveChjaGlsZHJlbj0oRmxvYXRQcm9ncmVzcyh2YWx1ZT0wLjAsIGRlc2NyaXB0aW9uPXUnVGVzdGluZyBJbWFnZXMnLCBtYXg9My4wLCBzdHlsZT1Qcm9ncmVzc1N0eWxlKGRlc2NyaXB0aW/igKY=\n"
      ]
     },
     "metadata": {},
     "output_type": "display_data"
    },
    {
     "name": "stdout",
     "output_type": "stream",
     "text": [
      "\n"
     ]
    },
    {
     "ename": "KeyboardInterrupt",
     "evalue": "",
     "output_type": "error",
     "traceback": [
      "\u001b[0;31m---------------------------------------------------------------------------\u001b[0m",
      "\u001b[0;31mKeyboardInterrupt\u001b[0m                         Traceback (most recent call last)",
      "\u001b[0;32m<ipython-input-11-e666d4a4b44b>\u001b[0m in \u001b[0;36m<module>\u001b[0;34m()\u001b[0m\n\u001b[1;32m     29\u001b[0m \u001b[0;34m\u001b[0m\u001b[0m\n\u001b[1;32m     30\u001b[0m \u001b[0;31m#Run SLADS on each of the testing samples\u001b[0m\u001b[0;34m\u001b[0m\u001b[0;34m\u001b[0m\u001b[0m\n\u001b[0;32m---> 31\u001b[0;31m \u001b[0mresults\u001b[0m \u001b[0;34m=\u001b[0m \u001b[0mParallel\u001b[0m\u001b[0;34m(\u001b[0m\u001b[0mn_jobs\u001b[0m\u001b[0;34m=\u001b[0m\u001b[0mnum_threads\u001b[0m\u001b[0;34m)\u001b[0m\u001b[0;34m(\u001b[0m\u001b[0mdelayed\u001b[0m\u001b[0;34m(\u001b[0m\u001b[0mtesting_parhelper\u001b[0m\u001b[0;34m)\u001b[0m\u001b[0;34m(\u001b[0m\u001b[0msortedTestingSampleFolders\u001b[0m\u001b[0;34m[\u001b[0m\u001b[0msampleNum\u001b[0m\u001b[0;34m]\u001b[0m\u001b[0;34m,\u001b[0m \u001b[0minfo\u001b[0m\u001b[0;34m,\u001b[0m \u001b[0mbestTheta\u001b[0m\u001b[0;34m,\u001b[0m \u001b[0mstopPerc\u001b[0m\u001b[0;34m,\u001b[0m \u001b[0manimationGeneration\u001b[0m\u001b[0;34m)\u001b[0m \u001b[0;32mfor\u001b[0m \u001b[0msampleNum\u001b[0m \u001b[0;32min\u001b[0m \u001b[0mtqdm\u001b[0m\u001b[0;34m(\u001b[0m\u001b[0mrange\u001b[0m\u001b[0;34m(\u001b[0m\u001b[0;36m0\u001b[0m\u001b[0;34m,\u001b[0m\u001b[0mlen\u001b[0m\u001b[0;34m(\u001b[0m\u001b[0msortedTestingSampleFolders\u001b[0m\u001b[0;34m)\u001b[0m\u001b[0;34m)\u001b[0m\u001b[0;34m,\u001b[0m \u001b[0mdesc\u001b[0m \u001b[0;34m=\u001b[0m \u001b[0;34m'Testing Images'\u001b[0m\u001b[0;34m,\u001b[0m \u001b[0mleave\u001b[0m \u001b[0;34m=\u001b[0m \u001b[0mTrue\u001b[0m\u001b[0;34m)\u001b[0m\u001b[0;34m)\u001b[0m\u001b[0;34m\u001b[0m\u001b[0m\n\u001b[0m\u001b[1;32m     32\u001b[0m \u001b[0;34m\u001b[0m\u001b[0m\n\u001b[1;32m     33\u001b[0m \u001b[0;31m#Create holding arrays for all of the results\u001b[0m\u001b[0;34m\u001b[0m\u001b[0;34m\u001b[0m\u001b[0m\n",
      "\u001b[0;32m/usr/local/lib/python2.7/site-packages/joblib/parallel.pyc\u001b[0m in \u001b[0;36m__call__\u001b[0;34m(self, iterable)\u001b[0m\n\u001b[1;32m    994\u001b[0m \u001b[0;34m\u001b[0m\u001b[0m\n\u001b[1;32m    995\u001b[0m             \u001b[0;32mwith\u001b[0m \u001b[0mself\u001b[0m\u001b[0;34m.\u001b[0m\u001b[0m_backend\u001b[0m\u001b[0;34m.\u001b[0m\u001b[0mretrieval_context\u001b[0m\u001b[0;34m(\u001b[0m\u001b[0;34m)\u001b[0m\u001b[0;34m:\u001b[0m\u001b[0;34m\u001b[0m\u001b[0m\n\u001b[0;32m--> 996\u001b[0;31m                 \u001b[0mself\u001b[0m\u001b[0;34m.\u001b[0m\u001b[0mretrieve\u001b[0m\u001b[0;34m(\u001b[0m\u001b[0;34m)\u001b[0m\u001b[0;34m\u001b[0m\u001b[0m\n\u001b[0m\u001b[1;32m    997\u001b[0m             \u001b[0;31m# Make sure that we get a last message telling us we are done\u001b[0m\u001b[0;34m\u001b[0m\u001b[0;34m\u001b[0m\u001b[0m\n\u001b[1;32m    998\u001b[0m             \u001b[0melapsed_time\u001b[0m \u001b[0;34m=\u001b[0m \u001b[0mtime\u001b[0m\u001b[0;34m.\u001b[0m\u001b[0mtime\u001b[0m\u001b[0;34m(\u001b[0m\u001b[0;34m)\u001b[0m \u001b[0;34m-\u001b[0m \u001b[0mself\u001b[0m\u001b[0;34m.\u001b[0m\u001b[0m_start_time\u001b[0m\u001b[0;34m\u001b[0m\u001b[0m\n",
      "\u001b[0;32m/usr/local/lib/python2.7/site-packages/joblib/parallel.pyc\u001b[0m in \u001b[0;36mretrieve\u001b[0;34m(self)\u001b[0m\n\u001b[1;32m    897\u001b[0m             \u001b[0;32mtry\u001b[0m\u001b[0;34m:\u001b[0m\u001b[0;34m\u001b[0m\u001b[0m\n\u001b[1;32m    898\u001b[0m                 \u001b[0;32mif\u001b[0m \u001b[0mgetattr\u001b[0m\u001b[0;34m(\u001b[0m\u001b[0mself\u001b[0m\u001b[0;34m.\u001b[0m\u001b[0m_backend\u001b[0m\u001b[0;34m,\u001b[0m \u001b[0;34m'supports_timeout'\u001b[0m\u001b[0;34m,\u001b[0m \u001b[0mFalse\u001b[0m\u001b[0;34m)\u001b[0m\u001b[0;34m:\u001b[0m\u001b[0;34m\u001b[0m\u001b[0m\n\u001b[0;32m--> 899\u001b[0;31m                     \u001b[0mself\u001b[0m\u001b[0;34m.\u001b[0m\u001b[0m_output\u001b[0m\u001b[0;34m.\u001b[0m\u001b[0mextend\u001b[0m\u001b[0;34m(\u001b[0m\u001b[0mjob\u001b[0m\u001b[0;34m.\u001b[0m\u001b[0mget\u001b[0m\u001b[0;34m(\u001b[0m\u001b[0mtimeout\u001b[0m\u001b[0;34m=\u001b[0m\u001b[0mself\u001b[0m\u001b[0;34m.\u001b[0m\u001b[0mtimeout\u001b[0m\u001b[0;34m)\u001b[0m\u001b[0;34m)\u001b[0m\u001b[0;34m\u001b[0m\u001b[0m\n\u001b[0m\u001b[1;32m    900\u001b[0m                 \u001b[0;32melse\u001b[0m\u001b[0;34m:\u001b[0m\u001b[0;34m\u001b[0m\u001b[0m\n\u001b[1;32m    901\u001b[0m                     \u001b[0mself\u001b[0m\u001b[0;34m.\u001b[0m\u001b[0m_output\u001b[0m\u001b[0;34m.\u001b[0m\u001b[0mextend\u001b[0m\u001b[0;34m(\u001b[0m\u001b[0mjob\u001b[0m\u001b[0;34m.\u001b[0m\u001b[0mget\u001b[0m\u001b[0;34m(\u001b[0m\u001b[0;34m)\u001b[0m\u001b[0;34m)\u001b[0m\u001b[0;34m\u001b[0m\u001b[0m\n",
      "\u001b[0;32m/usr/local/lib/python2.7/site-packages/joblib/_parallel_backends.pyc\u001b[0m in \u001b[0;36mwrap_future_result\u001b[0;34m(future, timeout)\u001b[0m\n\u001b[1;32m    515\u001b[0m         AsyncResults.get from multiprocessing.\"\"\"\n\u001b[1;32m    516\u001b[0m         \u001b[0;32mtry\u001b[0m\u001b[0;34m:\u001b[0m\u001b[0;34m\u001b[0m\u001b[0m\n\u001b[0;32m--> 517\u001b[0;31m             \u001b[0;32mreturn\u001b[0m \u001b[0mfuture\u001b[0m\u001b[0;34m.\u001b[0m\u001b[0mresult\u001b[0m\u001b[0;34m(\u001b[0m\u001b[0mtimeout\u001b[0m\u001b[0;34m=\u001b[0m\u001b[0mtimeout\u001b[0m\u001b[0;34m)\u001b[0m\u001b[0;34m\u001b[0m\u001b[0m\n\u001b[0m\u001b[1;32m    518\u001b[0m         \u001b[0;32mexcept\u001b[0m \u001b[0mLokyTimeoutError\u001b[0m\u001b[0;34m:\u001b[0m\u001b[0;34m\u001b[0m\u001b[0m\n\u001b[1;32m    519\u001b[0m             \u001b[0;32mraise\u001b[0m \u001b[0mTimeoutError\u001b[0m\u001b[0;34m(\u001b[0m\u001b[0;34m)\u001b[0m\u001b[0;34m\u001b[0m\u001b[0m\n",
      "\u001b[0;32m/usr/local/lib/python2.7/site-packages/joblib/externals/loky/_base.pyc\u001b[0m in \u001b[0;36mresult\u001b[0;34m(self, timeout)\u001b[0m\n\u001b[1;32m    426\u001b[0m                     \u001b[0;32mreturn\u001b[0m \u001b[0mself\u001b[0m\u001b[0;34m.\u001b[0m\u001b[0m__get_result\u001b[0m\u001b[0;34m(\u001b[0m\u001b[0;34m)\u001b[0m\u001b[0;34m\u001b[0m\u001b[0m\n\u001b[1;32m    427\u001b[0m \u001b[0;34m\u001b[0m\u001b[0m\n\u001b[0;32m--> 428\u001b[0;31m                 \u001b[0mself\u001b[0m\u001b[0;34m.\u001b[0m\u001b[0m_condition\u001b[0m\u001b[0;34m.\u001b[0m\u001b[0mwait\u001b[0m\u001b[0;34m(\u001b[0m\u001b[0mtimeout\u001b[0m\u001b[0;34m)\u001b[0m\u001b[0;34m\u001b[0m\u001b[0m\n\u001b[0m\u001b[1;32m    429\u001b[0m \u001b[0;34m\u001b[0m\u001b[0m\n\u001b[1;32m    430\u001b[0m                 \u001b[0;32mif\u001b[0m \u001b[0mself\u001b[0m\u001b[0;34m.\u001b[0m\u001b[0m_state\u001b[0m \u001b[0;32min\u001b[0m \u001b[0;34m[\u001b[0m\u001b[0mCANCELLED\u001b[0m\u001b[0;34m,\u001b[0m \u001b[0mCANCELLED_AND_NOTIFIED\u001b[0m\u001b[0;34m]\u001b[0m\u001b[0;34m:\u001b[0m\u001b[0;34m\u001b[0m\u001b[0m\n",
      "\u001b[0;32m/usr/local/Cellar/python@2/2.7.16/Frameworks/Python.framework/Versions/2.7/lib/python2.7/threading.pyc\u001b[0m in \u001b[0;36mwait\u001b[0;34m(self, timeout)\u001b[0m\n\u001b[1;32m    338\u001b[0m         \u001b[0;32mtry\u001b[0m\u001b[0;34m:\u001b[0m    \u001b[0;31m# restore state no matter what (e.g., KeyboardInterrupt)\u001b[0m\u001b[0;34m\u001b[0m\u001b[0m\n\u001b[1;32m    339\u001b[0m             \u001b[0;32mif\u001b[0m \u001b[0mtimeout\u001b[0m \u001b[0;32mis\u001b[0m \u001b[0mNone\u001b[0m\u001b[0;34m:\u001b[0m\u001b[0;34m\u001b[0m\u001b[0m\n\u001b[0;32m--> 340\u001b[0;31m                 \u001b[0mwaiter\u001b[0m\u001b[0;34m.\u001b[0m\u001b[0macquire\u001b[0m\u001b[0;34m(\u001b[0m\u001b[0;34m)\u001b[0m\u001b[0;34m\u001b[0m\u001b[0m\n\u001b[0m\u001b[1;32m    341\u001b[0m                 \u001b[0;32mif\u001b[0m \u001b[0m__debug__\u001b[0m\u001b[0;34m:\u001b[0m\u001b[0;34m\u001b[0m\u001b[0m\n\u001b[1;32m    342\u001b[0m                     \u001b[0mself\u001b[0m\u001b[0;34m.\u001b[0m\u001b[0m_note\u001b[0m\u001b[0;34m(\u001b[0m\u001b[0;34m\"%s.wait(): got it\"\u001b[0m\u001b[0;34m,\u001b[0m \u001b[0mself\u001b[0m\u001b[0;34m)\u001b[0m\u001b[0;34m\u001b[0m\u001b[0m\n",
      "\u001b[0;31mKeyboardInterrupt\u001b[0m: "
     ]
    }
   ],
   "source": [
    "#Load pre-trained data from older model save files\n",
    "\n",
    "#cValues = np.load(dir_TrainingResults + 'cValues.npy')\n",
    "#trainingSamples = pickle.load(open(dir_TrainingResults + 'trainingSamples.p', 'rb'))\n",
    "#trainingModels = np.load(dir_TrainingResults + 'trainedModels.npy')\n",
    "#bestC = np.load(dir_TrainingResults + 'bestC.npy')\n",
    "#bestTheta = trainingModels[2]\n",
    "#bestTheta = np.load(dir_TrainingResults + 'bestTheta.npy')\n",
    "\n",
    "#Overide for model selection; everything else below\n",
    "bestIndex = 2\n",
    "bestC = cValues[bestIndex]\n",
    "bestTheta = trainingModels[bestIndex]\n",
    "print(bestC)\n",
    "############################################################################################################\n",
    "\n",
    "\n",
    "print('\\n\\n' + ('#' * int(consoleColumns)))\n",
    "print('PLOT TRAINING CONVERGENCE ')\n",
    "print(('#' * int(consoleColumns)) + '\\n')\n",
    "#Not implemented at this time\n",
    "\n",
    "print('\\n\\n' + ('#' * int(consoleColumns)))\n",
    "print('PERFORMING TESTING')\n",
    "print(('#' * int(consoleColumns)) + '\\n')\n",
    "\n",
    "testingSamples = []\n",
    "sortedTestingSampleFolders = natsort.natsorted(glob.glob(dir_TestingData + '/*'), reverse=False) \n",
    "\n",
    "#Run SLADS on each of the testing samples\n",
    "results = Parallel(n_jobs=num_threads)(delayed(testing_parhelper)(sortedTestingSampleFolders[sampleNum], info, bestTheta, stopPerc, animationGeneration) for sampleNum in tqdm(range(0,len(sortedTestingSampleFolders)), desc = 'Testing Images', leave = True))\n",
    "    \n",
    "#Create holding arrays for all of the results\n",
    "MSE_testingResults = []\n",
    "SSIM_testingResults = []\n",
    "TD_testingResults = []\n",
    "perc_testingResults = []\n",
    "\n",
    "#Extract results from returned object; for every line scanned there is a value\n",
    "for result in results: \n",
    "    MSE_testingResults.append(result.MSEList)\n",
    "    SSIM_testingResults.append(result.SSIMList)\n",
    "    TD_testingResults.append(result.TDList)\n",
    "    perc_testingResults.append(result.percMeasuredList)\n",
    "\n",
    "precision = 0.01\n",
    "\n",
    "percents, testingSSIM_mean = percResults(SSIM_testingResults, perc_testingResults, precision)\n",
    "\n",
    "#Save average SSIM per percentage data\n",
    "np.savetxt(dir_TestingResults+'testingAverageSSIM_Percentage.csv', np.transpose([percents, testingSSIM_mean]), delimiter=',')\n",
    "\n",
    "#Save average SSIM per percentage data in plot\n",
    "font = {'size' : 18}\n",
    "plt.rc('font', **font)\n",
    "f = plt.figure(figsize=(20,8))\n",
    "ax1 = f.add_subplot(1,1,1)    \n",
    "ax1.plot(percents, testingSSIM_mean,color='black') \n",
    "ax1.set_xlabel('% Pixels Measured')\n",
    "ax1.set_ylabel('Average SSIM')\n",
    "plt.savefig(dir_TestingResults + 'testingAverageSSIM_Percentage' + '.png')\n",
    "plt.close()\n",
    "\n",
    "#Find the final results for each image\n",
    "lastSSIMResult = []\n",
    "lastMSEResult = []\n",
    "lastTDResult = []\n",
    "percLinesScanned = []\n",
    "percPixelsScanned = []\n",
    "for i in range(0, len(SSIM_testingResults)):\n",
    "    lastSSIMResult.append(SSIM_testingResults[i][len(SSIM_testingResults[i])-1])\n",
    "    lastMSEResult.append(MSE_testingResults[i][len(MSE_testingResults[i])-1])\n",
    "    lastTDResult.append(TD_testingResults[i][len(TD_testingResults[i])-1])\n",
    "    #percLinesScanned.append((len(SSIM_testingResults[i])/len(maskObject.linesToScan))*100)\n",
    "    percPixelsScanned.append(perc_testingResults[i][len(perc_testingResults[i])-1])\n",
    "\n",
    "#Printout final results \n",
    "dataPrintout = []\n",
    "dataPrintout.append(['Average SSIM:', np.mean(lastSSIMResult), '+/-', np.std(lastSSIMResult)])\n",
    "dataPrintout.append(['Average MSE:', np.mean(lastMSEResult), '+/-', np.std(lastMSEResult)])\n",
    "dataPrintout.append(['Average TD:', np.mean(lastTDResult), '+/-', np.std(lastTDResult)])\n",
    "dataPrintout.append(['Average % Lines Scanned:', np.mean(percLinesScanned),'+/-', np.std(percLinesScanned)])\n",
    "dataPrintout.append(['Average % Pixels Scanned:', np.mean(percPixelsScanned),'+/-',np.std(percPixelsScanned)])\n",
    "pd.DataFrame(dataPrintout).to_csv(dir_TestingResults + 'dataPrintout.csv')\n",
    "\n",
    "#AFTER INTENDED PROCEDURES (TRAINING/TESTING) HAVE BEEN PERFORMED\n",
    "print('\\n\\n\\n' + ('#' * int(consoleColumns)))\n",
    "print('PROGRAM COMPLETE')\n",
    "print('#' * int(consoleColumns) + '\\n')\n",
    "\n"
   ]
  },
  {
   "cell_type": "code",
   "execution_count": null,
   "metadata": {},
   "outputs": [],
   "source": []
  },
  {
   "cell_type": "code",
   "execution_count": null,
   "metadata": {
    "scrolled": true
   },
   "outputs": [],
   "source": []
  },
  {
   "cell_type": "code",
   "execution_count": null,
   "metadata": {},
   "outputs": [],
   "source": [
    "\n",
    "# ERDValueNPs = (ERDValueNPs-np.min(ERDValueNPs))*((255.0-0.0)/(np.max(ERDValueNPs)-np.min(ERDValueNPs)))+0.0\n",
    "# for num in range(0, len(ERDValueNPs)):\n",
    "#     plt.imshow(ERDValueNPs[num]>0, cmap='gray', aspect='auto')\n",
    "#     plt.figsave('test_'+str(num)+'.png')\n",
    "\n"
   ]
  },
  {
   "cell_type": "code",
   "execution_count": null,
   "metadata": {},
   "outputs": [],
   "source": []
  },
  {
   "cell_type": "code",
   "execution_count": null,
   "metadata": {},
   "outputs": [],
   "source": []
  },
  {
   "cell_type": "code",
   "execution_count": null,
   "metadata": {},
   "outputs": [],
   "source": []
  },
  {
   "cell_type": "code",
   "execution_count": null,
   "metadata": {},
   "outputs": [],
   "source": []
  },
  {
   "cell_type": "code",
   "execution_count": null,
   "metadata": {},
   "outputs": [],
   "source": []
  },
  {
   "cell_type": "code",
   "execution_count": null,
   "metadata": {},
   "outputs": [],
   "source": []
  },
  {
   "cell_type": "code",
   "execution_count": null,
   "metadata": {},
   "outputs": [],
   "source": []
  },
  {
   "cell_type": "code",
   "execution_count": null,
   "metadata": {},
   "outputs": [],
   "source": []
  },
  {
   "cell_type": "code",
   "execution_count": null,
   "metadata": {},
   "outputs": [],
   "source": []
  },
  {
   "cell_type": "code",
   "execution_count": null,
   "metadata": {
    "scrolled": false
   },
   "outputs": [],
   "source": []
  },
  {
   "cell_type": "code",
   "execution_count": null,
   "metadata": {},
   "outputs": [],
   "source": []
  },
  {
   "cell_type": "code",
   "execution_count": null,
   "metadata": {},
   "outputs": [],
   "source": []
  },
  {
   "cell_type": "code",
   "execution_count": null,
   "metadata": {},
   "outputs": [],
   "source": []
  },
  {
   "cell_type": "code",
   "execution_count": null,
   "metadata": {},
   "outputs": [],
   "source": []
  },
  {
   "cell_type": "markdown",
   "metadata": {},
   "source": [
    "#NonParallized testing Version; keep for troubleshooting purposes\n",
    "results = []\n",
    "for sampleNum in tqdm(range(0,len(sortedTestingSampleFolders)), desc = 'Testing Samples', leave = True):\n",
    "    testingSampleFolder = sortedTestingSampleFolders[sampleNum]\n",
    "    dataSampleName = os.path.basename(testingSampleFolder)\n",
    "    \n",
    "    #Obtain testing images\n",
    "    images = []\n",
    "    for imageFileName in natsort.natsorted(glob.glob(testingSampleFolder + '/*.' + 'tiff'), reverse=False):\n",
    "        #Temporary solution for reading in the .TIFF files; replace with reading direct from a csv...\n",
    "        images.append(Image.fromarray((libtiff.TIFF.open(imageFileName).read_image()*255.0).astype('uint8')).convert('L'))\n",
    "    \n",
    "    #Read in the width and height; when RAW files are supported\n",
    "    #width, height = pd.read_csv(testingSampleFolder+'/dimensions.csv', sep=',', header=None).values[0].tolist()\n",
    "    width, height = images[0].size\n",
    "    \n",
    "    #Create a new maskObject\n",
    "    maskObject = MaskObject(width, height, measurementPercs=[])\n",
    "    \n",
    "    #How should the mz ranges be weighted (all equal for now)\n",
    "    sys.exit(Error! - desired mass ranges has been deprecated)\n",
    "    mzWeights = np.ones(len(desiredMassRanges))/len(desiredMassRanges)\n",
    "    \n",
    "    #Define information as a new Sample object\n",
    "    testingSample = Sample(dataSampleName, images, desiredMassRanges, maskObject, mzWeights, dir_TestingResults)\n",
    "    \n",
    "    #Run SLADS till its stopping condition has been met\n",
    "    result = runSLADS(info, testingSample, maskObject, bestTheta, stopPerc, simulationFlag=True, trainPlotFlag=False, animationFlag=animationGeneration)\n",
    "    \n",
    "    #Store the result\n",
    "    results.append(result)"
   ]
  },
  {
   "cell_type": "code",
   "execution_count": null,
   "metadata": {
    "scrolled": false
   },
   "outputs": [],
   "source": []
  },
  {
   "cell_type": "code",
   "execution_count": null,
   "metadata": {},
   "outputs": [],
   "source": []
  },
  {
   "cell_type": "code",
   "execution_count": null,
   "metadata": {},
   "outputs": [],
   "source": []
  },
  {
   "cell_type": "code",
   "execution_count": null,
   "metadata": {},
   "outputs": [],
   "source": []
  },
  {
   "cell_type": "code",
   "execution_count": null,
   "metadata": {},
   "outputs": [],
   "source": []
  },
  {
   "cell_type": "code",
   "execution_count": null,
   "metadata": {},
   "outputs": [],
   "source": []
  },
  {
   "cell_type": "code",
   "execution_count": null,
   "metadata": {},
   "outputs": [],
   "source": []
  },
  {
   "cell_type": "code",
   "execution_count": null,
   "metadata": {},
   "outputs": [],
   "source": []
  },
  {
   "cell_type": "code",
   "execution_count": null,
   "metadata": {},
   "outputs": [],
   "source": []
  },
  {
   "cell_type": "code",
   "execution_count": null,
   "metadata": {},
   "outputs": [],
   "source": []
  },
  {
   "cell_type": "code",
   "execution_count": null,
   "metadata": {},
   "outputs": [],
   "source": []
  },
  {
   "cell_type": "code",
   "execution_count": null,
   "metadata": {},
   "outputs": [],
   "source": []
  },
  {
   "cell_type": "code",
   "execution_count": null,
   "metadata": {},
   "outputs": [],
   "source": []
  },
  {
   "cell_type": "code",
   "execution_count": null,
   "metadata": {},
   "outputs": [],
   "source": []
  },
  {
   "cell_type": "code",
   "execution_count": null,
   "metadata": {},
   "outputs": [],
   "source": []
  },
  {
   "cell_type": "code",
   "execution_count": null,
   "metadata": {},
   "outputs": [],
   "source": []
  },
  {
   "cell_type": "code",
   "execution_count": null,
   "metadata": {},
   "outputs": [],
   "source": []
  },
  {
   "cell_type": "code",
   "execution_count": null,
   "metadata": {},
   "outputs": [],
   "source": []
  },
  {
   "cell_type": "code",
   "execution_count": null,
   "metadata": {},
   "outputs": [],
   "source": []
  },
  {
   "cell_type": "code",
   "execution_count": null,
   "metadata": {},
   "outputs": [],
   "source": []
  }
 ],
 "metadata": {
  "kernelspec": {
   "display_name": "Python 3",
   "language": "python",
   "name": "python3"
  },
  "language_info": {
   "codemirror_mode": {
    "name": "ipython",
    "version": 2
   },
   "file_extension": ".py",
   "mimetype": "text/x-python",
   "name": "python",
   "nbconvert_exporter": "python",
   "pygments_lexer": "ipython2",
   "version": "2.7.16"
  }
 },
 "nbformat": 4,
 "nbformat_minor": 2
}
